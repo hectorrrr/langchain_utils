{
 "cells": [
  {
   "cell_type": "markdown",
   "metadata": {},
   "source": [
    "## Building RAG Applications with LangChain"
   ]
  },
  {
   "cell_type": "markdown",
   "metadata": {},
   "source": [
    "#### <div style= \"font-family: Cambria; font-weight:bold; letter-spacing: 0px; color:white; font-size:180%; text-align:left;padding:3.0px; background: maroon; border-bottom: 8px solid black\" > TABLE OF CONTENTS<br><div>\n",
    "* [IMPORTS](#1)\n",
    "* [INTRODUCTION](#2)\n",
    "* [Prompt Templates](#3)\n",
    "* [LLM Models](#4)\n",
    "* [Retriever](#5)\n",
    "* [Chains](#6)\n",
    "    * [Prebuild Chains](#6a)\n",
    "    * [Primitives](#6b)\n",
    "\n",
    "* [Memory](#7)\n",
    "* [Use Case Integration](#8)\n",
    "* [PLANNED WAY FORWARD](#9) "
   ]
  },
  {
   "cell_type": "code",
   "execution_count": 3,
   "metadata": {},
   "outputs": [],
   "source": [
    "import langchain\n",
    "\n",
    "# Prompts:\n",
    "from langchain_core.prompts import (\n",
    "    ChatPromptTemplate,\n",
    "    HumanMessagePromptTemplate,\n",
    "    PromptTemplate\n",
    ")\n",
    "\n",
    "from langchain_core.messages import SystemMessage\n",
    "\n",
    "## LLMs:\n",
    "from langchain_openai import OpenAI, ChatOpenAI\n",
    "from langchain.llms import HuggingFaceHub\n",
    "\n",
    "## Chains\n",
    "from operator import itemgetter\n",
    "from langchain.chains.combine_documents import create_stuff_documents_chain\n",
    "from langchain.chains import create_history_aware_retriever\n",
    "from langchain_core.runnables import RunnableLambda, RunnablePassthrough, RunnableParallel\n",
    "\n",
    "## Retriever\n",
    "from langchain.vectorstores import Chroma\n",
    "from langchain.embeddings.sentence_transformer import SentenceTransformerEmbeddings\n",
    "from langchain.schema import Document\n",
    "\n",
    "## Memory\n",
    "from langchain_core.chat_history import BaseChatMessageHistory\n",
    "from langchain_core.runnables.history import RunnableWithMessageHistory\n",
    "\n"
   ]
  },
  {
   "cell_type": "markdown",
   "metadata": {},
   "source": [
    "<a id=\"2\"></a>\n",
    "# <div style= \"font-family: Cambria; font-weight:bold; letter-spacing: 0px; color: white; font-size:120%; text-align:left;padding:3.0px; background: maroon; border-bottom: 8px solid black\" > INTRODUCTION<br><div>"
   ]
  },
  {
   "cell_type": "markdown",
   "metadata": {},
   "source": [
    "This tutorial is only meant to be a general overview about how to use LangChain Framework to build LLMs applications. We are only going to focus in the subset of functionalities that implement the LCEL capabilities. Also, the aim of this tutorial is to group the main components of these solutions into a single notebook. To this end, it is mainly based on the documentation and examples provided by Langchain  with own comments ([Langchain Docs](https://python.langchain.com/v0.2/docs/concepts/#components)), and is not presented as an own creation."
   ]
  },
  {
   "cell_type": "markdown",
   "metadata": {},
   "source": [
    "<a id=\"3\"></a>\n",
    "# <div style= \"font-family: Cambria; font-weight:bold; letter-spacing: 0px; color: white; font-size:120%; text-align:left;padding:3.0px; background: maroon; border-bottom: 8px solid black\" > Prompt Templates<br><div>\n",
    "\n",
    "The first point when building an application around a LLM is, indeed, the prompts, which are the text inputs that we send to the model.\n",
    "Following the line of the introduction, we are only going to talk about the functionalities that this library provides around these."
   ]
  },
  {
   "cell_type": "markdown",
   "metadata": {},
   "source": [
    "As we pointed in the introduction, the main goal of the LCEL framework definition, is to be able to abstract complex interactions and chains, into a simple sequence of steps. For that methods that are part of a chain should be objects of the [Runnable Interface](https://python.langchain.com/v0.1/docs/expression_language/interface/), which implements object with a set of define methods, as invoke (to call the chain with an input)"
   ]
  },
  {
   "cell_type": "code",
   "execution_count": 4,
   "metadata": {},
   "outputs": [
    {
     "data": {
      "text/plain": [
       "StringPromptValue(text='Tell me a joke about Topic.')"
      ]
     },
     "execution_count": 4,
     "metadata": {},
     "output_type": "execute_result"
    }
   ],
   "source": [
    "prompt_template = PromptTemplate.from_template(\n",
    "    \"Tell me a joke about {topic}.\"\n",
    ")\n",
    "\n",
    "\n",
    "# Here the invoke method just replaces the placeholders\n",
    "# If there is only one input the function identifies it with a string input\n",
    "prompt_template.invoke(\"Topic\")\n",
    "\n",
    "\n"
   ]
  },
  {
   "cell_type": "markdown",
   "metadata": {},
   "source": [
    "Here the invoke method just replaces the placeholders. If there is only one input the function identifies it with a string input. \n",
    "\n",
    "But for cases were we have more than one variable we need to input a dictionary:"
   ]
  },
  {
   "cell_type": "code",
   "execution_count": 5,
   "metadata": {},
   "outputs": [
    {
     "data": {
      "text/plain": [
       "StringPromptValue(text='Tell me a smart joke about Football.')"
      ]
     },
     "execution_count": 5,
     "metadata": {},
     "output_type": "execute_result"
    }
   ],
   "source": [
    "\n",
    "prompt_template_2_slots = PromptTemplate.from_template(\n",
    "    \"Tell me a {adjetive} joke about {topic}.\"\n",
    ")\n",
    "\n",
    "prompt_template_2_slots.invoke({'adjetive':\"smart\", \"topic\": \"Football\"})"
   ]
  },
  {
   "cell_type": "markdown",
   "metadata": {},
   "source": [
    "The other Prompt Template that implements the Interface is the ChatPromptTemplate, which is simmilar to the previous but thought for Chat applications:"
   ]
  },
  {
   "cell_type": "code",
   "execution_count": 6,
   "metadata": {},
   "outputs": [
    {
     "data": {
      "text/plain": [
       "ChatPromptValue(messages=[SystemMessage(content=\"You are a helpful assistant that re-writes the user's text to sound more upbeat.\"), HumanMessage(content='i dont like eating tasty things.')])"
      ]
     },
     "execution_count": 6,
     "metadata": {},
     "output_type": "execute_result"
    }
   ],
   "source": [
    "chat_template = ChatPromptTemplate.from_messages(\n",
    "    [\n",
    "        SystemMessage(\n",
    "            content=(\n",
    "                \"You are a helpful assistant that re-writes the user's text to \"\n",
    "                \"sound more upbeat.\"\n",
    "            )\n",
    "        ),\n",
    "        HumanMessagePromptTemplate.from_template(\"{text}\"),\n",
    "    ]\n",
    ")\n",
    "\n",
    "chat_template.invoke({\"text\": \"i dont like eating tasty things.\"})"
   ]
  },
  {
   "cell_type": "markdown",
   "metadata": {},
   "source": [
    "As we said before, whenever we only have one possible variable input, it accepts string inputs, but this is not the recommended usage, because could lead to mistakes when adding more variables"
   ]
  },
  {
   "cell_type": "code",
   "execution_count": 7,
   "metadata": {},
   "outputs": [
    {
     "data": {
      "text/plain": [
       "ChatPromptValue(messages=[SystemMessage(content=\"You are a helpful assistant that re-writes the user's text to sound more upbeat.\"), HumanMessage(content='I dont like eating tasty things.')])"
      ]
     },
     "execution_count": 7,
     "metadata": {},
     "output_type": "execute_result"
    }
   ],
   "source": [
    "chat_template.invoke(\"I dont like eating tasty things.\")"
   ]
  },
  {
   "cell_type": "markdown",
   "metadata": {},
   "source": [
    "This Runnable is most likely going to be the entrypoint for most of out applications, but its usage it's quite straightforward, so we don't need to lose more time on it."
   ]
  },
  {
   "cell_type": "markdown",
   "metadata": {},
   "source": [
    "<a id=\"4\"></a>\n",
    "# <div style= \"font-family: Cambria; font-weight:bold; letter-spacing: 0px; color: white; font-size:120%; text-align:left;padding:3.0px; background: maroon; border-bottom: 8px solid black\" > LLM Models<br><div>\n",
    "The most important component of any LLM integration system, is, as it's logic, the model being used, here we are going to show how to integrate several models inside of our chain."
   ]
  },
  {
   "cell_type": "markdown",
   "metadata": {},
   "source": [
    "## Let's start with native integrations with LangChain"
   ]
  },
  {
   "cell_type": "code",
   "execution_count": 8,
   "metadata": {},
   "outputs": [],
   "source": [
    "# We need to have our key in the environment variables, as explained in README\n",
    "llm = OpenAI()"
   ]
  },
  {
   "cell_type": "markdown",
   "metadata": {},
   "source": [
    "We can see now that this instance of the object already has all necessary methods to be integrated in a chain (it is a Runnable Object)."
   ]
  },
  {
   "cell_type": "code",
   "execution_count": 9,
   "metadata": {},
   "outputs": [
    {
     "data": {
      "text/plain": [
       "'\\n\\nI have a problem with the stl files, when I import them into cura they are very small, I have to enlarge them by 1000% and then when I print them they are still very small.  \\nDo you know a solution?\\n\\nThank you\\n\\nGreetings\\n\\nErnst\\n\\nHello Ernst,\\n\\nThank you for your question.\\n\\nThis is a common issue that can happen when stl files are not exported properly. It is possible that the stl files you are using have been exported in millimeters instead of meters, which is the standard unit for stl files. This can cause the files to appear very small when imported into Cura.\\n\\nOne solution is to scale the stl files by 1000% as you have been doing. However, this can result in low quality prints as the stl files were not designed to be printed at such a large scale.\\n\\nAnother solution is to re-export the stl files in the correct unit of measurement. Many 3D modeling software programs have the option to export stl files in different units, so make sure to double check the settings before exporting.\\n\\nIf you do not have access to the original files or are unable to re-export them, you can also use the scale feature in Cura to adjust the'"
      ]
     },
     "execution_count": 9,
     "metadata": {},
     "output_type": "execute_result"
    }
   ],
   "source": [
    "llm.invoke(\"Hello\")"
   ]
  },
  {
   "cell_type": "markdown",
   "metadata": {},
   "source": [
    "## Now we can Join our first two steps to see the results"
   ]
  },
  {
   "cell_type": "code",
   "execution_count": 10,
   "metadata": {},
   "outputs": [],
   "source": [
    "first_chain = prompt_template_2_slots | llm"
   ]
  },
  {
   "cell_type": "markdown",
   "metadata": {},
   "source": [
    "This is the syntax to be used to concatenate two Runnables to create a chain, were the output of the first element will serve as input for the second"
   ]
  },
  {
   "cell_type": "code",
   "execution_count": 11,
   "metadata": {},
   "outputs": [
    {
     "data": {
      "text/plain": [
       "'\\n\\nWhy did the football coach go to the bank?\\n\\nTo get his quarterback!'"
      ]
     },
     "execution_count": 11,
     "metadata": {},
     "output_type": "execute_result"
    }
   ],
   "source": [
    "first_chain.invoke({'adjetive':\"smart\", \"topic\": \"Football\"})"
   ]
  },
  {
   "cell_type": "markdown",
   "metadata": {},
   "source": [
    "As we can see the resulting object has the invoke property as the original ones, and it takes as inputs the same inputs that the prompt template.\n",
    "\n",
    "Let's now show a different LLM, as the ones that the HuggingFace API provides [Get HuggingFace Key](https://huggingface.co/docs/hub/security-tokens) (there are several free models):"
   ]
  },
  {
   "cell_type": "code",
   "execution_count": 12,
   "metadata": {},
   "outputs": [
    {
     "name": "stderr",
     "output_type": "stream",
     "text": [
      "c:\\Users\\hecto\\OneDrive\\Escritorio\\github_projects\\langchain_utils\\langchain_env\\lib\\site-packages\\langchain_core\\_api\\deprecation.py:141: LangChainDeprecationWarning: The class `HuggingFaceHub` was deprecated in LangChain 0.0.21 and will be removed in 0.3.0. An updated version of the class exists in the langchain-huggingface package and should be used instead. To use it run `pip install -U langchain-huggingface` and import as `from langchain_huggingface import HuggingFaceEndpoint`.\n",
      "  warn_deprecated(\n",
      "c:\\Users\\hecto\\OneDrive\\Escritorio\\github_projects\\langchain_utils\\langchain_env\\lib\\site-packages\\tqdm\\auto.py:21: TqdmWarning: IProgress not found. Please update jupyter and ipywidgets. See https://ipywidgets.readthedocs.io/en/stable/user_install.html\n",
      "  from .autonotebook import tqdm as notebook_tqdm\n"
     ]
    }
   ],
   "source": [
    "llm_hugging_face = HuggingFaceHub(repo_id = \"google/flan-t5-large\")"
   ]
  },
  {
   "cell_type": "code",
   "execution_count": 13,
   "metadata": {},
   "outputs": [
    {
     "data": {
      "text/plain": [
       "'football is a game of skill'"
      ]
     },
     "execution_count": 13,
     "metadata": {},
     "output_type": "execute_result"
    }
   ],
   "source": [
    "first_chain = prompt_template_2_slots | llm_hugging_face\n",
    "first_chain.invoke({'adjetive':\"smart\", \"topic\": \"Football\"})"
   ]
  },
  {
   "cell_type": "markdown",
   "metadata": {},
   "source": [
    "## What if we need to use an LLM that has not yet been wrapped by LangChain?\n",
    "We still can define a class that implements the same interface around any LLM."
   ]
  },
  {
   "cell_type": "markdown",
   "metadata": {},
   "source": [
    "<a id=\"5\"></a>\n",
    "# <div style= \"font-family: Cambria; font-weight:bold; letter-spacing: 0px; color: white; font-size:120%; text-align:left;padding:3.0px; background: maroon; border-bottom: 8px solid black\" >Retriever<br><div>\n",
    "In order the be able to further contextualize and implement 'Complex' Chains, we are going to introduce already here the context of Retriever. In general, this can be defined as the step of 'Retrieving' additional 'external' data that the application needs, in order to contextualize the process. The Most popular retrievers are those who interact with either Vector Stores, retrieving a set of documents by simmilarity or Knowledge graphs, generating a query for this based on the wanted information. As you might begin to guess, langchain provides multiple 'Built-in' methods to communicate with the most representative services, but more importantly, it gives the bases to create a solution following a defined schema. In that sense we could also implement a 'Custom' Retriever, following the definition of this Base class ([Custom Retriever](https://python.langchain.com/v0.1/docs/modules/data_connection/retrievers/custom_retriever/)).\n",
    "Here We will not go into this component in detail, and will limit to a already existing integration, to create a basic retriever.\n",
    "\n",
    "One of the key concepts for the Vector Database retrieving process, is that, we are going to store textual data, in a numerical high dimensional representation (Vectors), using for it a Embedding pretrained model. Therefore, for specific use cases, where the text belongs to a subdomain (Legal data, medical data, etc...), may be highly convenient to try to addapt the model used to those requirements."
   ]
  },
  {
   "cell_type": "code",
   "execution_count": 14,
   "metadata": {},
   "outputs": [
    {
     "name": "stderr",
     "output_type": "stream",
     "text": [
      "c:\\Users\\hecto\\OneDrive\\Escritorio\\github_projects\\langchain_utils\\langchain_env\\lib\\site-packages\\langchain_core\\_api\\deprecation.py:141: LangChainDeprecationWarning: The class `HuggingFaceEmbeddings` was deprecated in LangChain 0.2.2 and will be removed in 0.3.0. An updated version of the class exists in the langchain-huggingface package and should be used instead. To use it run `pip install -U langchain-huggingface` and import as `from langchain_huggingface import HuggingFaceEmbeddings`.\n",
      "  warn_deprecated(\n",
      "c:\\Users\\hecto\\OneDrive\\Escritorio\\github_projects\\langchain_utils\\langchain_env\\lib\\site-packages\\transformers\\tokenization_utils_base.py:1601: FutureWarning: `clean_up_tokenization_spaces` was not set. It will be set to `True` by default. This behavior will be depracted in transformers v4.45, and will be then set to `False` by default. For more details check this issue: https://github.com/huggingface/transformers/issues/31884\n",
      "  warnings.warn(\n"
     ]
    },
    {
     "name": "stdout",
     "output_type": "stream",
     "text": [
      "Chroma vector database has been populated successfully.\n"
     ]
    }
   ],
   "source": [
    "# Initialize the pre-trained model for generating embeddings\n",
    "model_name = \"sentence-transformers/all-MiniLM-L6-v2\"\n",
    "embedding_model = SentenceTransformerEmbeddings(model_name=model_name)\n",
    "\n",
    "\n",
    "# Sample public data: A list of short Wikipedia summaries\n",
    "texts = [\n",
    "    \"The Eiffel Tower is a wrought-iron lattice tower on the Champ de Mars in Paris, France.\",\n",
    "    \"The Mona Lisa is a half-length portrait painting by the Italian artist Leonardo da Vinci.\",\n",
    "    \"The Great Wall of China is a series of fortifications that were built across the historical northern borders of China.\"\n",
    "]\n",
    "\n",
    "# Create Document objects from the texts\n",
    "docs = [Document(page_content=text) for text in texts]\n",
    "\n",
    "# load it into Chroma\n",
    "db = Chroma.from_documents(docs, embedding_model, persist_directory=\"./chroma_db\")\n",
    "\n",
    "\n",
    "\n",
    "print(\"Chroma vector database has been populated successfully.\")"
   ]
  },
  {
   "cell_type": "markdown",
   "metadata": {},
   "source": [
    "With this code, we have saved out Vector Database to a local directory, now we can reload it to use that database instance as our retriever"
   ]
  },
  {
   "cell_type": "code",
   "execution_count": 15,
   "metadata": {},
   "outputs": [
    {
     "name": "stderr",
     "output_type": "stream",
     "text": [
      "c:\\Users\\hecto\\OneDrive\\Escritorio\\github_projects\\langchain_utils\\langchain_env\\lib\\site-packages\\langchain_core\\_api\\deprecation.py:141: LangChainDeprecationWarning: The class `Chroma` was deprecated in LangChain 0.2.9 and will be removed in 0.4. An updated version of the class exists in the langchain-chroma package and should be used instead. To use it run `pip install -U langchain-chroma` and import as `from langchain_chroma import Chroma`.\n",
      "  warn_deprecated(\n"
     ]
    }
   ],
   "source": [
    "from langchain.vectorstores import Chroma\n",
    "from langchain.embeddings.sentence_transformer import SentenceTransformerEmbeddings\n",
    "# load from disk\n",
    "# Initialize the pre-trained model for generating embeddings\n",
    "model_name = \"sentence-transformers/all-MiniLM-L6-v2\"\n",
    "embedding_model = SentenceTransformerEmbeddings(model_name=model_name)\n",
    "db3 = Chroma(persist_directory=\"./chroma_db\", embedding_function=embedding_model)"
   ]
  },
  {
   "cell_type": "markdown",
   "metadata": {},
   "source": [
    "Langchain already builds this client, so it has a functionality implemented with the Retriever format:"
   ]
  },
  {
   "cell_type": "code",
   "execution_count": 16,
   "metadata": {},
   "outputs": [
    {
     "data": {
      "text/plain": [
       "[Document(page_content='The Mona Lisa is a half-length portrait painting by the Italian artist Leonardo da Vinci.'),\n",
       " Document(page_content='The Mona Lisa is a half-length portrait painting by the Italian artist Leonardo da Vinci.')]"
      ]
     },
     "execution_count": 16,
     "metadata": {},
     "output_type": "execute_result"
    }
   ],
   "source": [
    "db3.as_retriever(search_kwargs= {'k':2}).invoke(\"What is La Mona Lisa?\")"
   ]
  },
  {
   "cell_type": "markdown",
   "metadata": {},
   "source": [
    "<a id=\"6\"></a>\n",
    "# <div style= \"font-family: Cambria; font-weight:bold; letter-spacing: 0px; color: white; font-size:120%; text-align:left;padding:3.0px; background: maroon; border-bottom: 8px solid black\" >Chains<br><div>\n",
    "\n",
    "\n",
    "Even if we have introduced it earlier, here we will go deeper in the concept of chain, the main feature of LangChain. A Chain is the sequence of calls to a set of functionalities (LLMs, tools...). As we mentioned, the prefered way to deal with Chans, and build pipelines using LangChain framework, is by using their LangChain Expression Language ([LCEL](https://python.langchain.com/v0.1/docs/expression_language/)). In this section we are going to describe from Preexisting chains, to how to create a custom Runnable to add to a chain."
   ]
  },
  {
   "cell_type": "markdown",
   "metadata": {},
   "source": [
    "<a id=\"6a\"></a>\n",
    "# <div style= \"font-family: Cambria; font-weight:bold; letter-spacing: 0px; color: white; font-size:100%; text-align:left;padding:2.0px; background: maroon; border-bottom: 6px solid black\" >Existing Chains<br><div>\n",
    "\n",
    "As, we said, here, and following recommendations from LangChain Documentation itself [Chains](https://python.langchain.com/v0.1/docs/modules/chains/), we will only focus in LCEL prebuilt chains, and show the funtionality of some of them. \n",
    "\n",
    "* [create_stuff_documents_chain](https://api.python.langchain.com/en/latest/chains/langchain.chains.combine_documents.stuff.create_stuff_documents_chain.html): This chain is meant specifically to improve and format the retrieved content in RAG applications. It allows an LLM, a prompt, an Output parser, and a Document Prompt (to format each document separately), and retrieves a Runnable that, given a set of Documents, formats them to the specified format.\n"
   ]
  },
  {
   "cell_type": "code",
   "execution_count": 17,
   "metadata": {},
   "outputs": [
    {
     "data": {
      "text/plain": [
       "'\\n\\nJesse: Red\\nJamal: Orange, Green'"
      ]
     },
     "execution_count": 17,
     "metadata": {},
     "output_type": "execute_result"
    }
   ],
   "source": [
    "prompt = ChatPromptTemplate.from_messages(\n",
    "    [(\"system\", \"What are everyone's favorite colors:\\n\\n{context}\")]\n",
    ")\n",
    "llm = ChatOpenAI(model=\"gpt-3.5-turbo\")\n",
    "chain = create_stuff_documents_chain(llm, prompt)\n",
    "\n",
    "docs = [\n",
    "    Document(page_content=\"Jesse loves red but not yellow\"),\n",
    "    Document(page_content = \"Jamal loves green but not as much as he loves orange\")\n",
    "]\n",
    "\n",
    "chain.invoke({\"context\": docs})"
   ]
  },
  {
   "cell_type": "markdown",
   "metadata": {},
   "source": [
    "This is really usefull, as we will see, in RAG cases, to not send the retrieved information without any structure or coherence, between them, and with the goal of the Main Prompt task. Another prebuild chain that would be really usefull is:\n",
    "\n",
    "[create_history_aware_retriever](https://api.python.langchain.com/en/latest/chains/langchain.chains.history_aware_retriever.create_history_aware_retriever.html#langchain.chains.history_aware_retriever.create_history_aware_retriever): This chain modifies the query used to retrieve 'Documents' from a retriever, based in the conversation history. This would be really usefull for a 'Chatbot' Style assistant, so the retrieved information takes into consideration all the previous conversation, and not only the last query from the user. To fully test this functionality we will have to wait until we get into the 'Retriever' and Memory Sections of this Tutorial.\n",
    "\n",
    "<a id=\"6b\"></a>\n",
    "# <div style= \"font-family: Cambria; font-weight:bold; letter-spacing: 0px; color: white; font-size:100%; text-align:left;padding:2.0px; background: maroon; border-bottom: 6px solid black\" >Primitives<br><div>\n",
    "\n",
    "Following LangChain Naming convention, here we are going to explain how we can include any functionality that our Use case could require, using functionalities that allow to extend the Chain functionalities, by creating Runnables, passing information (fields) unaltered to the next step, execute steps in parallel, among others..."
   ]
  },
  {
   "cell_type": "code",
   "execution_count": 18,
   "metadata": {},
   "outputs": [],
   "source": [
    "# Visualize that this prompt defines our problem:\n",
    "\n",
    "multiple_variables_prompt = PromptTemplate.from_template(\n",
    "    \"This is a simple matematical operator, given a Value: {x}, another Value {y}, and {z}, calculate: x*y, x-y, z*x\"\n",
    ")\n",
    "\n",
    "numerical_chain = multiple_variables_prompt | llm"
   ]
  },
  {
   "cell_type": "markdown",
   "metadata": {},
   "source": [
    "Our entry to this prompt, and the consequent chain would be a dictionary with three keys (x,y,z):"
   ]
  },
  {
   "cell_type": "code",
   "execution_count": 19,
   "metadata": {},
   "outputs": [
    {
     "data": {
      "text/plain": [
       "AIMessage(content='x*y = -3 * 6 = -18\\nx-y = -3 - 6 = -9\\nz*x = 9 * -3 = -27', additional_kwargs={'refusal': None}, response_metadata={'token_usage': {'completion_tokens': 35, 'prompt_tokens': 42, 'total_tokens': 77}, 'model_name': 'gpt-3.5-turbo-0125', 'system_fingerprint': None, 'finish_reason': 'stop', 'logprobs': None}, id='run-ddf698c1-63bf-4d0b-b1f0-25305e88a03a-0', usage_metadata={'input_tokens': 42, 'output_tokens': 35, 'total_tokens': 77})"
      ]
     },
     "execution_count": 19,
     "metadata": {},
     "output_type": "execute_result"
    }
   ],
   "source": [
    "numerical_chain.invoke({\"x\":-3,\"y\":6,\"z\":9})"
   ]
  },
  {
   "cell_type": "markdown",
   "metadata": {},
   "source": [
    "But, what if, by any reason, the x specified in the prompt in not the same x that the one we want to use in the equation of the chain ? For instance, if we want x to be always positive, but we can receive negative values, we should apply the absulute value. "
   ]
  },
  {
   "cell_type": "code",
   "execution_count": 20,
   "metadata": {},
   "outputs": [],
   "source": [
    "def absolute_value(x):\n",
    "    return abs(x)"
   ]
  },
  {
   "cell_type": "code",
   "execution_count": 21,
   "metadata": {},
   "outputs": [],
   "source": [
    "\n",
    "abs_value_chain = (\n",
    "    {\n",
    "        \"x\": itemgetter(\"x\") | RunnableLambda(absolute_value),\n",
    "        \"y\": itemgetter(\"y\") | RunnablePassthrough(),\n",
    "        \"z\": itemgetter(\"z\") | RunnablePassthrough()\n",
    "    }\n",
    "    | multiple_variables_prompt\n",
    "    | llm\n",
    ")\n"
   ]
  },
  {
   "cell_type": "markdown",
   "metadata": {},
   "source": [
    "We see here both the concept of RunnableLambda:  A method that converts a custom function into a Runnable, and RunnablePassthrough, a Runnable that gets and input and forwards it to the next step in the chain"
   ]
  },
  {
   "cell_type": "code",
   "execution_count": 22,
   "metadata": {},
   "outputs": [
    {
     "data": {
      "text/plain": [
       "AIMessage(content='x*y = 3 * 6 = 18\\nx-y = 3 - 6 = -3\\nz*x = 9 * 3 = 27', additional_kwargs={'refusal': None}, response_metadata={'token_usage': {'completion_tokens': 35, 'prompt_tokens': 42, 'total_tokens': 77}, 'model_name': 'gpt-3.5-turbo-0125', 'system_fingerprint': None, 'finish_reason': 'stop', 'logprobs': None}, id='run-aad931d1-d1be-43f3-9094-6e77278a8616-0', usage_metadata={'input_tokens': 42, 'output_tokens': 35, 'total_tokens': 77})"
      ]
     },
     "execution_count": 22,
     "metadata": {},
     "output_type": "execute_result"
    }
   ],
   "source": [
    "abs_value_chain.invoke({\"x\":-3,\"y\":6,\"z\":9})"
   ]
  },
  {
   "cell_type": "markdown",
   "metadata": {},
   "source": [
    "*RunnableParallel*: We have just used this functionality, is nothing more than a 'dictionary' of Runnable values, that are applied in parallel. In the previous example we ruuned a operation for each key (x,y,z) in parallel. The following to notations are equivalent:"
   ]
  },
  {
   "cell_type": "code",
   "execution_count": 23,
   "metadata": {},
   "outputs": [
    {
     "data": {
      "text/plain": [
       "AIMessage(content='x*y = 3*6 = 18\\nx-y = 3-6 = -3\\nz*x = 9*3 = 27', additional_kwargs={'refusal': None}, response_metadata={'token_usage': {'completion_tokens': 32, 'prompt_tokens': 42, 'total_tokens': 74}, 'model_name': 'gpt-3.5-turbo-0125', 'system_fingerprint': None, 'finish_reason': 'stop', 'logprobs': None}, id='run-45a98804-4be6-4236-a18d-66ca7d84dc40-0', usage_metadata={'input_tokens': 42, 'output_tokens': 32, 'total_tokens': 74})"
      ]
     },
     "execution_count": 23,
     "metadata": {},
     "output_type": "execute_result"
    }
   ],
   "source": [
    "abs_value_chain = (\n",
    "    {\n",
    "        \"x\": itemgetter(\"x\") | RunnableLambda(absolute_value),\n",
    "        \"y\": itemgetter(\"y\") | RunnablePassthrough(),\n",
    "        \"z\": itemgetter(\"z\") | RunnablePassthrough()\n",
    "    }\n",
    "    | multiple_variables_prompt\n",
    "    | llm\n",
    ")\n",
    "\n",
    "\n",
    "abs_value_chain_parallel = (\n",
    "    RunnableParallel(\n",
    "        x= (itemgetter(\"x\") | RunnableLambda(absolute_value)),\n",
    "        y= (itemgetter(\"y\") | RunnablePassthrough()),\n",
    "        z= (itemgetter(\"z\") | RunnablePassthrough())\n",
    "    )\n",
    "    | multiple_variables_prompt\n",
    "    | llm\n",
    "\n",
    ")\n",
    "abs_value_chain_parallel.invoke({\"x\":-3,\"y\":6,\"z\":9})"
   ]
  },
  {
   "cell_type": "markdown",
   "metadata": {},
   "source": [
    "<a id=\"7\"></a>\n",
    "# <div style= \"font-family: Cambria; font-weight:bold; letter-spacing: 0px; color: white; font-size:120%; text-align:left;padding:3.0px; background: maroon; border-bottom: 8px solid black\" >Memory<br><div>\n",
    "\n",
    "\n",
    "The last fundamental component, for some of the potential applications (specially chatbots) is the memory. Similar as what happened with the Chains, Langchain has several Legacy memory handling functionalities, tbat do not follow the LCEL schema, and are not recommended for production ready use cases [Memory Handling](https://python.langchain.com/v0.1/docs/modules/memory/). Therefore, we will focus here only in the *ChatMessageHistory*, the only one that is recommended for production ready scenarios."
   ]
  },
  {
   "cell_type": "code",
   "execution_count": 24,
   "metadata": {},
   "outputs": [],
   "source": [
    "from langchain.memory import ChatMessageHistory\n",
    "history = ChatMessageHistory()\n",
    "history.add_user_message(\"hi!\")\n",
    "history.add_ai_message(\"whats up?\")"
   ]
  },
  {
   "cell_type": "code",
   "execution_count": 25,
   "metadata": {},
   "outputs": [
    {
     "data": {
      "text/plain": [
       "[HumanMessage(content='hi!'), AIMessage(content='whats up?')]"
      ]
     },
     "execution_count": 25,
     "metadata": {},
     "output_type": "execute_result"
    }
   ],
   "source": [
    "history.messages"
   ]
  },
  {
   "cell_type": "markdown",
   "metadata": {},
   "source": [
    "As we can see this is just a really simple and straightforward Class, that implements several methods to store and retrieve messages, and we can access them throught an attribute. It would be completely feasible to handle ourself the message recording and tracking at runtime, but there are already prebuild (and probably more consistent) chains, that are build around this object, and take care of the Memory handling:"
   ]
  },
  {
   "cell_type": "code",
   "execution_count": 26,
   "metadata": {},
   "outputs": [],
   "source": [
    "# We need to use a base chain:\n",
    "prompt_template = PromptTemplate.from_template(\n",
    "    \"\"\"You are an art museum guide, your main objective is to provide information about paintings and artistic styles. You should consider the current history of the conversation:\n",
    "    {history} \n",
    "    User Question\n",
    "    {question}.\"\"\"\n",
    ")\n",
    "\n",
    "\n",
    "\n",
    "memory_chain = prompt_template | llm\n",
    "\n",
    "\n",
    "store = {}\n",
    "\n",
    "\n",
    "def get_session_history(session_id: str) -> BaseChatMessageHistory:\n",
    "    if session_id not in store:\n",
    "        store[session_id] = ChatMessageHistory()\n",
    "    return store[session_id]\n",
    "\n",
    "\n",
    "with_message_history = RunnableWithMessageHistory(\n",
    "    memory_chain,\n",
    "    get_session_history,\n",
    "    input_messages_key=\"question\",\n",
    "    # output_messages_key=\"output_message\",\n",
    "    history_messages_key=\"history\",\n",
    ")"
   ]
  },
  {
   "cell_type": "code",
   "execution_count": 27,
   "metadata": {},
   "outputs": [
    {
     "data": {
      "text/plain": [
       "AIMessage(content=\"Art Museum Guide Response\\nOf course! The Mona Lisa, painted by Leonardo da Vinci in the early 16th century, is an iconic example of the High Renaissance style. This style is characterized by a focus on realistic representation, harmonious composition, and a sense of balance and proportion. Leonardo da Vinci's use of sfumato, a technique that creates soft, gradual transitions between colors and tones, is particularly evident in the Mona Lisa, giving her enigmatic smile and lifelike appearance.\", additional_kwargs={'refusal': None}, response_metadata={'token_usage': {'completion_tokens': 100, 'prompt_tokens': 58, 'total_tokens': 158}, 'model_name': 'gpt-3.5-turbo-0125', 'system_fingerprint': None, 'finish_reason': 'stop', 'logprobs': None}, id='run-b33af289-3c45-4e93-ac3e-47c99950c961-0', usage_metadata={'input_tokens': 58, 'output_tokens': 100, 'total_tokens': 158})"
      ]
     },
     "execution_count": 27,
     "metadata": {},
     "output_type": "execute_result"
    }
   ],
   "source": [
    "with_message_history.invoke({\"question\":\"Hello, can you tell me the style of the Mona Lisa?\"},\n",
    "                            config={\"configurable\": {\"session_id\": \"baz\"}})"
   ]
  },
  {
   "cell_type": "code",
   "execution_count": 28,
   "metadata": {},
   "outputs": [
    {
     "data": {
      "text/plain": [
       "AIMessage(content=\"Art Museum Guide Response\\nOf course! The Mona Lisa, painted by Leonardo da Vinci in the early 16th century, is an iconic example of the High Renaissance style. This style is characterized by a focus on realistic representation, harmonious composition, and a sense of balance and proportion. Leonardo da Vinci's use of sfumato, a technique that creates soft, gradual transitions between colors and tones, is particularly evident in the Mona Lisa, giving her enigmatic smile and lifelike appearance.\", additional_kwargs={'refusal': None}, response_metadata={'token_usage': {'completion_tokens': 100, 'prompt_tokens': 299, 'total_tokens': 399}, 'model_name': 'gpt-3.5-turbo-0125', 'system_fingerprint': None, 'finish_reason': 'stop', 'logprobs': None}, id='run-7363a676-fc07-4aad-b853-ed53c94d755a-0', usage_metadata={'input_tokens': 299, 'output_tokens': 100, 'total_tokens': 399})"
      ]
     },
     "execution_count": 28,
     "metadata": {},
     "output_type": "execute_result"
    }
   ],
   "source": [
    "with_message_history.invoke({\"question\":\"What did you Just said?\"},\n",
    "                            config={\"configurable\": {\"session_id\": \"baz\"}})"
   ]
  },
  {
   "cell_type": "code",
   "execution_count": 29,
   "metadata": {},
   "outputs": [
    {
     "data": {
      "text/plain": [
       "InMemoryChatMessageHistory(messages=[HumanMessage(content='Hello, can you tell me the style of the Mona Lisa?'), AIMessage(content=\"Art Museum Guide Response\\nOf course! The Mona Lisa, painted by Leonardo da Vinci in the early 16th century, is an iconic example of the High Renaissance style. This style is characterized by a focus on realistic representation, harmonious composition, and a sense of balance and proportion. Leonardo da Vinci's use of sfumato, a technique that creates soft, gradual transitions between colors and tones, is particularly evident in the Mona Lisa, giving her enigmatic smile and lifelike appearance.\", additional_kwargs={'refusal': None}, response_metadata={'token_usage': {'completion_tokens': 100, 'prompt_tokens': 58, 'total_tokens': 158}, 'model_name': 'gpt-3.5-turbo-0125', 'system_fingerprint': None, 'finish_reason': 'stop', 'logprobs': None}, id='run-b33af289-3c45-4e93-ac3e-47c99950c961-0', usage_metadata={'input_tokens': 58, 'output_tokens': 100, 'total_tokens': 158}), HumanMessage(content='What did you Just said?'), AIMessage(content=\"Art Museum Guide Response\\nOf course! The Mona Lisa, painted by Leonardo da Vinci in the early 16th century, is an iconic example of the High Renaissance style. This style is characterized by a focus on realistic representation, harmonious composition, and a sense of balance and proportion. Leonardo da Vinci's use of sfumato, a technique that creates soft, gradual transitions between colors and tones, is particularly evident in the Mona Lisa, giving her enigmatic smile and lifelike appearance.\", additional_kwargs={'refusal': None}, response_metadata={'token_usage': {'completion_tokens': 100, 'prompt_tokens': 299, 'total_tokens': 399}, 'model_name': 'gpt-3.5-turbo-0125', 'system_fingerprint': None, 'finish_reason': 'stop', 'logprobs': None}, id='run-7363a676-fc07-4aad-b853-ed53c94d755a-0', usage_metadata={'input_tokens': 299, 'output_tokens': 100, 'total_tokens': 399})])"
      ]
     },
     "execution_count": 29,
     "metadata": {},
     "output_type": "execute_result"
    }
   ],
   "source": [
    "with_message_history.get_session_history(session_id=\"baz\")"
   ]
  },
  {
   "cell_type": "markdown",
   "metadata": {},
   "source": [
    "<a id=\"8\"></a>\n",
    "# <div style= \"font-family: Cambria; font-weight:bold; letter-spacing: 0px; color: white; font-size:120%; text-align:left;padding:3.0px; background: maroon; border-bottom: 8px solid black\" >Use Case Integration<br><div>\n",
    "\n"
   ]
  },
  {
   "cell_type": "markdown",
   "metadata": {},
   "source": [
    "To finish this tutorial, we are going to develop an end to end real arquitecture for the following use case requirements:\n",
    "\n",
    "An Art Museum Guide, that needs to remember previous questions, needs to answer with more focus in the context provided, and should only remember the last 2 messages."
   ]
  },
  {
   "cell_type": "code",
   "execution_count": 30,
   "metadata": {},
   "outputs": [
    {
     "data": {
      "text/plain": [
       "AIMessage(content='Guide: The Mona Lisa is painted in the style of the Italian Renaissance, which was a period of great artistic and cultural achievement in Italy. Leonardo da Vinci, the artist who painted the Mona Lisa, was a prominent figure in the Renaissance movement, known for his attention to detail, use of perspective, and realistic portrayal of the human form.', additional_kwargs={'refusal': None}, response_metadata={'token_usage': {'completion_tokens': 68, 'prompt_tokens': 127, 'total_tokens': 195}, 'model_name': 'gpt-3.5-turbo-0125', 'system_fingerprint': None, 'finish_reason': 'stop', 'logprobs': None}, id='run-ab7b0d8a-df91-48c9-af39-9f2300f72340-0', usage_metadata={'input_tokens': 127, 'output_tokens': 68, 'total_tokens': 195})"
      ]
     },
     "execution_count": 30,
     "metadata": {},
     "output_type": "execute_result"
    }
   ],
   "source": [
    "# First step would be to define a prompt, with placeholders for all the information that we want to send to the LLM\n",
    "\n",
    "prompt_museum_guide =  PromptTemplate.from_template(\"\"\"\n",
    "You are the guide of an Art museum, you should answer to people questions, about Paints and\n",
    "artistic styles, focusing you answers in the usage of the provided context always if that is possible, and considering what has been already told in the conversation.\n",
    "\n",
    "Context: {context}\n",
    "\n",
    "Current Conversation: {history}\n",
    "\n",
    "User question: {question}\n",
    "\"\"\")\n",
    "\n",
    "\n",
    "# Now that we have in mind the fields that we need to provide to our prompt, we can define the components that are going to provide them, first one would be the retriever:\n",
    "retriever = db3.as_retriever(search_kwargs={'k': 2})\n",
    "\n",
    "# Now the LLM that we will use:\n",
    "llm = ChatOpenAI()\n",
    "\n",
    "# Lets add this together already to check the behaviour:\n",
    "\n",
    "first_chain = {'context':retriever,'question':RunnablePassthrough(),'history':RunnablePassthrough()} | prompt_museum_guide | llm\n",
    "\n",
    "\n",
    "first_chain.invoke(\"What style is La Mona Lisa ?\")\n",
    "\n",
    "\n",
    "\n"
   ]
  },
  {
   "cell_type": "markdown",
   "metadata": {},
   "source": [
    "To get a more detailed view of the different steps that are happening in our chain we can set debug to true:"
   ]
  },
  {
   "cell_type": "code",
   "execution_count": 31,
   "metadata": {},
   "outputs": [
    {
     "name": "stdout",
     "output_type": "stream",
     "text": [
      "\u001b[32;1m\u001b[1;3m[chain/start]\u001b[0m \u001b[1m[chain:RunnableSequence] Entering Chain run with input:\n",
      "\u001b[0m{\n",
      "  \"input\": \"What style is La Mona Lisa ?\"\n",
      "}\n",
      "\u001b[32;1m\u001b[1;3m[chain/start]\u001b[0m \u001b[1m[chain:RunnableSequence > chain:RunnableParallel<context,question,history>] Entering Chain run with input:\n",
      "\u001b[0m{\n",
      "  \"input\": \"What style is La Mona Lisa ?\"\n",
      "}\n",
      "\u001b[32;1m\u001b[1;3m[chain/start]\u001b[0m \u001b[1m[chain:RunnableSequence > chain:RunnableParallel<context,question,history> > chain:RunnablePassthrough] Entering Chain run with input:\n",
      "\u001b[0m{\n",
      "  \"input\": \"What style is La Mona Lisa ?\"\n",
      "}\n",
      "\u001b[36;1m\u001b[1;3m[chain/end]\u001b[0m \u001b[1m[chain:RunnableSequence > chain:RunnableParallel<context,question,history> > chain:RunnablePassthrough] [0ms] Exiting Chain run with output:\n",
      "\u001b[0m{\n",
      "  \"output\": \"What style is La Mona Lisa ?\"\n",
      "}\n",
      "\u001b[32;1m\u001b[1;3m[chain/start]\u001b[0m \u001b[1m[chain:RunnableSequence > chain:RunnableParallel<context,question,history> > chain:RunnablePassthrough] Entering Chain run with input:\n",
      "\u001b[0m{\n",
      "  \"input\": \"What style is La Mona Lisa ?\"\n",
      "}\n",
      "\u001b[36;1m\u001b[1;3m[chain/end]\u001b[0m \u001b[1m[chain:RunnableSequence > chain:RunnableParallel<context,question,history> > chain:RunnablePassthrough] [1ms] Exiting Chain run with output:\n",
      "\u001b[0m{\n",
      "  \"output\": \"What style is La Mona Lisa ?\"\n",
      "}\n",
      "\u001b[36;1m\u001b[1;3m[chain/end]\u001b[0m \u001b[1m[chain:RunnableSequence > chain:RunnableParallel<context,question,history>] [21ms] Exiting Chain run with output:\n",
      "\u001b[0m[outputs]\n",
      "\u001b[32;1m\u001b[1;3m[chain/start]\u001b[0m \u001b[1m[chain:RunnableSequence > prompt:PromptTemplate] Entering Prompt run with input:\n",
      "\u001b[0m[inputs]\n",
      "\u001b[36;1m\u001b[1;3m[chain/end]\u001b[0m \u001b[1m[chain:RunnableSequence > prompt:PromptTemplate] [0ms] Exiting Prompt run with output:\n",
      "\u001b[0m[outputs]\n",
      "\u001b[32;1m\u001b[1;3m[llm/start]\u001b[0m \u001b[1m[chain:RunnableSequence > llm:ChatOpenAI] Entering LLM run with input:\n",
      "\u001b[0m{\n",
      "  \"prompts\": [\n",
      "    \"Human: \\nYou are the guide of an Art museum, you should answer to people questions, about Paints and\\nartistic styles, focusing you answers in the usage of the provided context always if that is possible, and considering what has been already told in the conversation.\\n\\nContext: [Document(page_content='The Mona Lisa is a half-length portrait painting by the Italian artist Leonardo da Vinci.'), Document(page_content='The Mona Lisa is a half-length portrait painting by the Italian artist Leonardo da Vinci.')]\\n\\nCurrent Conversation: What style is La Mona Lisa ?\\n\\nUser question: What style is La Mona Lisa ?\"\n",
      "  ]\n",
      "}\n",
      "\u001b[36;1m\u001b[1;3m[llm/end]\u001b[0m \u001b[1m[chain:RunnableSequence > llm:ChatOpenAI] [1.47s] Exiting LLM run with output:\n",
      "\u001b[0m{\n",
      "  \"generations\": [\n",
      "    [\n",
      "      {\n",
      "        \"text\": \"Guide: La Mona Lisa is painted in the style of Renaissance art, which was a period of great cultural and artistic achievement in Europe, particularly in Italy. Leonardo da Vinci, the artist who painted the Mona Lisa, was a key figure in the Renaissance art movement, known for his attention to detail and realistic portrayal of the human form.\",\n",
      "        \"generation_info\": {\n",
      "          \"finish_reason\": \"stop\",\n",
      "          \"logprobs\": null\n",
      "        },\n",
      "        \"type\": \"ChatGeneration\",\n",
      "        \"message\": {\n",
      "          \"lc\": 1,\n",
      "          \"type\": \"constructor\",\n",
      "          \"id\": [\n",
      "            \"langchain\",\n",
      "            \"schema\",\n",
      "            \"messages\",\n",
      "            \"AIMessage\"\n",
      "          ],\n",
      "          \"kwargs\": {\n",
      "            \"content\": \"Guide: La Mona Lisa is painted in the style of Renaissance art, which was a period of great cultural and artistic achievement in Europe, particularly in Italy. Leonardo da Vinci, the artist who painted the Mona Lisa, was a key figure in the Renaissance art movement, known for his attention to detail and realistic portrayal of the human form.\",\n",
      "            \"additional_kwargs\": {\n",
      "              \"refusal\": null\n",
      "            },\n",
      "            \"response_metadata\": {\n",
      "              \"token_usage\": {\n",
      "                \"completion_tokens\": 67,\n",
      "                \"prompt_tokens\": 127,\n",
      "                \"total_tokens\": 194\n",
      "              },\n",
      "              \"model_name\": \"gpt-3.5-turbo-0125\",\n",
      "              \"system_fingerprint\": null,\n",
      "              \"finish_reason\": \"stop\",\n",
      "              \"logprobs\": null\n",
      "            },\n",
      "            \"type\": \"ai\",\n",
      "            \"id\": \"run-38345606-466a-40a7-b5bb-92a9f7c4e80e-0\",\n",
      "            \"usage_metadata\": {\n",
      "              \"input_tokens\": 127,\n",
      "              \"output_tokens\": 67,\n",
      "              \"total_tokens\": 194\n",
      "            },\n",
      "            \"tool_calls\": [],\n",
      "            \"invalid_tool_calls\": []\n",
      "          }\n",
      "        }\n",
      "      }\n",
      "    ]\n",
      "  ],\n",
      "  \"llm_output\": {\n",
      "    \"token_usage\": {\n",
      "      \"completion_tokens\": 67,\n",
      "      \"prompt_tokens\": 127,\n",
      "      \"total_tokens\": 194\n",
      "    },\n",
      "    \"model_name\": \"gpt-3.5-turbo-0125\",\n",
      "    \"system_fingerprint\": null\n",
      "  },\n",
      "  \"run\": null\n",
      "}\n",
      "\u001b[36;1m\u001b[1;3m[chain/end]\u001b[0m \u001b[1m[chain:RunnableSequence] [1.50s] Exiting Chain run with output:\n",
      "\u001b[0m[outputs]\n"
     ]
    },
    {
     "data": {
      "text/plain": [
       "AIMessage(content='Guide: La Mona Lisa is painted in the style of Renaissance art, which was a period of great cultural and artistic achievement in Europe, particularly in Italy. Leonardo da Vinci, the artist who painted the Mona Lisa, was a key figure in the Renaissance art movement, known for his attention to detail and realistic portrayal of the human form.', additional_kwargs={'refusal': None}, response_metadata={'token_usage': {'completion_tokens': 67, 'prompt_tokens': 127, 'total_tokens': 194}, 'model_name': 'gpt-3.5-turbo-0125', 'system_fingerprint': None, 'finish_reason': 'stop', 'logprobs': None}, id='run-38345606-466a-40a7-b5bb-92a9f7c4e80e-0', usage_metadata={'input_tokens': 127, 'output_tokens': 67, 'total_tokens': 194})"
      ]
     },
     "execution_count": 31,
     "metadata": {},
     "output_type": "execute_result"
    }
   ],
   "source": [
    "langchain.debug=True\n",
    "first_chain.invoke(\"What style is La Mona Lisa ?\")"
   ]
  },
  {
   "cell_type": "markdown",
   "metadata": {},
   "source": [
    "## Now we wrap this chain inside of the History chain"
   ]
  },
  {
   "cell_type": "code",
   "execution_count": 32,
   "metadata": {},
   "outputs": [],
   "source": [
    "with_message_history = RunnableWithMessageHistory(\n",
    "    itemgetter(\"input\") | first_chain,\n",
    "    get_session_history,\n",
    "    input_messages_key=\"input\",\n",
    "    history_messages_key=\"history\"\n",
    ")"
   ]
  },
  {
   "cell_type": "code",
   "execution_count": 33,
   "metadata": {},
   "outputs": [
    {
     "name": "stdout",
     "output_type": "stream",
     "text": [
      "\u001b[32;1m\u001b[1;3m[chain/start]\u001b[0m \u001b[1m[chain:RunnableWithMessageHistory] Entering Chain run with input:\n",
      "\u001b[0m{\n",
      "  \"input\": \"What is the Mona Lisa?\"\n",
      "}\n",
      "\u001b[32;1m\u001b[1;3m[chain/start]\u001b[0m \u001b[1m[chain:RunnableWithMessageHistory > chain:insert_history] Entering Chain run with input:\n",
      "\u001b[0m{\n",
      "  \"input\": \"What is the Mona Lisa?\"\n",
      "}\n",
      "\u001b[32;1m\u001b[1;3m[chain/start]\u001b[0m \u001b[1m[chain:RunnableWithMessageHistory > chain:insert_history > chain:RunnableParallel<history>] Entering Chain run with input:\n",
      "\u001b[0m{\n",
      "  \"input\": \"What is the Mona Lisa?\"\n",
      "}\n",
      "\u001b[32;1m\u001b[1;3m[chain/start]\u001b[0m \u001b[1m[chain:RunnableWithMessageHistory > chain:insert_history > chain:RunnableParallel<history> > chain:load_history] Entering Chain run with input:\n",
      "\u001b[0m{\n",
      "  \"input\": \"What is the Mona Lisa?\"\n",
      "}\n",
      "\u001b[36;1m\u001b[1;3m[chain/end]\u001b[0m \u001b[1m[chain:RunnableWithMessageHistory > chain:insert_history > chain:RunnableParallel<history> > chain:load_history] [0ms] Exiting Chain run with output:\n",
      "\u001b[0m{\n",
      "  \"output\": []\n",
      "}\n",
      "\u001b[36;1m\u001b[1;3m[chain/end]\u001b[0m \u001b[1m[chain:RunnableWithMessageHistory > chain:insert_history > chain:RunnableParallel<history>] [4ms] Exiting Chain run with output:\n",
      "\u001b[0m{\n",
      "  \"history\": []\n",
      "}\n",
      "\u001b[36;1m\u001b[1;3m[chain/end]\u001b[0m \u001b[1m[chain:RunnableWithMessageHistory > chain:insert_history] [11ms] Exiting Chain run with output:\n",
      "\u001b[0m{\n",
      "  \"input\": \"What is the Mona Lisa?\",\n",
      "  \"history\": []\n",
      "}\n",
      "\u001b[32;1m\u001b[1;3m[chain/start]\u001b[0m \u001b[1m[chain:RunnableWithMessageHistory > chain:check_sync_or_async] Entering Chain run with input:\n",
      "\u001b[0m{\n",
      "  \"input\": \"What is the Mona Lisa?\",\n",
      "  \"history\": []\n",
      "}\n",
      "\u001b[32;1m\u001b[1;3m[chain/start]\u001b[0m \u001b[1m[chain:RunnableWithMessageHistory > chain:check_sync_or_async > chain:RunnableSequence] Entering Chain run with input:\n",
      "\u001b[0m{\n",
      "  \"input\": \"What is the Mona Lisa?\",\n",
      "  \"history\": []\n",
      "}\n",
      "\u001b[32;1m\u001b[1;3m[chain/start]\u001b[0m \u001b[1m[chain:RunnableWithMessageHistory > chain:check_sync_or_async > chain:RunnableSequence > chain:RunnableLambda] Entering Chain run with input:\n",
      "\u001b[0m{\n",
      "  \"input\": \"What is the Mona Lisa?\",\n",
      "  \"history\": []\n",
      "}\n",
      "\u001b[36;1m\u001b[1;3m[chain/end]\u001b[0m \u001b[1m[chain:RunnableWithMessageHistory > chain:check_sync_or_async > chain:RunnableSequence > chain:RunnableLambda] [1ms] Exiting Chain run with output:\n",
      "\u001b[0m{\n",
      "  \"output\": \"What is the Mona Lisa?\"\n",
      "}\n",
      "\u001b[32;1m\u001b[1;3m[chain/start]\u001b[0m \u001b[1m[chain:RunnableWithMessageHistory > chain:check_sync_or_async > chain:RunnableSequence > chain:RunnableParallel<context,question,history>] Entering Chain run with input:\n",
      "\u001b[0m{\n",
      "  \"input\": \"What is the Mona Lisa?\"\n",
      "}\n",
      "\u001b[32;1m\u001b[1;3m[chain/start]\u001b[0m \u001b[1m[chain:RunnableWithMessageHistory > chain:check_sync_or_async > chain:RunnableSequence > chain:RunnableParallel<context,question,history> > chain:RunnablePassthrough] Entering Chain run with input:\n",
      "\u001b[0m{\n",
      "  \"input\": \"What is the Mona Lisa?\"\n",
      "}\n",
      "\u001b[36;1m\u001b[1;3m[chain/end]\u001b[0m \u001b[1m[chain:RunnableWithMessageHistory > chain:check_sync_or_async > chain:RunnableSequence > chain:RunnableParallel<context,question,history> > chain:RunnablePassthrough] [1ms] Exiting Chain run with output:\n",
      "\u001b[0m{\n",
      "  \"output\": \"What is the Mona Lisa?\"\n",
      "}\n",
      "\u001b[32;1m\u001b[1;3m[chain/start]\u001b[0m \u001b[1m[chain:RunnableWithMessageHistory > chain:check_sync_or_async > chain:RunnableSequence > chain:RunnableParallel<context,question,history> > chain:RunnablePassthrough] Entering Chain run with input:\n",
      "\u001b[0m{\n",
      "  \"input\": \"What is the Mona Lisa?\"\n",
      "}\n",
      "\u001b[36;1m\u001b[1;3m[chain/end]\u001b[0m \u001b[1m[chain:RunnableWithMessageHistory > chain:check_sync_or_async > chain:RunnableSequence > chain:RunnableParallel<context,question,history> > chain:RunnablePassthrough] [1ms] Exiting Chain run with output:\n",
      "\u001b[0m{\n",
      "  \"output\": \"What is the Mona Lisa?\"\n",
      "}\n",
      "\u001b[36;1m\u001b[1;3m[chain/end]\u001b[0m \u001b[1m[chain:RunnableWithMessageHistory > chain:check_sync_or_async > chain:RunnableSequence > chain:RunnableParallel<context,question,history>] [20ms] Exiting Chain run with output:\n",
      "\u001b[0m[outputs]\n",
      "\u001b[32;1m\u001b[1;3m[chain/start]\u001b[0m \u001b[1m[chain:RunnableWithMessageHistory > chain:check_sync_or_async > chain:RunnableSequence > prompt:PromptTemplate] Entering Prompt run with input:\n",
      "\u001b[0m[inputs]\n",
      "\u001b[36;1m\u001b[1;3m[chain/end]\u001b[0m \u001b[1m[chain:RunnableWithMessageHistory > chain:check_sync_or_async > chain:RunnableSequence > prompt:PromptTemplate] [1ms] Exiting Prompt run with output:\n",
      "\u001b[0m[outputs]\n",
      "\u001b[32;1m\u001b[1;3m[llm/start]\u001b[0m \u001b[1m[chain:RunnableWithMessageHistory > chain:check_sync_or_async > chain:RunnableSequence > llm:ChatOpenAI] Entering LLM run with input:\n",
      "\u001b[0m{\n",
      "  \"prompts\": [\n",
      "    \"Human: \\nYou are the guide of an Art museum, you should answer to people questions, about Paints and\\nartistic styles, focusing you answers in the usage of the provided context always if that is possible, and considering what has been already told in the conversation.\\n\\nContext: [Document(page_content='The Mona Lisa is a half-length portrait painting by the Italian artist Leonardo da Vinci.'), Document(page_content='The Mona Lisa is a half-length portrait painting by the Italian artist Leonardo da Vinci.')]\\n\\nCurrent Conversation: What is the Mona Lisa?\\n\\nUser question: What is the Mona Lisa?\"\n",
      "  ]\n",
      "}\n",
      "\u001b[36;1m\u001b[1;3m[llm/end]\u001b[0m \u001b[1m[chain:RunnableWithMessageHistory > chain:check_sync_or_async > chain:RunnableSequence > llm:ChatOpenAI] [3.16s] Exiting LLM run with output:\n",
      "\u001b[0m{\n",
      "  \"generations\": [\n",
      "    [\n",
      "      {\n",
      "        \"text\": \"The Mona Lisa is a half-length portrait painting by the Italian artist Leonardo da Vinci. It is one of the most famous and iconic paintings in the world, known for its enigmatic expression and masterful use of technique. Leonardo da Vinci is considered one of the greatest artists of the Renaissance period, known for his attention to detail and realistic depiction of his subjects.\",\n",
      "        \"generation_info\": {\n",
      "          \"finish_reason\": \"stop\",\n",
      "          \"logprobs\": null\n",
      "        },\n",
      "        \"type\": \"ChatGeneration\",\n",
      "        \"message\": {\n",
      "          \"lc\": 1,\n",
      "          \"type\": \"constructor\",\n",
      "          \"id\": [\n",
      "            \"langchain\",\n",
      "            \"schema\",\n",
      "            \"messages\",\n",
      "            \"AIMessage\"\n",
      "          ],\n",
      "          \"kwargs\": {\n",
      "            \"content\": \"The Mona Lisa is a half-length portrait painting by the Italian artist Leonardo da Vinci. It is one of the most famous and iconic paintings in the world, known for its enigmatic expression and masterful use of technique. Leonardo da Vinci is considered one of the greatest artists of the Renaissance period, known for his attention to detail and realistic depiction of his subjects.\",\n",
      "            \"additional_kwargs\": {\n",
      "              \"refusal\": null\n",
      "            },\n",
      "            \"response_metadata\": {\n",
      "              \"token_usage\": {\n",
      "                \"completion_tokens\": 72,\n",
      "                \"prompt_tokens\": 125,\n",
      "                \"total_tokens\": 197\n",
      "              },\n",
      "              \"model_name\": \"gpt-3.5-turbo-0125\",\n",
      "              \"system_fingerprint\": null,\n",
      "              \"finish_reason\": \"stop\",\n",
      "              \"logprobs\": null\n",
      "            },\n",
      "            \"type\": \"ai\",\n",
      "            \"id\": \"run-f1a3d52f-85cc-4c0d-8fc1-af2eed7f1ff6-0\",\n",
      "            \"usage_metadata\": {\n",
      "              \"input_tokens\": 125,\n",
      "              \"output_tokens\": 72,\n",
      "              \"total_tokens\": 197\n",
      "            },\n",
      "            \"tool_calls\": [],\n",
      "            \"invalid_tool_calls\": []\n",
      "          }\n",
      "        }\n",
      "      }\n",
      "    ]\n",
      "  ],\n",
      "  \"llm_output\": {\n",
      "    \"token_usage\": {\n",
      "      \"completion_tokens\": 72,\n",
      "      \"prompt_tokens\": 125,\n",
      "      \"total_tokens\": 197\n",
      "    },\n",
      "    \"model_name\": \"gpt-3.5-turbo-0125\",\n",
      "    \"system_fingerprint\": null\n",
      "  },\n",
      "  \"run\": null\n",
      "}\n",
      "\u001b[36;1m\u001b[1;3m[chain/end]\u001b[0m \u001b[1m[chain:RunnableWithMessageHistory > chain:check_sync_or_async > chain:RunnableSequence] [3.19s] Exiting Chain run with output:\n",
      "\u001b[0m[outputs]\n",
      "\u001b[36;1m\u001b[1;3m[chain/end]\u001b[0m \u001b[1m[chain:RunnableWithMessageHistory > chain:check_sync_or_async] [3.19s] Exiting Chain run with output:\n",
      "\u001b[0m[outputs]\n",
      "\u001b[36;1m\u001b[1;3m[chain/end]\u001b[0m \u001b[1m[chain:RunnableWithMessageHistory] [3.21s] Exiting Chain run with output:\n",
      "\u001b[0m[outputs]\n"
     ]
    },
    {
     "data": {
      "text/plain": [
       "AIMessage(content='The Mona Lisa is a half-length portrait painting by the Italian artist Leonardo da Vinci. It is one of the most famous and iconic paintings in the world, known for its enigmatic expression and masterful use of technique. Leonardo da Vinci is considered one of the greatest artists of the Renaissance period, known for his attention to detail and realistic depiction of his subjects.', additional_kwargs={'refusal': None}, response_metadata={'token_usage': {'completion_tokens': 72, 'prompt_tokens': 125, 'total_tokens': 197}, 'model_name': 'gpt-3.5-turbo-0125', 'system_fingerprint': None, 'finish_reason': 'stop', 'logprobs': None}, id='run-f1a3d52f-85cc-4c0d-8fc1-af2eed7f1ff6-0', usage_metadata={'input_tokens': 125, 'output_tokens': 72, 'total_tokens': 197})"
      ]
     },
     "execution_count": 33,
     "metadata": {},
     "output_type": "execute_result"
    }
   ],
   "source": [
    "with_message_history.invoke({ \"input\": \"What is the Mona Lisa?\"},\n",
    "    config={\"configurable\": {\"session_id\": \"abc123\"}}) "
   ]
  },
  {
   "cell_type": "code",
   "execution_count": 34,
   "metadata": {},
   "outputs": [
    {
     "name": "stdout",
     "output_type": "stream",
     "text": [
      "\u001b[32;1m\u001b[1;3m[chain/start]\u001b[0m \u001b[1m[chain:RunnableWithMessageHistory] Entering Chain run with input:\n",
      "\u001b[0m{\n",
      "  \"input\": \"What?\"\n",
      "}\n",
      "\u001b[32;1m\u001b[1;3m[chain/start]\u001b[0m \u001b[1m[chain:RunnableWithMessageHistory > chain:insert_history] Entering Chain run with input:\n",
      "\u001b[0m{\n",
      "  \"input\": \"What?\"\n",
      "}\n",
      "\u001b[32;1m\u001b[1;3m[chain/start]\u001b[0m \u001b[1m[chain:RunnableWithMessageHistory > chain:insert_history > chain:RunnableParallel<history>] Entering Chain run with input:\n",
      "\u001b[0m{\n",
      "  \"input\": \"What?\"\n",
      "}\n",
      "\u001b[32;1m\u001b[1;3m[chain/start]\u001b[0m \u001b[1m[chain:RunnableWithMessageHistory > chain:insert_history > chain:RunnableParallel<history> > chain:load_history] Entering Chain run with input:\n",
      "\u001b[0m{\n",
      "  \"input\": \"What?\"\n",
      "}\n",
      "\u001b[36;1m\u001b[1;3m[chain/end]\u001b[0m \u001b[1m[chain:RunnableWithMessageHistory > chain:insert_history > chain:RunnableParallel<history> > chain:load_history] [1ms] Exiting Chain run with output:\n",
      "\u001b[0m[outputs]\n",
      "\u001b[36;1m\u001b[1;3m[chain/end]\u001b[0m \u001b[1m[chain:RunnableWithMessageHistory > chain:insert_history > chain:RunnableParallel<history>] [4ms] Exiting Chain run with output:\n",
      "\u001b[0m[outputs]\n",
      "\u001b[36;1m\u001b[1;3m[chain/end]\u001b[0m \u001b[1m[chain:RunnableWithMessageHistory > chain:insert_history] [10ms] Exiting Chain run with output:\n",
      "\u001b[0m[outputs]\n",
      "\u001b[32;1m\u001b[1;3m[chain/start]\u001b[0m \u001b[1m[chain:RunnableWithMessageHistory > chain:check_sync_or_async] Entering Chain run with input:\n",
      "\u001b[0m[inputs]\n",
      "\u001b[32;1m\u001b[1;3m[chain/start]\u001b[0m \u001b[1m[chain:RunnableWithMessageHistory > chain:check_sync_or_async > chain:RunnableSequence] Entering Chain run with input:\n",
      "\u001b[0m[inputs]\n",
      "\u001b[32;1m\u001b[1;3m[chain/start]\u001b[0m \u001b[1m[chain:RunnableWithMessageHistory > chain:check_sync_or_async > chain:RunnableSequence > chain:RunnableLambda] Entering Chain run with input:\n",
      "\u001b[0m[inputs]\n",
      "\u001b[36;1m\u001b[1;3m[chain/end]\u001b[0m \u001b[1m[chain:RunnableWithMessageHistory > chain:check_sync_or_async > chain:RunnableSequence > chain:RunnableLambda] [0ms] Exiting Chain run with output:\n",
      "\u001b[0m{\n",
      "  \"output\": \"What?\"\n",
      "}\n",
      "\u001b[32;1m\u001b[1;3m[chain/start]\u001b[0m \u001b[1m[chain:RunnableWithMessageHistory > chain:check_sync_or_async > chain:RunnableSequence > chain:RunnableParallel<context,question,history>] Entering Chain run with input:\n",
      "\u001b[0m{\n",
      "  \"input\": \"What?\"\n",
      "}\n",
      "\u001b[32;1m\u001b[1;3m[chain/start]\u001b[0m \u001b[1m[chain:RunnableWithMessageHistory > chain:check_sync_or_async > chain:RunnableSequence > chain:RunnableParallel<context,question,history> > chain:RunnablePassthrough] Entering Chain run with input:\n",
      "\u001b[0m{\n",
      "  \"input\": \"What?\"\n",
      "}\n",
      "\u001b[36;1m\u001b[1;3m[chain/end]\u001b[0m \u001b[1m[chain:RunnableWithMessageHistory > chain:check_sync_or_async > chain:RunnableSequence > chain:RunnableParallel<context,question,history> > chain:RunnablePassthrough] [1ms] Exiting Chain run with output:\n",
      "\u001b[0m{\n",
      "  \"output\": \"What?\"\n",
      "}\n",
      "\u001b[32;1m\u001b[1;3m[chain/start]\u001b[0m \u001b[1m[chain:RunnableWithMessageHistory > chain:check_sync_or_async > chain:RunnableSequence > chain:RunnableParallel<context,question,history> > chain:RunnablePassthrough] Entering Chain run with input:\n",
      "\u001b[0m{\n",
      "  \"input\": \"What?\"\n",
      "}\n",
      "\u001b[36;1m\u001b[1;3m[chain/end]\u001b[0m \u001b[1m[chain:RunnableWithMessageHistory > chain:check_sync_or_async > chain:RunnableSequence > chain:RunnableParallel<context,question,history> > chain:RunnablePassthrough] [1ms] Exiting Chain run with output:\n",
      "\u001b[0m{\n",
      "  \"output\": \"What?\"\n",
      "}\n",
      "\u001b[36;1m\u001b[1;3m[chain/end]\u001b[0m \u001b[1m[chain:RunnableWithMessageHistory > chain:check_sync_or_async > chain:RunnableSequence > chain:RunnableParallel<context,question,history>] [17ms] Exiting Chain run with output:\n",
      "\u001b[0m[outputs]\n",
      "\u001b[32;1m\u001b[1;3m[chain/start]\u001b[0m \u001b[1m[chain:RunnableWithMessageHistory > chain:check_sync_or_async > chain:RunnableSequence > prompt:PromptTemplate] Entering Prompt run with input:\n",
      "\u001b[0m[inputs]\n",
      "\u001b[36;1m\u001b[1;3m[chain/end]\u001b[0m \u001b[1m[chain:RunnableWithMessageHistory > chain:check_sync_or_async > chain:RunnableSequence > prompt:PromptTemplate] [0ms] Exiting Prompt run with output:\n",
      "\u001b[0m[outputs]\n",
      "\u001b[32;1m\u001b[1;3m[llm/start]\u001b[0m \u001b[1m[chain:RunnableWithMessageHistory > chain:check_sync_or_async > chain:RunnableSequence > llm:ChatOpenAI] Entering LLM run with input:\n",
      "\u001b[0m{\n",
      "  \"prompts\": [\n",
      "    \"Human: \\nYou are the guide of an Art museum, you should answer to people questions, about Paints and\\nartistic styles, focusing you answers in the usage of the provided context always if that is possible, and considering what has been already told in the conversation.\\n\\nContext: [Document(page_content='The Mona Lisa is a half-length portrait painting by the Italian artist Leonardo da Vinci.'), Document(page_content='The Mona Lisa is a half-length portrait painting by the Italian artist Leonardo da Vinci.')]\\n\\nCurrent Conversation: What?\\n\\nUser question: What?\"\n",
      "  ]\n",
      "}\n",
      "\u001b[36;1m\u001b[1;3m[llm/end]\u001b[0m \u001b[1m[chain:RunnableWithMessageHistory > chain:check_sync_or_async > chain:RunnableSequence > llm:ChatOpenAI] [1.33s] Exiting LLM run with output:\n",
      "\u001b[0m{\n",
      "  \"generations\": [\n",
      "    [\n",
      "      {\n",
      "        \"text\": \"Guide: I apologize for any confusion. I was just mentioning that the Mona Lisa is a famous half-length portrait painting created by Leonardo da Vinci. Leonardo da Vinci was an Italian artist known for his remarkable artworks during the Renaissance period. The Mona Lisa is considered a masterpiece due to its intricate details and mysterious smile. If you have any specific questions about the painting or Leonardo da Vinci's artistic style, feel free to ask.\",\n",
      "        \"generation_info\": {\n",
      "          \"finish_reason\": \"stop\",\n",
      "          \"logprobs\": null\n",
      "        },\n",
      "        \"type\": \"ChatGeneration\",\n",
      "        \"message\": {\n",
      "          \"lc\": 1,\n",
      "          \"type\": \"constructor\",\n",
      "          \"id\": [\n",
      "            \"langchain\",\n",
      "            \"schema\",\n",
      "            \"messages\",\n",
      "            \"AIMessage\"\n",
      "          ],\n",
      "          \"kwargs\": {\n",
      "            \"content\": \"Guide: I apologize for any confusion. I was just mentioning that the Mona Lisa is a famous half-length portrait painting created by Leonardo da Vinci. Leonardo da Vinci was an Italian artist known for his remarkable artworks during the Renaissance period. The Mona Lisa is considered a masterpiece due to its intricate details and mysterious smile. If you have any specific questions about the painting or Leonardo da Vinci's artistic style, feel free to ask.\",\n",
      "            \"additional_kwargs\": {\n",
      "              \"refusal\": null\n",
      "            },\n",
      "            \"response_metadata\": {\n",
      "              \"token_usage\": {\n",
      "                \"completion_tokens\": 84,\n",
      "                \"prompt_tokens\": 117,\n",
      "                \"total_tokens\": 201\n",
      "              },\n",
      "              \"model_name\": \"gpt-3.5-turbo-0125\",\n",
      "              \"system_fingerprint\": null,\n",
      "              \"finish_reason\": \"stop\",\n",
      "              \"logprobs\": null\n",
      "            },\n",
      "            \"type\": \"ai\",\n",
      "            \"id\": \"run-1545fa75-1f4d-48cc-b0a1-03f908e716db-0\",\n",
      "            \"usage_metadata\": {\n",
      "              \"input_tokens\": 117,\n",
      "              \"output_tokens\": 84,\n",
      "              \"total_tokens\": 201\n",
      "            },\n",
      "            \"tool_calls\": [],\n",
      "            \"invalid_tool_calls\": []\n",
      "          }\n",
      "        }\n",
      "      }\n",
      "    ]\n",
      "  ],\n",
      "  \"llm_output\": {\n",
      "    \"token_usage\": {\n",
      "      \"completion_tokens\": 84,\n",
      "      \"prompt_tokens\": 117,\n",
      "      \"total_tokens\": 201\n",
      "    },\n",
      "    \"model_name\": \"gpt-3.5-turbo-0125\",\n",
      "    \"system_fingerprint\": null\n",
      "  },\n",
      "  \"run\": null\n",
      "}\n",
      "\u001b[36;1m\u001b[1;3m[chain/end]\u001b[0m \u001b[1m[chain:RunnableWithMessageHistory > chain:check_sync_or_async > chain:RunnableSequence] [1.35s] Exiting Chain run with output:\n",
      "\u001b[0m[outputs]\n",
      "\u001b[36;1m\u001b[1;3m[chain/end]\u001b[0m \u001b[1m[chain:RunnableWithMessageHistory > chain:check_sync_or_async] [1.36s] Exiting Chain run with output:\n",
      "\u001b[0m[outputs]\n",
      "\u001b[36;1m\u001b[1;3m[chain/end]\u001b[0m \u001b[1m[chain:RunnableWithMessageHistory] [1.38s] Exiting Chain run with output:\n",
      "\u001b[0m[outputs]\n"
     ]
    },
    {
     "data": {
      "text/plain": [
       "AIMessage(content=\"Guide: I apologize for any confusion. I was just mentioning that the Mona Lisa is a famous half-length portrait painting created by Leonardo da Vinci. Leonardo da Vinci was an Italian artist known for his remarkable artworks during the Renaissance period. The Mona Lisa is considered a masterpiece due to its intricate details and mysterious smile. If you have any specific questions about the painting or Leonardo da Vinci's artistic style, feel free to ask.\", additional_kwargs={'refusal': None}, response_metadata={'token_usage': {'completion_tokens': 84, 'prompt_tokens': 117, 'total_tokens': 201}, 'model_name': 'gpt-3.5-turbo-0125', 'system_fingerprint': None, 'finish_reason': 'stop', 'logprobs': None}, id='run-1545fa75-1f4d-48cc-b0a1-03f908e716db-0', usage_metadata={'input_tokens': 117, 'output_tokens': 84, 'total_tokens': 201})"
      ]
     },
     "execution_count": 34,
     "metadata": {},
     "output_type": "execute_result"
    }
   ],
   "source": [
    "with_message_history.invoke({ \"input\": \"What?\"},\n",
    "    config={\"configurable\": {\"session_id\": \"abc123\"}}) \n"
   ]
  },
  {
   "cell_type": "markdown",
   "metadata": {},
   "source": [
    "Now we have our chain, that retrieves documents and then uses also the history to feed the LLM and generate a more logical and up to date answer, but this is still quite raw, there are many things that could be optimised, let's tackle two:"
   ]
  },
  {
   "cell_type": "code",
   "execution_count": 35,
   "metadata": {},
   "outputs": [],
   "source": [
    "rephrase_prompt =PromptTemplate.from_template(\"\"\"Given the following conversation and a follow up question, rephrase the follow up question to be a standalone question.\n",
    "\n",
    "Chat History:\n",
    "{chat_history}\n",
    "Follow Up Input: {input}\n",
    "Standalone Question:\"\"\")\n"
   ]
  },
  {
   "cell_type": "markdown",
   "metadata": {},
   "source": [
    "Prompt template extracte from langchain hub: langchain-ai/chat-langchain-rephrase"
   ]
  },
  {
   "cell_type": "code",
   "execution_count": 36,
   "metadata": {},
   "outputs": [],
   "source": [
    "llm = ChatOpenAI()\n",
    "chat_retriever_chain = create_history_aware_retriever(\n",
    "    llm, retriever, rephrase_prompt\n",
    ")"
   ]
  },
  {
   "cell_type": "code",
   "execution_count": 37,
   "metadata": {},
   "outputs": [
    {
     "data": {
      "text/plain": [
       "PromptTemplate(input_variables=['chat_history', 'input'], template='Given the following conversation and a follow up question, rephrase the follow up question to be a standalone question.\\n\\nChat History:\\n{chat_history}\\nFollow Up Input: {input}\\nStandalone Question:')"
      ]
     },
     "execution_count": 37,
     "metadata": {},
     "output_type": "execute_result"
    }
   ],
   "source": [
    "rephrase_prompt"
   ]
  },
  {
   "cell_type": "markdown",
   "metadata": {},
   "source": [
    "Now we can replace this inside of the real retriever, so the retriever will be used with a new rephrased sentence, considering both the current question and the previous context"
   ]
  },
  {
   "cell_type": "code",
   "execution_count": 38,
   "metadata": {},
   "outputs": [],
   "source": [
    "\n",
    "# We need to change the prompt template fields\n",
    "prompt_museum_guide =  PromptTemplate.from_template(\"\"\"\n",
    "You are the guide of an Art museum, you should answer to people questions, about Paints and\n",
    "artistic styles, focusing you answers in the usage of the provided context always if that is possible, and considering what has been already told in the conversation.\n",
    "\n",
    "Context: {context}\n",
    "\n",
    "Current Conversation: {chat_history}\n",
    "\n",
    "User question: {question}\n",
    "\"\"\")\n",
    "\n",
    "# Lets add this together already to check the behaviour:\n",
    "first_chain = {'context':chat_retriever_chain,'question':RunnablePassthrough(),'chat_history':RunnablePassthrough()} | prompt_museum_guide | llm\n",
    "\n",
    "\n",
    "\n"
   ]
  },
  {
   "cell_type": "code",
   "execution_count": 39,
   "metadata": {},
   "outputs": [],
   "source": [
    "with_message_history = RunnableWithMessageHistory(\n",
    "    {'chat_history': RunnablePassthrough(), \"input\": RunnablePassthrough()  } | first_chain,\n",
    "    get_session_history,\n",
    "    input_messages_key=\"input\",\n",
    "    history_messages_key=\"chat_history\"\n",
    ")"
   ]
  },
  {
   "cell_type": "code",
   "execution_count": 40,
   "metadata": {},
   "outputs": [
    {
     "name": "stdout",
     "output_type": "stream",
     "text": [
      "\u001b[32;1m\u001b[1;3m[chain/start]\u001b[0m \u001b[1m[chain:RunnableWithMessageHistory] Entering Chain run with input:\n",
      "\u001b[0m{\n",
      "  \"input\": \"What is the Mona Lisa?\"\n",
      "}\n",
      "\u001b[32;1m\u001b[1;3m[chain/start]\u001b[0m \u001b[1m[chain:RunnableWithMessageHistory > chain:insert_history] Entering Chain run with input:\n",
      "\u001b[0m{\n",
      "  \"input\": \"What is the Mona Lisa?\"\n",
      "}\n",
      "\u001b[32;1m\u001b[1;3m[chain/start]\u001b[0m \u001b[1m[chain:RunnableWithMessageHistory > chain:insert_history > chain:RunnableParallel<chat_history>] Entering Chain run with input:\n",
      "\u001b[0m{\n",
      "  \"input\": \"What is the Mona Lisa?\"\n",
      "}\n",
      "\u001b[32;1m\u001b[1;3m[chain/start]\u001b[0m \u001b[1m[chain:RunnableWithMessageHistory > chain:insert_history > chain:RunnableParallel<chat_history> > chain:load_history] Entering Chain run with input:\n",
      "\u001b[0m{\n",
      "  \"input\": \"What is the Mona Lisa?\"\n",
      "}\n",
      "\u001b[36;1m\u001b[1;3m[chain/end]\u001b[0m \u001b[1m[chain:RunnableWithMessageHistory > chain:insert_history > chain:RunnableParallel<chat_history> > chain:load_history] [1ms] Exiting Chain run with output:\n",
      "\u001b[0m[outputs]\n",
      "\u001b[36;1m\u001b[1;3m[chain/end]\u001b[0m \u001b[1m[chain:RunnableWithMessageHistory > chain:insert_history > chain:RunnableParallel<chat_history>] [3ms] Exiting Chain run with output:\n",
      "\u001b[0m[outputs]\n",
      "\u001b[36;1m\u001b[1;3m[chain/end]\u001b[0m \u001b[1m[chain:RunnableWithMessageHistory > chain:insert_history] [8ms] Exiting Chain run with output:\n",
      "\u001b[0m[outputs]\n",
      "\u001b[32;1m\u001b[1;3m[chain/start]\u001b[0m \u001b[1m[chain:RunnableWithMessageHistory > chain:check_sync_or_async] Entering Chain run with input:\n",
      "\u001b[0m[inputs]\n",
      "\u001b[32;1m\u001b[1;3m[chain/start]\u001b[0m \u001b[1m[chain:RunnableWithMessageHistory > chain:check_sync_or_async > chain:RunnableSequence] Entering Chain run with input:\n",
      "\u001b[0m[inputs]\n",
      "\u001b[32;1m\u001b[1;3m[chain/start]\u001b[0m \u001b[1m[chain:RunnableWithMessageHistory > chain:check_sync_or_async > chain:RunnableSequence > chain:RunnableParallel<chat_history,input>] Entering Chain run with input:\n",
      "\u001b[0m[inputs]\n",
      "\u001b[32;1m\u001b[1;3m[chain/start]\u001b[0m \u001b[1m[chain:RunnableWithMessageHistory > chain:check_sync_or_async > chain:RunnableSequence > chain:RunnableParallel<chat_history,input> > chain:RunnablePassthrough] Entering Chain run with input:\n",
      "\u001b[0m[inputs]\n",
      "\u001b[36;1m\u001b[1;3m[chain/end]\u001b[0m \u001b[1m[chain:RunnableWithMessageHistory > chain:check_sync_or_async > chain:RunnableSequence > chain:RunnableParallel<chat_history,input> > chain:RunnablePassthrough] [0ms] Exiting Chain run with output:\n",
      "\u001b[0m[outputs]\n",
      "\u001b[32;1m\u001b[1;3m[chain/start]\u001b[0m \u001b[1m[chain:RunnableWithMessageHistory > chain:check_sync_or_async > chain:RunnableSequence > chain:RunnableParallel<chat_history,input> > chain:RunnablePassthrough] Entering Chain run with input:\n",
      "\u001b[0m[inputs]\n",
      "\u001b[36;1m\u001b[1;3m[chain/end]\u001b[0m \u001b[1m[chain:RunnableWithMessageHistory > chain:check_sync_or_async > chain:RunnableSequence > chain:RunnableParallel<chat_history,input> > chain:RunnablePassthrough] [0ms] Exiting Chain run with output:\n",
      "\u001b[0m[outputs]\n",
      "\u001b[36;1m\u001b[1;3m[chain/end]\u001b[0m \u001b[1m[chain:RunnableWithMessageHistory > chain:check_sync_or_async > chain:RunnableSequence > chain:RunnableParallel<chat_history,input>] [2ms] Exiting Chain run with output:\n",
      "\u001b[0m[outputs]\n",
      "\u001b[32;1m\u001b[1;3m[chain/start]\u001b[0m \u001b[1m[chain:RunnableWithMessageHistory > chain:check_sync_or_async > chain:RunnableSequence > chain:RunnableParallel<context,question,chat_history>] Entering Chain run with input:\n",
      "\u001b[0m[inputs]\n",
      "\u001b[32;1m\u001b[1;3m[chain/start]\u001b[0m \u001b[1m[chain:RunnableWithMessageHistory > chain:check_sync_or_async > chain:RunnableSequence > chain:RunnableParallel<context,question,chat_history> > chain:RunnablePassthrough] Entering Chain run with input:\n",
      "\u001b[0m[inputs]\n",
      "\u001b[36;1m\u001b[1;3m[chain/end]\u001b[0m \u001b[1m[chain:RunnableWithMessageHistory > chain:check_sync_or_async > chain:RunnableSequence > chain:RunnableParallel<context,question,chat_history> > chain:RunnablePassthrough] [0ms] Exiting Chain run with output:\n",
      "\u001b[0m[outputs]\n",
      "\u001b[32;1m\u001b[1;3m[chain/start]\u001b[0m \u001b[1m[chain:RunnableWithMessageHistory > chain:check_sync_or_async > chain:RunnableSequence > chain:RunnableParallel<context,question,chat_history> > chain:RunnablePassthrough] Entering Chain run with input:\n",
      "\u001b[0m[inputs]\n",
      "\u001b[36;1m\u001b[1;3m[chain/end]\u001b[0m \u001b[1m[chain:RunnableWithMessageHistory > chain:check_sync_or_async > chain:RunnableSequence > chain:RunnableParallel<context,question,chat_history> > chain:RunnablePassthrough] [0ms] Exiting Chain run with output:\n",
      "\u001b[0m[outputs]\n",
      "\u001b[32;1m\u001b[1;3m[chain/start]\u001b[0m \u001b[1m[chain:RunnableWithMessageHistory > chain:check_sync_or_async > chain:RunnableSequence > chain:RunnableParallel<context,question,chat_history> > chain:chat_retriever_chain] Entering Chain run with input:\n",
      "\u001b[0m[inputs]\n",
      "\u001b[32;1m\u001b[1;3m[chain/start]\u001b[0m \u001b[1m[chain:RunnableWithMessageHistory > chain:check_sync_or_async > chain:RunnableSequence > chain:RunnableParallel<context,question,chat_history> > chain:chat_retriever_chain > chain:RunnableLambda] Entering Chain run with input:\n",
      "\u001b[0m[inputs]\n",
      "\u001b[36;1m\u001b[1;3m[chain/end]\u001b[0m \u001b[1m[chain:RunnableWithMessageHistory > chain:check_sync_or_async > chain:RunnableSequence > chain:RunnableParallel<context,question,chat_history> > chain:chat_retriever_chain > chain:RunnableLambda] [0ms] Exiting Chain run with output:\n",
      "\u001b[0m{\n",
      "  \"output\": false\n",
      "}\n",
      "\u001b[32;1m\u001b[1;3m[chain/start]\u001b[0m \u001b[1m[chain:RunnableWithMessageHistory > chain:check_sync_or_async > chain:RunnableSequence > chain:RunnableParallel<context,question,chat_history> > chain:chat_retriever_chain > chain:RunnableSequence] Entering Chain run with input:\n",
      "\u001b[0m[inputs]\n",
      "\u001b[32;1m\u001b[1;3m[chain/start]\u001b[0m \u001b[1m[chain:RunnableWithMessageHistory > chain:check_sync_or_async > chain:RunnableSequence > chain:RunnableParallel<context,question,chat_history> > chain:chat_retriever_chain > chain:RunnableSequence > prompt:PromptTemplate] Entering Prompt run with input:\n",
      "\u001b[0m[inputs]\n",
      "\u001b[36;1m\u001b[1;3m[chain/end]\u001b[0m \u001b[1m[chain:RunnableWithMessageHistory > chain:check_sync_or_async > chain:RunnableSequence > chain:RunnableParallel<context,question,chat_history> > chain:chat_retriever_chain > chain:RunnableSequence > prompt:PromptTemplate] [1ms] Exiting Prompt run with output:\n",
      "\u001b[0m[outputs]\n",
      "\u001b[32;1m\u001b[1;3m[llm/start]\u001b[0m \u001b[1m[chain:RunnableWithMessageHistory > chain:check_sync_or_async > chain:RunnableSequence > chain:RunnableParallel<context,question,chat_history> > chain:chat_retriever_chain > chain:RunnableSequence > llm:ChatOpenAI] Entering LLM run with input:\n",
      "\u001b[0m{\n",
      "  \"prompts\": [\n",
      "    \"Human: Given the following conversation and a follow up question, rephrase the follow up question to be a standalone question.\\n\\nChat History:\\n{'input': 'What is the Mona Lisa?', 'chat_history': [HumanMessage(content='What is the Mona Lisa?'), AIMessage(content='The Mona Lisa is a half-length portrait painting by the Italian artist Leonardo da Vinci. It is one of the most famous and iconic paintings in the world, known for its enigmatic expression and masterful use of technique. Leonardo da Vinci is considered one of the greatest artists of the Renaissance period, known for his attention to detail and realistic depiction of his subjects.', additional_kwargs={'refusal': None}, response_metadata={'token_usage': {'completion_tokens': 72, 'prompt_tokens': 125, 'total_tokens': 197}, 'model_name': 'gpt-3.5-turbo-0125', 'system_fingerprint': None, 'finish_reason': 'stop', 'logprobs': None}, id='run-f1a3d52f-85cc-4c0d-8fc1-af2eed7f1ff6-0', usage_metadata={'input_tokens': 125, 'output_tokens': 72, 'total_tokens': 197}), HumanMessage(content='What?'), AIMessage(content=\\\"Guide: I apologize for any confusion. I was just mentioning that the Mona Lisa is a famous half-length portrait painting created by Leonardo da Vinci. Leonardo da Vinci was an Italian artist known for his remarkable artworks during the Renaissance period. The Mona Lisa is considered a masterpiece due to its intricate details and mysterious smile. If you have any specific questions about the painting or Leonardo da Vinci's artistic style, feel free to ask.\\\", additional_kwargs={'refusal': None}, response_metadata={'token_usage': {'completion_tokens': 84, 'prompt_tokens': 117, 'total_tokens': 201}, 'model_name': 'gpt-3.5-turbo-0125', 'system_fingerprint': None, 'finish_reason': 'stop', 'logprobs': None}, id='run-1545fa75-1f4d-48cc-b0a1-03f908e716db-0', usage_metadata={'input_tokens': 117, 'output_tokens': 84, 'total_tokens': 201})]}\\nFollow Up Input: {'input': 'What is the Mona Lisa?', 'chat_history': [HumanMessage(content='What is the Mona Lisa?'), AIMessage(content='The Mona Lisa is a half-length portrait painting by the Italian artist Leonardo da Vinci. It is one of the most famous and iconic paintings in the world, known for its enigmatic expression and masterful use of technique. Leonardo da Vinci is considered one of the greatest artists of the Renaissance period, known for his attention to detail and realistic depiction of his subjects.', additional_kwargs={'refusal': None}, response_metadata={'token_usage': {'completion_tokens': 72, 'prompt_tokens': 125, 'total_tokens': 197}, 'model_name': 'gpt-3.5-turbo-0125', 'system_fingerprint': None, 'finish_reason': 'stop', 'logprobs': None}, id='run-f1a3d52f-85cc-4c0d-8fc1-af2eed7f1ff6-0', usage_metadata={'input_tokens': 125, 'output_tokens': 72, 'total_tokens': 197}), HumanMessage(content='What?'), AIMessage(content=\\\"Guide: I apologize for any confusion. I was just mentioning that the Mona Lisa is a famous half-length portrait painting created by Leonardo da Vinci. Leonardo da Vinci was an Italian artist known for his remarkable artworks during the Renaissance period. The Mona Lisa is considered a masterpiece due to its intricate details and mysterious smile. If you have any specific questions about the painting or Leonardo da Vinci's artistic style, feel free to ask.\\\", additional_kwargs={'refusal': None}, response_metadata={'token_usage': {'completion_tokens': 84, 'prompt_tokens': 117, 'total_tokens': 201}, 'model_name': 'gpt-3.5-turbo-0125', 'system_fingerprint': None, 'finish_reason': 'stop', 'logprobs': None}, id='run-1545fa75-1f4d-48cc-b0a1-03f908e716db-0', usage_metadata={'input_tokens': 117, 'output_tokens': 84, 'total_tokens': 201})]}\\nStandalone Question:\"\n",
      "  ]\n",
      "}\n",
      "\u001b[36;1m\u001b[1;3m[llm/end]\u001b[0m \u001b[1m[chain:RunnableWithMessageHistory > chain:check_sync_or_async > chain:RunnableSequence > chain:RunnableParallel<context,question,chat_history> > chain:chat_retriever_chain > chain:RunnableSequence > llm:ChatOpenAI] [1.12s] Exiting LLM run with output:\n",
      "\u001b[0m{\n",
      "  \"generations\": [\n",
      "    [\n",
      "      {\n",
      "        \"text\": \"What specific questions can I ask about the painting or Leonardo da Vinci's artistic style?\",\n",
      "        \"generation_info\": {\n",
      "          \"finish_reason\": \"stop\",\n",
      "          \"logprobs\": null\n",
      "        },\n",
      "        \"type\": \"ChatGeneration\",\n",
      "        \"message\": {\n",
      "          \"lc\": 1,\n",
      "          \"type\": \"constructor\",\n",
      "          \"id\": [\n",
      "            \"langchain\",\n",
      "            \"schema\",\n",
      "            \"messages\",\n",
      "            \"AIMessage\"\n",
      "          ],\n",
      "          \"kwargs\": {\n",
      "            \"content\": \"What specific questions can I ask about the painting or Leonardo da Vinci's artistic style?\",\n",
      "            \"additional_kwargs\": {\n",
      "              \"refusal\": null\n",
      "            },\n",
      "            \"response_metadata\": {\n",
      "              \"token_usage\": {\n",
      "                \"completion_tokens\": 17,\n",
      "                \"prompt_tokens\": 952,\n",
      "                \"total_tokens\": 969\n",
      "              },\n",
      "              \"model_name\": \"gpt-3.5-turbo-0125\",\n",
      "              \"system_fingerprint\": null,\n",
      "              \"finish_reason\": \"stop\",\n",
      "              \"logprobs\": null\n",
      "            },\n",
      "            \"type\": \"ai\",\n",
      "            \"id\": \"run-8335fba6-2f03-4732-9cad-4573bcb7af62-0\",\n",
      "            \"usage_metadata\": {\n",
      "              \"input_tokens\": 952,\n",
      "              \"output_tokens\": 17,\n",
      "              \"total_tokens\": 969\n",
      "            },\n",
      "            \"tool_calls\": [],\n",
      "            \"invalid_tool_calls\": []\n",
      "          }\n",
      "        }\n",
      "      }\n",
      "    ]\n",
      "  ],\n",
      "  \"llm_output\": {\n",
      "    \"token_usage\": {\n",
      "      \"completion_tokens\": 17,\n",
      "      \"prompt_tokens\": 952,\n",
      "      \"total_tokens\": 969\n",
      "    },\n",
      "    \"model_name\": \"gpt-3.5-turbo-0125\",\n",
      "    \"system_fingerprint\": null\n",
      "  },\n",
      "  \"run\": null\n",
      "}\n",
      "\u001b[32;1m\u001b[1;3m[chain/start]\u001b[0m \u001b[1m[chain:RunnableWithMessageHistory > chain:check_sync_or_async > chain:RunnableSequence > chain:RunnableParallel<context,question,chat_history> > chain:chat_retriever_chain > chain:RunnableSequence > parser:StrOutputParser] Entering Parser run with input:\n",
      "\u001b[0m[inputs]\n",
      "\u001b[36;1m\u001b[1;3m[chain/end]\u001b[0m \u001b[1m[chain:RunnableWithMessageHistory > chain:check_sync_or_async > chain:RunnableSequence > chain:RunnableParallel<context,question,chat_history> > chain:chat_retriever_chain > chain:RunnableSequence > parser:StrOutputParser] [1ms] Exiting Parser run with output:\n",
      "\u001b[0m{\n",
      "  \"output\": \"What specific questions can I ask about the painting or Leonardo da Vinci's artistic style?\"\n",
      "}\n",
      "\u001b[36;1m\u001b[1;3m[chain/end]\u001b[0m \u001b[1m[chain:RunnableWithMessageHistory > chain:check_sync_or_async > chain:RunnableSequence > chain:RunnableParallel<context,question,chat_history> > chain:chat_retriever_chain > chain:RunnableSequence] [1.15s] Exiting Chain run with output:\n",
      "\u001b[0m[outputs]\n",
      "\u001b[36;1m\u001b[1;3m[chain/end]\u001b[0m \u001b[1m[chain:RunnableWithMessageHistory > chain:check_sync_or_async > chain:RunnableSequence > chain:RunnableParallel<context,question,chat_history> > chain:chat_retriever_chain] [1.15s] Exiting Chain run with output:\n",
      "\u001b[0m{\n",
      "  \"output\": [\n",
      "    {\n",
      "      \"lc\": 1,\n",
      "      \"type\": \"constructor\",\n",
      "      \"id\": [\n",
      "        \"langchain\",\n",
      "        \"schema\",\n",
      "        \"document\",\n",
      "        \"Document\"\n",
      "      ],\n",
      "      \"kwargs\": {\n",
      "        \"page_content\": \"The Mona Lisa is a half-length portrait painting by the Italian artist Leonardo da Vinci.\",\n",
      "        \"type\": \"Document\"\n",
      "      }\n",
      "    },\n",
      "    {\n",
      "      \"lc\": 1,\n",
      "      \"type\": \"constructor\",\n",
      "      \"id\": [\n",
      "        \"langchain\",\n",
      "        \"schema\",\n",
      "        \"document\",\n",
      "        \"Document\"\n",
      "      ],\n",
      "      \"kwargs\": {\n",
      "        \"page_content\": \"The Mona Lisa is a half-length portrait painting by the Italian artist Leonardo da Vinci.\",\n",
      "        \"type\": \"Document\"\n",
      "      }\n",
      "    }\n",
      "  ]\n",
      "}\n",
      "\u001b[36;1m\u001b[1;3m[chain/end]\u001b[0m \u001b[1m[chain:RunnableWithMessageHistory > chain:check_sync_or_async > chain:RunnableSequence > chain:RunnableParallel<context,question,chat_history>] [1.16s] Exiting Chain run with output:\n",
      "\u001b[0m[outputs]\n",
      "\u001b[32;1m\u001b[1;3m[chain/start]\u001b[0m \u001b[1m[chain:RunnableWithMessageHistory > chain:check_sync_or_async > chain:RunnableSequence > prompt:PromptTemplate] Entering Prompt run with input:\n",
      "\u001b[0m[inputs]\n",
      "\u001b[36;1m\u001b[1;3m[chain/end]\u001b[0m \u001b[1m[chain:RunnableWithMessageHistory > chain:check_sync_or_async > chain:RunnableSequence > prompt:PromptTemplate] [1ms] Exiting Prompt run with output:\n",
      "\u001b[0m[outputs]\n",
      "\u001b[32;1m\u001b[1;3m[llm/start]\u001b[0m \u001b[1m[chain:RunnableWithMessageHistory > chain:check_sync_or_async > chain:RunnableSequence > llm:ChatOpenAI] Entering LLM run with input:\n",
      "\u001b[0m{\n",
      "  \"prompts\": [\n",
      "    \"Human: \\nYou are the guide of an Art museum, you should answer to people questions, about Paints and\\nartistic styles, focusing you answers in the usage of the provided context always if that is possible, and considering what has been already told in the conversation.\\n\\nContext: [Document(page_content='The Mona Lisa is a half-length portrait painting by the Italian artist Leonardo da Vinci.'), Document(page_content='The Mona Lisa is a half-length portrait painting by the Italian artist Leonardo da Vinci.')]\\n\\nCurrent Conversation: {'chat_history': {'input': 'What is the Mona Lisa?', 'chat_history': [HumanMessage(content='What is the Mona Lisa?'), AIMessage(content='The Mona Lisa is a half-length portrait painting by the Italian artist Leonardo da Vinci. It is one of the most famous and iconic paintings in the world, known for its enigmatic expression and masterful use of technique. Leonardo da Vinci is considered one of the greatest artists of the Renaissance period, known for his attention to detail and realistic depiction of his subjects.', additional_kwargs={'refusal': None}, response_metadata={'token_usage': {'completion_tokens': 72, 'prompt_tokens': 125, 'total_tokens': 197}, 'model_name': 'gpt-3.5-turbo-0125', 'system_fingerprint': None, 'finish_reason': 'stop', 'logprobs': None}, id='run-f1a3d52f-85cc-4c0d-8fc1-af2eed7f1ff6-0', usage_metadata={'input_tokens': 125, 'output_tokens': 72, 'total_tokens': 197}), HumanMessage(content='What?'), AIMessage(content=\\\"Guide: I apologize for any confusion. I was just mentioning that the Mona Lisa is a famous half-length portrait painting created by Leonardo da Vinci. Leonardo da Vinci was an Italian artist known for his remarkable artworks during the Renaissance period. The Mona Lisa is considered a masterpiece due to its intricate details and mysterious smile. If you have any specific questions about the painting or Leonardo da Vinci's artistic style, feel free to ask.\\\", additional_kwargs={'refusal': None}, response_metadata={'token_usage': {'completion_tokens': 84, 'prompt_tokens': 117, 'total_tokens': 201}, 'model_name': 'gpt-3.5-turbo-0125', 'system_fingerprint': None, 'finish_reason': 'stop', 'logprobs': None}, id='run-1545fa75-1f4d-48cc-b0a1-03f908e716db-0', usage_metadata={'input_tokens': 117, 'output_tokens': 84, 'total_tokens': 201})]}, 'input': {'input': 'What is the Mona Lisa?', 'chat_history': [HumanMessage(content='What is the Mona Lisa?'), AIMessage(content='The Mona Lisa is a half-length portrait painting by the Italian artist Leonardo da Vinci. It is one of the most famous and iconic paintings in the world, known for its enigmatic expression and masterful use of technique. Leonardo da Vinci is considered one of the greatest artists of the Renaissance period, known for his attention to detail and realistic depiction of his subjects.', additional_kwargs={'refusal': None}, response_metadata={'token_usage': {'completion_tokens': 72, 'prompt_tokens': 125, 'total_tokens': 197}, 'model_name': 'gpt-3.5-turbo-0125', 'system_fingerprint': None, 'finish_reason': 'stop', 'logprobs': None}, id='run-f1a3d52f-85cc-4c0d-8fc1-af2eed7f1ff6-0', usage_metadata={'input_tokens': 125, 'output_tokens': 72, 'total_tokens': 197}), HumanMessage(content='What?'), AIMessage(content=\\\"Guide: I apologize for any confusion. I was just mentioning that the Mona Lisa is a famous half-length portrait painting created by Leonardo da Vinci. Leonardo da Vinci was an Italian artist known for his remarkable artworks during the Renaissance period. The Mona Lisa is considered a masterpiece due to its intricate details and mysterious smile. If you have any specific questions about the painting or Leonardo da Vinci's artistic style, feel free to ask.\\\", additional_kwargs={'refusal': None}, response_metadata={'token_usage': {'completion_tokens': 84, 'prompt_tokens': 117, 'total_tokens': 201}, 'model_name': 'gpt-3.5-turbo-0125', 'system_fingerprint': None, 'finish_reason': 'stop', 'logprobs': None}, id='run-1545fa75-1f4d-48cc-b0a1-03f908e716db-0', usage_metadata={'input_tokens': 117, 'output_tokens': 84, 'total_tokens': 201})]}}\\n\\nUser question: {'chat_history': {'input': 'What is the Mona Lisa?', 'chat_history': [HumanMessage(content='What is the Mona Lisa?'), AIMessage(content='The Mona Lisa is a half-length portrait painting by the Italian artist Leonardo da Vinci. It is one of the most famous and iconic paintings in the world, known for its enigmatic expression and masterful use of technique. Leonardo da Vinci is considered one of the greatest artists of the Renaissance period, known for his attention to detail and realistic depiction of his subjects.', additional_kwargs={'refusal': None}, response_metadata={'token_usage': {'completion_tokens': 72, 'prompt_tokens': 125, 'total_tokens': 197}, 'model_name': 'gpt-3.5-turbo-0125', 'system_fingerprint': None, 'finish_reason': 'stop', 'logprobs': None}, id='run-f1a3d52f-85cc-4c0d-8fc1-af2eed7f1ff6-0', usage_metadata={'input_tokens': 125, 'output_tokens': 72, 'total_tokens': 197}), HumanMessage(content='What?'), AIMessage(content=\\\"Guide: I apologize for any confusion. I was just mentioning that the Mona Lisa is a famous half-length portrait painting created by Leonardo da Vinci. Leonardo da Vinci was an Italian artist known for his remarkable artworks during the Renaissance period. The Mona Lisa is considered a masterpiece due to its intricate details and mysterious smile. If you have any specific questions about the painting or Leonardo da Vinci's artistic style, feel free to ask.\\\", additional_kwargs={'refusal': None}, response_metadata={'token_usage': {'completion_tokens': 84, 'prompt_tokens': 117, 'total_tokens': 201}, 'model_name': 'gpt-3.5-turbo-0125', 'system_fingerprint': None, 'finish_reason': 'stop', 'logprobs': None}, id='run-1545fa75-1f4d-48cc-b0a1-03f908e716db-0', usage_metadata={'input_tokens': 117, 'output_tokens': 84, 'total_tokens': 201})]}, 'input': {'input': 'What is the Mona Lisa?', 'chat_history': [HumanMessage(content='What is the Mona Lisa?'), AIMessage(content='The Mona Lisa is a half-length portrait painting by the Italian artist Leonardo da Vinci. It is one of the most famous and iconic paintings in the world, known for its enigmatic expression and masterful use of technique. Leonardo da Vinci is considered one of the greatest artists of the Renaissance period, known for his attention to detail and realistic depiction of his subjects.', additional_kwargs={'refusal': None}, response_metadata={'token_usage': {'completion_tokens': 72, 'prompt_tokens': 125, 'total_tokens': 197}, 'model_name': 'gpt-3.5-turbo-0125', 'system_fingerprint': None, 'finish_reason': 'stop', 'logprobs': None}, id='run-f1a3d52f-85cc-4c0d-8fc1-af2eed7f1ff6-0', usage_metadata={'input_tokens': 125, 'output_tokens': 72, 'total_tokens': 197}), HumanMessage(content='What?'), AIMessage(content=\\\"Guide: I apologize for any confusion. I was just mentioning that the Mona Lisa is a famous half-length portrait painting created by Leonardo da Vinci. Leonardo da Vinci was an Italian artist known for his remarkable artworks during the Renaissance period. The Mona Lisa is considered a masterpiece due to its intricate details and mysterious smile. If you have any specific questions about the painting or Leonardo da Vinci's artistic style, feel free to ask.\\\", additional_kwargs={'refusal': None}, response_metadata={'token_usage': {'completion_tokens': 84, 'prompt_tokens': 117, 'total_tokens': 201}, 'model_name': 'gpt-3.5-turbo-0125', 'system_fingerprint': None, 'finish_reason': 'stop', 'logprobs': None}, id='run-1545fa75-1f4d-48cc-b0a1-03f908e716db-0', usage_metadata={'input_tokens': 117, 'output_tokens': 84, 'total_tokens': 201})]}}\"\n",
      "  ]\n",
      "}\n",
      "\u001b[36;1m\u001b[1;3m[llm/end]\u001b[0m \u001b[1m[chain:RunnableWithMessageHistory > chain:check_sync_or_async > chain:RunnableSequence > llm:ChatOpenAI] [1.36s] Exiting LLM run with output:\n",
      "\u001b[0m{\n",
      "  \"generations\": [\n",
      "    [\n",
      "      {\n",
      "        \"text\": \"The Mona Lisa is a renowned half-length portrait painting by Leonardo da Vinci, showcasing his exceptional talent and attention to detail. Leonardo da Vinci, an Italian artist of the Renaissance period, was known for his mastery of technique and realistic depiction of his subjects. The painting's enigmatic expression and intricate details contribute to its status as a masterpiece. If you have any more questions about Leonardo da Vinci's artistic style or the Mona Lisa itself, feel free to ask!\",\n",
      "        \"generation_info\": {\n",
      "          \"finish_reason\": \"stop\",\n",
      "          \"logprobs\": null\n",
      "        },\n",
      "        \"type\": \"ChatGeneration\",\n",
      "        \"message\": {\n",
      "          \"lc\": 1,\n",
      "          \"type\": \"constructor\",\n",
      "          \"id\": [\n",
      "            \"langchain\",\n",
      "            \"schema\",\n",
      "            \"messages\",\n",
      "            \"AIMessage\"\n",
      "          ],\n",
      "          \"kwargs\": {\n",
      "            \"content\": \"The Mona Lisa is a renowned half-length portrait painting by Leonardo da Vinci, showcasing his exceptional talent and attention to detail. Leonardo da Vinci, an Italian artist of the Renaissance period, was known for his mastery of technique and realistic depiction of his subjects. The painting's enigmatic expression and intricate details contribute to its status as a masterpiece. If you have any more questions about Leonardo da Vinci's artistic style or the Mona Lisa itself, feel free to ask!\",\n",
      "            \"additional_kwargs\": {\n",
      "              \"refusal\": null\n",
      "            },\n",
      "            \"response_metadata\": {\n",
      "              \"token_usage\": {\n",
      "                \"completion_tokens\": 91,\n",
      "                \"prompt_tokens\": 1953,\n",
      "                \"total_tokens\": 2044\n",
      "              },\n",
      "              \"model_name\": \"gpt-3.5-turbo-0125\",\n",
      "              \"system_fingerprint\": null,\n",
      "              \"finish_reason\": \"stop\",\n",
      "              \"logprobs\": null\n",
      "            },\n",
      "            \"type\": \"ai\",\n",
      "            \"id\": \"run-98c2d458-bae3-4d19-9663-c3909c1e35a4-0\",\n",
      "            \"usage_metadata\": {\n",
      "              \"input_tokens\": 1953,\n",
      "              \"output_tokens\": 91,\n",
      "              \"total_tokens\": 2044\n",
      "            },\n",
      "            \"tool_calls\": [],\n",
      "            \"invalid_tool_calls\": []\n",
      "          }\n",
      "        }\n",
      "      }\n",
      "    ]\n",
      "  ],\n",
      "  \"llm_output\": {\n",
      "    \"token_usage\": {\n",
      "      \"completion_tokens\": 91,\n",
      "      \"prompt_tokens\": 1953,\n",
      "      \"total_tokens\": 2044\n",
      "    },\n",
      "    \"model_name\": \"gpt-3.5-turbo-0125\",\n",
      "    \"system_fingerprint\": null\n",
      "  },\n",
      "  \"run\": null\n",
      "}\n",
      "\u001b[36;1m\u001b[1;3m[chain/end]\u001b[0m \u001b[1m[chain:RunnableWithMessageHistory > chain:check_sync_or_async > chain:RunnableSequence] [2.53s] Exiting Chain run with output:\n",
      "\u001b[0m[outputs]\n",
      "\u001b[36;1m\u001b[1;3m[chain/end]\u001b[0m \u001b[1m[chain:RunnableWithMessageHistory > chain:check_sync_or_async] [2.54s] Exiting Chain run with output:\n",
      "\u001b[0m[outputs]\n",
      "\u001b[36;1m\u001b[1;3m[chain/end]\u001b[0m \u001b[1m[chain:RunnableWithMessageHistory] [2.56s] Exiting Chain run with output:\n",
      "\u001b[0m[outputs]\n"
     ]
    },
    {
     "data": {
      "text/plain": [
       "AIMessage(content=\"The Mona Lisa is a renowned half-length portrait painting by Leonardo da Vinci, showcasing his exceptional talent and attention to detail. Leonardo da Vinci, an Italian artist of the Renaissance period, was known for his mastery of technique and realistic depiction of his subjects. The painting's enigmatic expression and intricate details contribute to its status as a masterpiece. If you have any more questions about Leonardo da Vinci's artistic style or the Mona Lisa itself, feel free to ask!\", additional_kwargs={'refusal': None}, response_metadata={'token_usage': {'completion_tokens': 91, 'prompt_tokens': 1953, 'total_tokens': 2044}, 'model_name': 'gpt-3.5-turbo-0125', 'system_fingerprint': None, 'finish_reason': 'stop', 'logprobs': None}, id='run-98c2d458-bae3-4d19-9663-c3909c1e35a4-0', usage_metadata={'input_tokens': 1953, 'output_tokens': 91, 'total_tokens': 2044})"
      ]
     },
     "execution_count": 40,
     "metadata": {},
     "output_type": "execute_result"
    }
   ],
   "source": [
    "with_message_history.invoke({ \"input\": \"What is the Mona Lisa?\"},\n",
    "    config={\"configurable\": {\"session_id\": \"abc123\"}})"
   ]
  },
  {
   "cell_type": "code",
   "execution_count": 41,
   "metadata": {},
   "outputs": [
    {
     "name": "stdout",
     "output_type": "stream",
     "text": [
      "\u001b[32;1m\u001b[1;3m[chain/start]\u001b[0m \u001b[1m[chain:RunnableWithMessageHistory] Entering Chain run with input:\n",
      "\u001b[0m{\n",
      "  \"input\": \"And what is it's style?\"\n",
      "}\n",
      "\u001b[32;1m\u001b[1;3m[chain/start]\u001b[0m \u001b[1m[chain:RunnableWithMessageHistory > chain:insert_history] Entering Chain run with input:\n",
      "\u001b[0m{\n",
      "  \"input\": \"And what is it's style?\"\n",
      "}\n",
      "\u001b[32;1m\u001b[1;3m[chain/start]\u001b[0m \u001b[1m[chain:RunnableWithMessageHistory > chain:insert_history > chain:RunnableParallel<chat_history>] Entering Chain run with input:\n",
      "\u001b[0m{\n",
      "  \"input\": \"And what is it's style?\"\n",
      "}\n",
      "\u001b[32;1m\u001b[1;3m[chain/start]\u001b[0m \u001b[1m[chain:RunnableWithMessageHistory > chain:insert_history > chain:RunnableParallel<chat_history> > chain:load_history] Entering Chain run with input:\n",
      "\u001b[0m{\n",
      "  \"input\": \"And what is it's style?\"\n",
      "}\n",
      "\u001b[36;1m\u001b[1;3m[chain/end]\u001b[0m \u001b[1m[chain:RunnableWithMessageHistory > chain:insert_history > chain:RunnableParallel<chat_history> > chain:load_history] [1ms] Exiting Chain run with output:\n",
      "\u001b[0m[outputs]\n",
      "\u001b[36;1m\u001b[1;3m[chain/end]\u001b[0m \u001b[1m[chain:RunnableWithMessageHistory > chain:insert_history > chain:RunnableParallel<chat_history>] [2ms] Exiting Chain run with output:\n",
      "\u001b[0m[outputs]\n",
      "\u001b[36;1m\u001b[1;3m[chain/end]\u001b[0m \u001b[1m[chain:RunnableWithMessageHistory > chain:insert_history] [8ms] Exiting Chain run with output:\n",
      "\u001b[0m[outputs]\n",
      "\u001b[32;1m\u001b[1;3m[chain/start]\u001b[0m \u001b[1m[chain:RunnableWithMessageHistory > chain:check_sync_or_async] Entering Chain run with input:\n",
      "\u001b[0m[inputs]\n",
      "\u001b[32;1m\u001b[1;3m[chain/start]\u001b[0m \u001b[1m[chain:RunnableWithMessageHistory > chain:check_sync_or_async > chain:RunnableSequence] Entering Chain run with input:\n",
      "\u001b[0m[inputs]\n",
      "\u001b[32;1m\u001b[1;3m[chain/start]\u001b[0m \u001b[1m[chain:RunnableWithMessageHistory > chain:check_sync_or_async > chain:RunnableSequence > chain:RunnableParallel<chat_history,input>] Entering Chain run with input:\n",
      "\u001b[0m[inputs]\n",
      "\u001b[32;1m\u001b[1;3m[chain/start]\u001b[0m \u001b[1m[chain:RunnableWithMessageHistory > chain:check_sync_or_async > chain:RunnableSequence > chain:RunnableParallel<chat_history,input> > chain:RunnablePassthrough] Entering Chain run with input:\n",
      "\u001b[0m[inputs]\n",
      "\u001b[36;1m\u001b[1;3m[chain/end]\u001b[0m \u001b[1m[chain:RunnableWithMessageHistory > chain:check_sync_or_async > chain:RunnableSequence > chain:RunnableParallel<chat_history,input> > chain:RunnablePassthrough] [1ms] Exiting Chain run with output:\n",
      "\u001b[0m[outputs]\n",
      "\u001b[32;1m\u001b[1;3m[chain/start]\u001b[0m \u001b[1m[chain:RunnableWithMessageHistory > chain:check_sync_or_async > chain:RunnableSequence > chain:RunnableParallel<chat_history,input> > chain:RunnablePassthrough] Entering Chain run with input:\n",
      "\u001b[0m[inputs]\n",
      "\u001b[36;1m\u001b[1;3m[chain/end]\u001b[0m \u001b[1m[chain:RunnableWithMessageHistory > chain:check_sync_or_async > chain:RunnableSequence > chain:RunnableParallel<chat_history,input> > chain:RunnablePassthrough] [1ms] Exiting Chain run with output:\n",
      "\u001b[0m[outputs]\n",
      "\u001b[36;1m\u001b[1;3m[chain/end]\u001b[0m \u001b[1m[chain:RunnableWithMessageHistory > chain:check_sync_or_async > chain:RunnableSequence > chain:RunnableParallel<chat_history,input>] [3ms] Exiting Chain run with output:\n",
      "\u001b[0m[outputs]\n",
      "\u001b[32;1m\u001b[1;3m[chain/start]\u001b[0m \u001b[1m[chain:RunnableWithMessageHistory > chain:check_sync_or_async > chain:RunnableSequence > chain:RunnableParallel<context,question,chat_history>] Entering Chain run with input:\n",
      "\u001b[0m[inputs]\n",
      "\u001b[32;1m\u001b[1;3m[chain/start]\u001b[0m \u001b[1m[chain:RunnableWithMessageHistory > chain:check_sync_or_async > chain:RunnableSequence > chain:RunnableParallel<context,question,chat_history> > chain:RunnablePassthrough] Entering Chain run with input:\n",
      "\u001b[0m[inputs]\n",
      "\u001b[36;1m\u001b[1;3m[chain/end]\u001b[0m \u001b[1m[chain:RunnableWithMessageHistory > chain:check_sync_or_async > chain:RunnableSequence > chain:RunnableParallel<context,question,chat_history> > chain:RunnablePassthrough] [1ms] Exiting Chain run with output:\n",
      "\u001b[0m[outputs]\n",
      "\u001b[32;1m\u001b[1;3m[chain/start]\u001b[0m \u001b[1m[chain:RunnableWithMessageHistory > chain:check_sync_or_async > chain:RunnableSequence > chain:RunnableParallel<context,question,chat_history> > chain:RunnablePassthrough] Entering Chain run with input:\n",
      "\u001b[0m[inputs]\n",
      "\u001b[36;1m\u001b[1;3m[chain/end]\u001b[0m \u001b[1m[chain:RunnableWithMessageHistory > chain:check_sync_or_async > chain:RunnableSequence > chain:RunnableParallel<context,question,chat_history> > chain:RunnablePassthrough] [0ms] Exiting Chain run with output:\n",
      "\u001b[0m[outputs]\n",
      "\u001b[32;1m\u001b[1;3m[chain/start]\u001b[0m \u001b[1m[chain:RunnableWithMessageHistory > chain:check_sync_or_async > chain:RunnableSequence > chain:RunnableParallel<context,question,chat_history> > chain:chat_retriever_chain] Entering Chain run with input:\n",
      "\u001b[0m[inputs]\n",
      "\u001b[32;1m\u001b[1;3m[chain/start]\u001b[0m \u001b[1m[chain:RunnableWithMessageHistory > chain:check_sync_or_async > chain:RunnableSequence > chain:RunnableParallel<context,question,chat_history> > chain:chat_retriever_chain > chain:RunnableLambda] Entering Chain run with input:\n",
      "\u001b[0m[inputs]\n",
      "\u001b[36;1m\u001b[1;3m[chain/end]\u001b[0m \u001b[1m[chain:RunnableWithMessageHistory > chain:check_sync_or_async > chain:RunnableSequence > chain:RunnableParallel<context,question,chat_history> > chain:chat_retriever_chain > chain:RunnableLambda] [0ms] Exiting Chain run with output:\n",
      "\u001b[0m{\n",
      "  \"output\": false\n",
      "}\n",
      "\u001b[32;1m\u001b[1;3m[chain/start]\u001b[0m \u001b[1m[chain:RunnableWithMessageHistory > chain:check_sync_or_async > chain:RunnableSequence > chain:RunnableParallel<context,question,chat_history> > chain:chat_retriever_chain > chain:RunnableSequence] Entering Chain run with input:\n",
      "\u001b[0m[inputs]\n",
      "\u001b[32;1m\u001b[1;3m[chain/start]\u001b[0m \u001b[1m[chain:RunnableWithMessageHistory > chain:check_sync_or_async > chain:RunnableSequence > chain:RunnableParallel<context,question,chat_history> > chain:chat_retriever_chain > chain:RunnableSequence > prompt:PromptTemplate] Entering Prompt run with input:\n",
      "\u001b[0m[inputs]\n",
      "\u001b[36;1m\u001b[1;3m[chain/end]\u001b[0m \u001b[1m[chain:RunnableWithMessageHistory > chain:check_sync_or_async > chain:RunnableSequence > chain:RunnableParallel<context,question,chat_history> > chain:chat_retriever_chain > chain:RunnableSequence > prompt:PromptTemplate] [1ms] Exiting Prompt run with output:\n",
      "\u001b[0m[outputs]\n",
      "\u001b[32;1m\u001b[1;3m[llm/start]\u001b[0m \u001b[1m[chain:RunnableWithMessageHistory > chain:check_sync_or_async > chain:RunnableSequence > chain:RunnableParallel<context,question,chat_history> > chain:chat_retriever_chain > chain:RunnableSequence > llm:ChatOpenAI] Entering LLM run with input:\n",
      "\u001b[0m{\n",
      "  \"prompts\": [\n",
      "    \"Human: Given the following conversation and a follow up question, rephrase the follow up question to be a standalone question.\\n\\nChat History:\\n{'input': \\\"And what is it's style?\\\", 'chat_history': [HumanMessage(content='What is the Mona Lisa?'), AIMessage(content='The Mona Lisa is a half-length portrait painting by the Italian artist Leonardo da Vinci. It is one of the most famous and iconic paintings in the world, known for its enigmatic expression and masterful use of technique. Leonardo da Vinci is considered one of the greatest artists of the Renaissance period, known for his attention to detail and realistic depiction of his subjects.', additional_kwargs={'refusal': None}, response_metadata={'token_usage': {'completion_tokens': 72, 'prompt_tokens': 125, 'total_tokens': 197}, 'model_name': 'gpt-3.5-turbo-0125', 'system_fingerprint': None, 'finish_reason': 'stop', 'logprobs': None}, id='run-f1a3d52f-85cc-4c0d-8fc1-af2eed7f1ff6-0', usage_metadata={'input_tokens': 125, 'output_tokens': 72, 'total_tokens': 197}), HumanMessage(content='What?'), AIMessage(content=\\\"Guide: I apologize for any confusion. I was just mentioning that the Mona Lisa is a famous half-length portrait painting created by Leonardo da Vinci. Leonardo da Vinci was an Italian artist known for his remarkable artworks during the Renaissance period. The Mona Lisa is considered a masterpiece due to its intricate details and mysterious smile. If you have any specific questions about the painting or Leonardo da Vinci's artistic style, feel free to ask.\\\", additional_kwargs={'refusal': None}, response_metadata={'token_usage': {'completion_tokens': 84, 'prompt_tokens': 117, 'total_tokens': 201}, 'model_name': 'gpt-3.5-turbo-0125', 'system_fingerprint': None, 'finish_reason': 'stop', 'logprobs': None}, id='run-1545fa75-1f4d-48cc-b0a1-03f908e716db-0', usage_metadata={'input_tokens': 117, 'output_tokens': 84, 'total_tokens': 201}), HumanMessage(content='What is the Mona Lisa?'), AIMessage(content=\\\"The Mona Lisa is a renowned half-length portrait painting by Leonardo da Vinci, showcasing his exceptional talent and attention to detail. Leonardo da Vinci, an Italian artist of the Renaissance period, was known for his mastery of technique and realistic depiction of his subjects. The painting's enigmatic expression and intricate details contribute to its status as a masterpiece. If you have any more questions about Leonardo da Vinci's artistic style or the Mona Lisa itself, feel free to ask!\\\", additional_kwargs={'refusal': None}, response_metadata={'token_usage': {'completion_tokens': 91, 'prompt_tokens': 1953, 'total_tokens': 2044}, 'model_name': 'gpt-3.5-turbo-0125', 'system_fingerprint': None, 'finish_reason': 'stop', 'logprobs': None}, id='run-98c2d458-bae3-4d19-9663-c3909c1e35a4-0', usage_metadata={'input_tokens': 1953, 'output_tokens': 91, 'total_tokens': 2044})]}\\nFollow Up Input: {'input': \\\"And what is it's style?\\\", 'chat_history': [HumanMessage(content='What is the Mona Lisa?'), AIMessage(content='The Mona Lisa is a half-length portrait painting by the Italian artist Leonardo da Vinci. It is one of the most famous and iconic paintings in the world, known for its enigmatic expression and masterful use of technique. Leonardo da Vinci is considered one of the greatest artists of the Renaissance period, known for his attention to detail and realistic depiction of his subjects.', additional_kwargs={'refusal': None}, response_metadata={'token_usage': {'completion_tokens': 72, 'prompt_tokens': 125, 'total_tokens': 197}, 'model_name': 'gpt-3.5-turbo-0125', 'system_fingerprint': None, 'finish_reason': 'stop', 'logprobs': None}, id='run-f1a3d52f-85cc-4c0d-8fc1-af2eed7f1ff6-0', usage_metadata={'input_tokens': 125, 'output_tokens': 72, 'total_tokens': 197}), HumanMessage(content='What?'), AIMessage(content=\\\"Guide: I apologize for any confusion. I was just mentioning that the Mona Lisa is a famous half-length portrait painting created by Leonardo da Vinci. Leonardo da Vinci was an Italian artist known for his remarkable artworks during the Renaissance period. The Mona Lisa is considered a masterpiece due to its intricate details and mysterious smile. If you have any specific questions about the painting or Leonardo da Vinci's artistic style, feel free to ask.\\\", additional_kwargs={'refusal': None}, response_metadata={'token_usage': {'completion_tokens': 84, 'prompt_tokens': 117, 'total_tokens': 201}, 'model_name': 'gpt-3.5-turbo-0125', 'system_fingerprint': None, 'finish_reason': 'stop', 'logprobs': None}, id='run-1545fa75-1f4d-48cc-b0a1-03f908e716db-0', usage_metadata={'input_tokens': 117, 'output_tokens': 84, 'total_tokens': 201}), HumanMessage(content='What is the Mona Lisa?'), AIMessage(content=\\\"The Mona Lisa is a renowned half-length portrait painting by Leonardo da Vinci, showcasing his exceptional talent and attention to detail. Leonardo da Vinci, an Italian artist of the Renaissance period, was known for his mastery of technique and realistic depiction of his subjects. The painting's enigmatic expression and intricate details contribute to its status as a masterpiece. If you have any more questions about Leonardo da Vinci's artistic style or the Mona Lisa itself, feel free to ask!\\\", additional_kwargs={'refusal': None}, response_metadata={'token_usage': {'completion_tokens': 91, 'prompt_tokens': 1953, 'total_tokens': 2044}, 'model_name': 'gpt-3.5-turbo-0125', 'system_fingerprint': None, 'finish_reason': 'stop', 'logprobs': None}, id='run-98c2d458-bae3-4d19-9663-c3909c1e35a4-0', usage_metadata={'input_tokens': 1953, 'output_tokens': 91, 'total_tokens': 2044})]}\\nStandalone Question:\"\n",
      "  ]\n",
      "}\n",
      "\u001b[36;1m\u001b[1;3m[llm/end]\u001b[0m \u001b[1m[chain:RunnableWithMessageHistory > chain:check_sync_or_async > chain:RunnableSequence > chain:RunnableParallel<context,question,chat_history> > chain:chat_retriever_chain > chain:RunnableSequence > llm:ChatOpenAI] [724ms] Exiting LLM run with output:\n",
      "\u001b[0m{\n",
      "  \"generations\": [\n",
      "    [\n",
      "      {\n",
      "        \"text\": \"What specific questions can I ask about Leonardo da Vinci's artistic style or the Mona Lisa itself?\",\n",
      "        \"generation_info\": {\n",
      "          \"finish_reason\": \"stop\",\n",
      "          \"logprobs\": null\n",
      "        },\n",
      "        \"type\": \"ChatGeneration\",\n",
      "        \"message\": {\n",
      "          \"lc\": 1,\n",
      "          \"type\": \"constructor\",\n",
      "          \"id\": [\n",
      "            \"langchain\",\n",
      "            \"schema\",\n",
      "            \"messages\",\n",
      "            \"AIMessage\"\n",
      "          ],\n",
      "          \"kwargs\": {\n",
      "            \"content\": \"What specific questions can I ask about Leonardo da Vinci's artistic style or the Mona Lisa itself?\",\n",
      "            \"additional_kwargs\": {\n",
      "              \"refusal\": null\n",
      "            },\n",
      "            \"response_metadata\": {\n",
      "              \"token_usage\": {\n",
      "                \"completion_tokens\": 19,\n",
      "                \"prompt_tokens\": 1430,\n",
      "                \"total_tokens\": 1449\n",
      "              },\n",
      "              \"model_name\": \"gpt-3.5-turbo-0125\",\n",
      "              \"system_fingerprint\": null,\n",
      "              \"finish_reason\": \"stop\",\n",
      "              \"logprobs\": null\n",
      "            },\n",
      "            \"type\": \"ai\",\n",
      "            \"id\": \"run-03c92cc2-e471-41c7-bdc4-6ea1443a22f0-0\",\n",
      "            \"usage_metadata\": {\n",
      "              \"input_tokens\": 1430,\n",
      "              \"output_tokens\": 19,\n",
      "              \"total_tokens\": 1449\n",
      "            },\n",
      "            \"tool_calls\": [],\n",
      "            \"invalid_tool_calls\": []\n",
      "          }\n",
      "        }\n",
      "      }\n",
      "    ]\n",
      "  ],\n",
      "  \"llm_output\": {\n",
      "    \"token_usage\": {\n",
      "      \"completion_tokens\": 19,\n",
      "      \"prompt_tokens\": 1430,\n",
      "      \"total_tokens\": 1449\n",
      "    },\n",
      "    \"model_name\": \"gpt-3.5-turbo-0125\",\n",
      "    \"system_fingerprint\": null\n",
      "  },\n",
      "  \"run\": null\n",
      "}\n",
      "\u001b[32;1m\u001b[1;3m[chain/start]\u001b[0m \u001b[1m[chain:RunnableWithMessageHistory > chain:check_sync_or_async > chain:RunnableSequence > chain:RunnableParallel<context,question,chat_history> > chain:chat_retriever_chain > chain:RunnableSequence > parser:StrOutputParser] Entering Parser run with input:\n",
      "\u001b[0m[inputs]\n",
      "\u001b[36;1m\u001b[1;3m[chain/end]\u001b[0m \u001b[1m[chain:RunnableWithMessageHistory > chain:check_sync_or_async > chain:RunnableSequence > chain:RunnableParallel<context,question,chat_history> > chain:chat_retriever_chain > chain:RunnableSequence > parser:StrOutputParser] [0ms] Exiting Parser run with output:\n",
      "\u001b[0m{\n",
      "  \"output\": \"What specific questions can I ask about Leonardo da Vinci's artistic style or the Mona Lisa itself?\"\n",
      "}\n",
      "\u001b[36;1m\u001b[1;3m[chain/end]\u001b[0m \u001b[1m[chain:RunnableWithMessageHistory > chain:check_sync_or_async > chain:RunnableSequence > chain:RunnableParallel<context,question,chat_history> > chain:chat_retriever_chain > chain:RunnableSequence] [749ms] Exiting Chain run with output:\n",
      "\u001b[0m[outputs]\n",
      "\u001b[36;1m\u001b[1;3m[chain/end]\u001b[0m \u001b[1m[chain:RunnableWithMessageHistory > chain:check_sync_or_async > chain:RunnableSequence > chain:RunnableParallel<context,question,chat_history> > chain:chat_retriever_chain] [752ms] Exiting Chain run with output:\n",
      "\u001b[0m{\n",
      "  \"output\": [\n",
      "    {\n",
      "      \"lc\": 1,\n",
      "      \"type\": \"constructor\",\n",
      "      \"id\": [\n",
      "        \"langchain\",\n",
      "        \"schema\",\n",
      "        \"document\",\n",
      "        \"Document\"\n",
      "      ],\n",
      "      \"kwargs\": {\n",
      "        \"page_content\": \"The Mona Lisa is a half-length portrait painting by the Italian artist Leonardo da Vinci.\",\n",
      "        \"type\": \"Document\"\n",
      "      }\n",
      "    },\n",
      "    {\n",
      "      \"lc\": 1,\n",
      "      \"type\": \"constructor\",\n",
      "      \"id\": [\n",
      "        \"langchain\",\n",
      "        \"schema\",\n",
      "        \"document\",\n",
      "        \"Document\"\n",
      "      ],\n",
      "      \"kwargs\": {\n",
      "        \"page_content\": \"The Mona Lisa is a half-length portrait painting by the Italian artist Leonardo da Vinci.\",\n",
      "        \"type\": \"Document\"\n",
      "      }\n",
      "    }\n",
      "  ]\n",
      "}\n",
      "\u001b[36;1m\u001b[1;3m[chain/end]\u001b[0m \u001b[1m[chain:RunnableWithMessageHistory > chain:check_sync_or_async > chain:RunnableSequence > chain:RunnableParallel<context,question,chat_history>] [761ms] Exiting Chain run with output:\n",
      "\u001b[0m[outputs]\n",
      "\u001b[32;1m\u001b[1;3m[chain/start]\u001b[0m \u001b[1m[chain:RunnableWithMessageHistory > chain:check_sync_or_async > chain:RunnableSequence > prompt:PromptTemplate] Entering Prompt run with input:\n",
      "\u001b[0m[inputs]\n",
      "\u001b[36;1m\u001b[1;3m[chain/end]\u001b[0m \u001b[1m[chain:RunnableWithMessageHistory > chain:check_sync_or_async > chain:RunnableSequence > prompt:PromptTemplate] [1ms] Exiting Prompt run with output:\n",
      "\u001b[0m[outputs]\n",
      "\u001b[32;1m\u001b[1;3m[llm/start]\u001b[0m \u001b[1m[chain:RunnableWithMessageHistory > chain:check_sync_or_async > chain:RunnableSequence > llm:ChatOpenAI] Entering LLM run with input:\n",
      "\u001b[0m{\n",
      "  \"prompts\": [\n",
      "    \"Human: \\nYou are the guide of an Art museum, you should answer to people questions, about Paints and\\nartistic styles, focusing you answers in the usage of the provided context always if that is possible, and considering what has been already told in the conversation.\\n\\nContext: [Document(page_content='The Mona Lisa is a half-length portrait painting by the Italian artist Leonardo da Vinci.'), Document(page_content='The Mona Lisa is a half-length portrait painting by the Italian artist Leonardo da Vinci.')]\\n\\nCurrent Conversation: {'chat_history': {'input': \\\"And what is it's style?\\\", 'chat_history': [HumanMessage(content='What is the Mona Lisa?'), AIMessage(content='The Mona Lisa is a half-length portrait painting by the Italian artist Leonardo da Vinci. It is one of the most famous and iconic paintings in the world, known for its enigmatic expression and masterful use of technique. Leonardo da Vinci is considered one of the greatest artists of the Renaissance period, known for his attention to detail and realistic depiction of his subjects.', additional_kwargs={'refusal': None}, response_metadata={'token_usage': {'completion_tokens': 72, 'prompt_tokens': 125, 'total_tokens': 197}, 'model_name': 'gpt-3.5-turbo-0125', 'system_fingerprint': None, 'finish_reason': 'stop', 'logprobs': None}, id='run-f1a3d52f-85cc-4c0d-8fc1-af2eed7f1ff6-0', usage_metadata={'input_tokens': 125, 'output_tokens': 72, 'total_tokens': 197}), HumanMessage(content='What?'), AIMessage(content=\\\"Guide: I apologize for any confusion. I was just mentioning that the Mona Lisa is a famous half-length portrait painting created by Leonardo da Vinci. Leonardo da Vinci was an Italian artist known for his remarkable artworks during the Renaissance period. The Mona Lisa is considered a masterpiece due to its intricate details and mysterious smile. If you have any specific questions about the painting or Leonardo da Vinci's artistic style, feel free to ask.\\\", additional_kwargs={'refusal': None}, response_metadata={'token_usage': {'completion_tokens': 84, 'prompt_tokens': 117, 'total_tokens': 201}, 'model_name': 'gpt-3.5-turbo-0125', 'system_fingerprint': None, 'finish_reason': 'stop', 'logprobs': None}, id='run-1545fa75-1f4d-48cc-b0a1-03f908e716db-0', usage_metadata={'input_tokens': 117, 'output_tokens': 84, 'total_tokens': 201}), HumanMessage(content='What is the Mona Lisa?'), AIMessage(content=\\\"The Mona Lisa is a renowned half-length portrait painting by Leonardo da Vinci, showcasing his exceptional talent and attention to detail. Leonardo da Vinci, an Italian artist of the Renaissance period, was known for his mastery of technique and realistic depiction of his subjects. The painting's enigmatic expression and intricate details contribute to its status as a masterpiece. If you have any more questions about Leonardo da Vinci's artistic style or the Mona Lisa itself, feel free to ask!\\\", additional_kwargs={'refusal': None}, response_metadata={'token_usage': {'completion_tokens': 91, 'prompt_tokens': 1953, 'total_tokens': 2044}, 'model_name': 'gpt-3.5-turbo-0125', 'system_fingerprint': None, 'finish_reason': 'stop', 'logprobs': None}, id='run-98c2d458-bae3-4d19-9663-c3909c1e35a4-0', usage_metadata={'input_tokens': 1953, 'output_tokens': 91, 'total_tokens': 2044})]}, 'input': {'input': \\\"And what is it's style?\\\", 'chat_history': [HumanMessage(content='What is the Mona Lisa?'), AIMessage(content='The Mona Lisa is a half-length portrait painting by the Italian artist Leonardo da Vinci. It is one of the most famous and iconic paintings in the world, known for its enigmatic expression and masterful use of technique. Leonardo da Vinci is considered one of the greatest artists of the Renaissance period, known for his attention to detail and realistic depiction of his subjects.', additional_kwargs={'refusal': None}, response_metadata={'token_usage': {'completion_tokens': 72, 'prompt_tokens': 125, 'total_tokens': 197}, 'model_name': 'gpt-3.5-turbo-0125', 'system_fingerprint': None, 'finish_reason': 'stop', 'logprobs': None}, id='run-f1a3d52f-85cc-4c0d-8fc1-af2eed7f1ff6-0', usage_metadata={'input_tokens': 125, 'output_tokens': 72, 'total_tokens': 197}), HumanMessage(content='What?'), AIMessage(content=\\\"Guide: I apologize for any confusion. I was just mentioning that the Mona Lisa is a famous half-length portrait painting created by Leonardo da Vinci. Leonardo da Vinci was an Italian artist known for his remarkable artworks during the Renaissance period. The Mona Lisa is considered a masterpiece due to its intricate details and mysterious smile. If you have any specific questions about the painting or Leonardo da Vinci's artistic style, feel free to ask.\\\", additional_kwargs={'refusal': None}, response_metadata={'token_usage': {'completion_tokens': 84, 'prompt_tokens': 117, 'total_tokens': 201}, 'model_name': 'gpt-3.5-turbo-0125', 'system_fingerprint': None, 'finish_reason': 'stop', 'logprobs': None}, id='run-1545fa75-1f4d-48cc-b0a1-03f908e716db-0', usage_metadata={'input_tokens': 117, 'output_tokens': 84, 'total_tokens': 201}), HumanMessage(content='What is the Mona Lisa?'), AIMessage(content=\\\"The Mona Lisa is a renowned half-length portrait painting by Leonardo da Vinci, showcasing his exceptional talent and attention to detail. Leonardo da Vinci, an Italian artist of the Renaissance period, was known for his mastery of technique and realistic depiction of his subjects. The painting's enigmatic expression and intricate details contribute to its status as a masterpiece. If you have any more questions about Leonardo da Vinci's artistic style or the Mona Lisa itself, feel free to ask!\\\", additional_kwargs={'refusal': None}, response_metadata={'token_usage': {'completion_tokens': 91, 'prompt_tokens': 1953, 'total_tokens': 2044}, 'model_name': 'gpt-3.5-turbo-0125', 'system_fingerprint': None, 'finish_reason': 'stop', 'logprobs': None}, id='run-98c2d458-bae3-4d19-9663-c3909c1e35a4-0', usage_metadata={'input_tokens': 1953, 'output_tokens': 91, 'total_tokens': 2044})]}}\\n\\nUser question: {'chat_history': {'input': \\\"And what is it's style?\\\", 'chat_history': [HumanMessage(content='What is the Mona Lisa?'), AIMessage(content='The Mona Lisa is a half-length portrait painting by the Italian artist Leonardo da Vinci. It is one of the most famous and iconic paintings in the world, known for its enigmatic expression and masterful use of technique. Leonardo da Vinci is considered one of the greatest artists of the Renaissance period, known for his attention to detail and realistic depiction of his subjects.', additional_kwargs={'refusal': None}, response_metadata={'token_usage': {'completion_tokens': 72, 'prompt_tokens': 125, 'total_tokens': 197}, 'model_name': 'gpt-3.5-turbo-0125', 'system_fingerprint': None, 'finish_reason': 'stop', 'logprobs': None}, id='run-f1a3d52f-85cc-4c0d-8fc1-af2eed7f1ff6-0', usage_metadata={'input_tokens': 125, 'output_tokens': 72, 'total_tokens': 197}), HumanMessage(content='What?'), AIMessage(content=\\\"Guide: I apologize for any confusion. I was just mentioning that the Mona Lisa is a famous half-length portrait painting created by Leonardo da Vinci. Leonardo da Vinci was an Italian artist known for his remarkable artworks during the Renaissance period. The Mona Lisa is considered a masterpiece due to its intricate details and mysterious smile. If you have any specific questions about the painting or Leonardo da Vinci's artistic style, feel free to ask.\\\", additional_kwargs={'refusal': None}, response_metadata={'token_usage': {'completion_tokens': 84, 'prompt_tokens': 117, 'total_tokens': 201}, 'model_name': 'gpt-3.5-turbo-0125', 'system_fingerprint': None, 'finish_reason': 'stop', 'logprobs': None}, id='run-1545fa75-1f4d-48cc-b0a1-03f908e716db-0', usage_metadata={'input_tokens': 117, 'output_tokens': 84, 'total_tokens': 201}), HumanMessage(content='What is the Mona Lisa?'), AIMessage(content=\\\"The Mona Lisa is a renowned half-length portrait painting by Leonardo da Vinci, showcasing his exceptional talent and attention to detail. Leonardo da Vinci, an Italian artist of the Renaissance period, was known for his mastery of technique and realistic depiction of his subjects. The painting's enigmatic expression and intricate details contribute to its status as a masterpiece. If you have any more questions about Leonardo da Vinci's artistic style or the Mona Lisa itself, feel free to ask!\\\", additional_kwargs={'refusal': None}, response_metadata={'token_usage': {'completion_tokens': 91, 'prompt_tokens': 1953, 'total_tokens': 2044}, 'model_name': 'gpt-3.5-turbo-0125', 'system_fingerprint': None, 'finish_reason': 'stop', 'logprobs': None}, id='run-98c2d458-bae3-4d19-9663-c3909c1e35a4-0', usage_metadata={'input_tokens': 1953, 'output_tokens': 91, 'total_tokens': 2044})]}, 'input': {'input': \\\"And what is it's style?\\\", 'chat_history': [HumanMessage(content='What is the Mona Lisa?'), AIMessage(content='The Mona Lisa is a half-length portrait painting by the Italian artist Leonardo da Vinci. It is one of the most famous and iconic paintings in the world, known for its enigmatic expression and masterful use of technique. Leonardo da Vinci is considered one of the greatest artists of the Renaissance period, known for his attention to detail and realistic depiction of his subjects.', additional_kwargs={'refusal': None}, response_metadata={'token_usage': {'completion_tokens': 72, 'prompt_tokens': 125, 'total_tokens': 197}, 'model_name': 'gpt-3.5-turbo-0125', 'system_fingerprint': None, 'finish_reason': 'stop', 'logprobs': None}, id='run-f1a3d52f-85cc-4c0d-8fc1-af2eed7f1ff6-0', usage_metadata={'input_tokens': 125, 'output_tokens': 72, 'total_tokens': 197}), HumanMessage(content='What?'), AIMessage(content=\\\"Guide: I apologize for any confusion. I was just mentioning that the Mona Lisa is a famous half-length portrait painting created by Leonardo da Vinci. Leonardo da Vinci was an Italian artist known for his remarkable artworks during the Renaissance period. The Mona Lisa is considered a masterpiece due to its intricate details and mysterious smile. If you have any specific questions about the painting or Leonardo da Vinci's artistic style, feel free to ask.\\\", additional_kwargs={'refusal': None}, response_metadata={'token_usage': {'completion_tokens': 84, 'prompt_tokens': 117, 'total_tokens': 201}, 'model_name': 'gpt-3.5-turbo-0125', 'system_fingerprint': None, 'finish_reason': 'stop', 'logprobs': None}, id='run-1545fa75-1f4d-48cc-b0a1-03f908e716db-0', usage_metadata={'input_tokens': 117, 'output_tokens': 84, 'total_tokens': 201}), HumanMessage(content='What is the Mona Lisa?'), AIMessage(content=\\\"The Mona Lisa is a renowned half-length portrait painting by Leonardo da Vinci, showcasing his exceptional talent and attention to detail. Leonardo da Vinci, an Italian artist of the Renaissance period, was known for his mastery of technique and realistic depiction of his subjects. The painting's enigmatic expression and intricate details contribute to its status as a masterpiece. If you have any more questions about Leonardo da Vinci's artistic style or the Mona Lisa itself, feel free to ask!\\\", additional_kwargs={'refusal': None}, response_metadata={'token_usage': {'completion_tokens': 91, 'prompt_tokens': 1953, 'total_tokens': 2044}, 'model_name': 'gpt-3.5-turbo-0125', 'system_fingerprint': None, 'finish_reason': 'stop', 'logprobs': None}, id='run-98c2d458-bae3-4d19-9663-c3909c1e35a4-0', usage_metadata={'input_tokens': 1953, 'output_tokens': 91, 'total_tokens': 2044})]}}\"\n",
      "  ]\n",
      "}\n",
      "\u001b[36;1m\u001b[1;3m[llm/end]\u001b[0m \u001b[1m[chain:RunnableWithMessageHistory > chain:check_sync_or_async > chain:RunnableSequence > llm:ChatOpenAI] [1.91s] Exiting LLM run with output:\n",
      "\u001b[0m{\n",
      "  \"generations\": [\n",
      "    [\n",
      "      {\n",
      "        \"text\": \"The style of the Mona Lisa can be classified as High Renaissance. This period was known for its emphasis on harmony, balance, and realism in art. Leonardo da Vinci's meticulous attention to detail and his use of sfumato (a technique of blending tones to create a soft transition between colors) in the Mona Lisa exemplify the characteristics of the High Renaissance style. This painting is a prime example of the era's focus on naturalism and the portrayal of the human form with precision and grace. If you have any more questions about this particular style or any other artistic styles, feel free to ask!\",\n",
      "        \"generation_info\": {\n",
      "          \"finish_reason\": \"stop\",\n",
      "          \"logprobs\": null\n",
      "        },\n",
      "        \"type\": \"ChatGeneration\",\n",
      "        \"message\": {\n",
      "          \"lc\": 1,\n",
      "          \"type\": \"constructor\",\n",
      "          \"id\": [\n",
      "            \"langchain\",\n",
      "            \"schema\",\n",
      "            \"messages\",\n",
      "            \"AIMessage\"\n",
      "          ],\n",
      "          \"kwargs\": {\n",
      "            \"content\": \"The style of the Mona Lisa can be classified as High Renaissance. This period was known for its emphasis on harmony, balance, and realism in art. Leonardo da Vinci's meticulous attention to detail and his use of sfumato (a technique of blending tones to create a soft transition between colors) in the Mona Lisa exemplify the characteristics of the High Renaissance style. This painting is a prime example of the era's focus on naturalism and the portrayal of the human form with precision and grace. If you have any more questions about this particular style or any other artistic styles, feel free to ask!\",\n",
      "            \"additional_kwargs\": {\n",
      "              \"refusal\": null\n",
      "            },\n",
      "            \"response_metadata\": {\n",
      "              \"token_usage\": {\n",
      "                \"completion_tokens\": 120,\n",
      "                \"prompt_tokens\": 2909,\n",
      "                \"total_tokens\": 3029\n",
      "              },\n",
      "              \"model_name\": \"gpt-3.5-turbo-0125\",\n",
      "              \"system_fingerprint\": null,\n",
      "              \"finish_reason\": \"stop\",\n",
      "              \"logprobs\": null\n",
      "            },\n",
      "            \"type\": \"ai\",\n",
      "            \"id\": \"run-c2f9ef7e-01e5-4a6a-9193-a78a11901c46-0\",\n",
      "            \"usage_metadata\": {\n",
      "              \"input_tokens\": 2909,\n",
      "              \"output_tokens\": 120,\n",
      "              \"total_tokens\": 3029\n",
      "            },\n",
      "            \"tool_calls\": [],\n",
      "            \"invalid_tool_calls\": []\n",
      "          }\n",
      "        }\n",
      "      }\n",
      "    ]\n",
      "  ],\n",
      "  \"llm_output\": {\n",
      "    \"token_usage\": {\n",
      "      \"completion_tokens\": 120,\n",
      "      \"prompt_tokens\": 2909,\n",
      "      \"total_tokens\": 3029\n",
      "    },\n",
      "    \"model_name\": \"gpt-3.5-turbo-0125\",\n",
      "    \"system_fingerprint\": null\n",
      "  },\n",
      "  \"run\": null\n",
      "}\n",
      "\u001b[36;1m\u001b[1;3m[chain/end]\u001b[0m \u001b[1m[chain:RunnableWithMessageHistory > chain:check_sync_or_async > chain:RunnableSequence] [2.68s] Exiting Chain run with output:\n",
      "\u001b[0m[outputs]\n",
      "\u001b[36;1m\u001b[1;3m[chain/end]\u001b[0m \u001b[1m[chain:RunnableWithMessageHistory > chain:check_sync_or_async] [2.69s] Exiting Chain run with output:\n",
      "\u001b[0m[outputs]\n",
      "\u001b[36;1m\u001b[1;3m[chain/end]\u001b[0m \u001b[1m[chain:RunnableWithMessageHistory] [2.71s] Exiting Chain run with output:\n",
      "\u001b[0m[outputs]\n"
     ]
    },
    {
     "data": {
      "text/plain": [
       "AIMessage(content=\"The style of the Mona Lisa can be classified as High Renaissance. This period was known for its emphasis on harmony, balance, and realism in art. Leonardo da Vinci's meticulous attention to detail and his use of sfumato (a technique of blending tones to create a soft transition between colors) in the Mona Lisa exemplify the characteristics of the High Renaissance style. This painting is a prime example of the era's focus on naturalism and the portrayal of the human form with precision and grace. If you have any more questions about this particular style or any other artistic styles, feel free to ask!\", additional_kwargs={'refusal': None}, response_metadata={'token_usage': {'completion_tokens': 120, 'prompt_tokens': 2909, 'total_tokens': 3029}, 'model_name': 'gpt-3.5-turbo-0125', 'system_fingerprint': None, 'finish_reason': 'stop', 'logprobs': None}, id='run-c2f9ef7e-01e5-4a6a-9193-a78a11901c46-0', usage_metadata={'input_tokens': 2909, 'output_tokens': 120, 'total_tokens': 3029})"
      ]
     },
     "execution_count": 41,
     "metadata": {},
     "output_type": "execute_result"
    }
   ],
   "source": [
    "with_message_history.invoke({ \"input\": \"And what is it's style?\"},\n",
    "    config={\"configurable\": {\"session_id\": \"abc123\"}}) "
   ]
  },
  {
   "cell_type": "markdown",
   "metadata": {},
   "source": [
    "Not without effort, we can see there that now, using the conversation history as reference, the LLM is able to rephrase the question inputed by the user to specify that it is talking about 'La Mona Lisa'. \n",
    "\n",
    "This query rephrasing step, to not use the same query to filter out the Vector Database that the user has write in natural language, is one of the key points that can be greatly improved, and there are multiple techniques available ([Langchain Retriever Functions](https://python.langchain.com/v0.1/docs/modules/data_connection/retrievers/)). Let's try to customize other of the key points in this type of uses, the memory. We can add a custom Runnable to modify how the history of messages is inserted in the prompt, lets create a function that only takes the last 2 messages for instance"
   ]
  },
  {
   "cell_type": "code",
   "execution_count": 42,
   "metadata": {},
   "outputs": [],
   "source": [
    "def select_last_2_messages(chat_history):\n",
    "\n",
    "    if len(chat_history) <2:\n",
    "        return chat_history\n",
    "    else:\n",
    "        print(\"Shortering chat messages\")\n",
    "        print(chat_history)\n",
    "        print(chat_history[-2:])\n",
    "        return chat_history[-2:]"
   ]
  },
  {
   "cell_type": "code",
   "execution_count": 43,
   "metadata": {},
   "outputs": [],
   "source": [
    "with_message_history = RunnableWithMessageHistory(\n",
    "    {'chat_history': itemgetter('chat_history') | RunnableLambda(select_last_2_messages), \"input\": itemgetter('input') | RunnablePassthrough()  } | first_chain,\n",
    "    get_session_history,\n",
    "    input_messages_key=\"input\",\n",
    "    history_messages_key=\"chat_history\"\n",
    ")"
   ]
  },
  {
   "cell_type": "code",
   "execution_count": 44,
   "metadata": {},
   "outputs": [
    {
     "name": "stdout",
     "output_type": "stream",
     "text": [
      "\u001b[32;1m\u001b[1;3m[chain/start]\u001b[0m \u001b[1m[chain:RunnableWithMessageHistory] Entering Chain run with input:\n",
      "\u001b[0m{\n",
      "  \"input\": \"What is the Mona Lisa?\"\n",
      "}\n",
      "\u001b[32;1m\u001b[1;3m[chain/start]\u001b[0m \u001b[1m[chain:RunnableWithMessageHistory > chain:insert_history] Entering Chain run with input:\n",
      "\u001b[0m{\n",
      "  \"input\": \"What is the Mona Lisa?\"\n",
      "}\n",
      "\u001b[32;1m\u001b[1;3m[chain/start]\u001b[0m \u001b[1m[chain:RunnableWithMessageHistory > chain:insert_history > chain:RunnableParallel<chat_history>] Entering Chain run with input:\n",
      "\u001b[0m{\n",
      "  \"input\": \"What is the Mona Lisa?\"\n",
      "}\n",
      "\u001b[32;1m\u001b[1;3m[chain/start]\u001b[0m \u001b[1m[chain:RunnableWithMessageHistory > chain:insert_history > chain:RunnableParallel<chat_history> > chain:load_history] Entering Chain run with input:\n",
      "\u001b[0m{\n",
      "  \"input\": \"What is the Mona Lisa?\"\n",
      "}\n",
      "\u001b[36;1m\u001b[1;3m[chain/end]\u001b[0m \u001b[1m[chain:RunnableWithMessageHistory > chain:insert_history > chain:RunnableParallel<chat_history> > chain:load_history] [1ms] Exiting Chain run with output:\n",
      "\u001b[0m[outputs]\n",
      "\u001b[36;1m\u001b[1;3m[chain/end]\u001b[0m \u001b[1m[chain:RunnableWithMessageHistory > chain:insert_history > chain:RunnableParallel<chat_history>] [5ms] Exiting Chain run with output:\n",
      "\u001b[0m[outputs]\n",
      "\u001b[36;1m\u001b[1;3m[chain/end]\u001b[0m \u001b[1m[chain:RunnableWithMessageHistory > chain:insert_history] [11ms] Exiting Chain run with output:\n",
      "\u001b[0m[outputs]\n",
      "\u001b[32;1m\u001b[1;3m[chain/start]\u001b[0m \u001b[1m[chain:RunnableWithMessageHistory > chain:check_sync_or_async] Entering Chain run with input:\n",
      "\u001b[0m[inputs]\n",
      "\u001b[32;1m\u001b[1;3m[chain/start]\u001b[0m \u001b[1m[chain:RunnableWithMessageHistory > chain:check_sync_or_async > chain:RunnableSequence] Entering Chain run with input:\n",
      "\u001b[0m[inputs]\n",
      "\u001b[32;1m\u001b[1;3m[chain/start]\u001b[0m \u001b[1m[chain:RunnableWithMessageHistory > chain:check_sync_or_async > chain:RunnableSequence > chain:RunnableParallel<chat_history,input>] Entering Chain run with input:\n",
      "\u001b[0m[inputs]\n",
      "\u001b[32;1m\u001b[1;3m[chain/start]\u001b[0m \u001b[1m[chain:RunnableWithMessageHistory > chain:check_sync_or_async > chain:RunnableSequence > chain:RunnableParallel<chat_history,input> > chain:RunnableSequence] Entering Chain run with input:\n",
      "\u001b[0m[inputs]\n",
      "\u001b[32;1m\u001b[1;3m[chain/start]\u001b[0m \u001b[1m[chain:RunnableWithMessageHistory > chain:check_sync_or_async > chain:RunnableSequence > chain:RunnableParallel<chat_history,input> > chain:RunnableSequence > chain:RunnableLambda] Entering Chain run with input:\n",
      "\u001b[0m[inputs]\n",
      "\u001b[36;1m\u001b[1;3m[chain/end]\u001b[0m \u001b[1m[chain:RunnableWithMessageHistory > chain:check_sync_or_async > chain:RunnableSequence > chain:RunnableParallel<chat_history,input> > chain:RunnableSequence > chain:RunnableLambda] [0ms] Exiting Chain run with output:\n",
      "\u001b[0m{\n",
      "  \"output\": \"What is the Mona Lisa?\"\n",
      "}\n",
      "\u001b[32;1m\u001b[1;3m[chain/start]\u001b[0m \u001b[1m[chain:RunnableWithMessageHistory > chain:check_sync_or_async > chain:RunnableSequence > chain:RunnableParallel<chat_history,input> > chain:RunnableSequence > chain:RunnablePassthrough] Entering Chain run with input:\n",
      "\u001b[0m{\n",
      "  \"input\": \"What is the Mona Lisa?\"\n",
      "}\n",
      "\u001b[36;1m\u001b[1;3m[chain/end]\u001b[0m \u001b[1m[chain:RunnableWithMessageHistory > chain:check_sync_or_async > chain:RunnableSequence > chain:RunnableParallel<chat_history,input> > chain:RunnableSequence > chain:RunnablePassthrough] [1ms] Exiting Chain run with output:\n",
      "\u001b[0m{\n",
      "  \"output\": \"What is the Mona Lisa?\"\n",
      "}\n",
      "\u001b[36;1m\u001b[1;3m[chain/end]\u001b[0m \u001b[1m[chain:RunnableWithMessageHistory > chain:check_sync_or_async > chain:RunnableSequence > chain:RunnableParallel<chat_history,input> > chain:RunnableSequence] [2ms] Exiting Chain run with output:\n",
      "\u001b[0m{\n",
      "  \"output\": \"What is the Mona Lisa?\"\n",
      "}\n",
      "\u001b[32;1m\u001b[1;3m[chain/start]\u001b[0m \u001b[1m[chain:RunnableWithMessageHistory > chain:check_sync_or_async > chain:RunnableSequence > chain:RunnableParallel<chat_history,input> > chain:RunnableSequence] Entering Chain run with input:\n",
      "\u001b[0m[inputs]\n",
      "\u001b[32;1m\u001b[1;3m[chain/start]\u001b[0m \u001b[1m[chain:RunnableWithMessageHistory > chain:check_sync_or_async > chain:RunnableSequence > chain:RunnableParallel<chat_history,input> > chain:RunnableSequence > chain:RunnableLambda] Entering Chain run with input:\n",
      "\u001b[0m[inputs]\n",
      "\u001b[36;1m\u001b[1;3m[chain/end]\u001b[0m \u001b[1m[chain:RunnableWithMessageHistory > chain:check_sync_or_async > chain:RunnableSequence > chain:RunnableParallel<chat_history,input> > chain:RunnableSequence > chain:RunnableLambda] [0ms] Exiting Chain run with output:\n",
      "\u001b[0m[outputs]\n",
      "\u001b[32;1m\u001b[1;3m[chain/start]\u001b[0m \u001b[1m[chain:RunnableWithMessageHistory > chain:check_sync_or_async > chain:RunnableSequence > chain:RunnableParallel<chat_history,input> > chain:RunnableSequence > chain:select_last_2_messages] Entering Chain run with input:\n",
      "\u001b[0m[inputs]\n",
      "Shortering chat messages\n",
      "[HumanMessage(content='What is the Mona Lisa?'), AIMessage(content='The Mona Lisa is a half-length portrait painting by the Italian artist Leonardo da Vinci. It is one of the most famous and iconic paintings in the world, known for its enigmatic expression and masterful use of technique. Leonardo da Vinci is considered one of the greatest artists of the Renaissance period, known for his attention to detail and realistic depiction of his subjects.', additional_kwargs={'refusal': None}, response_metadata={'token_usage': {'completion_tokens': 72, 'prompt_tokens': 125, 'total_tokens': 197}, 'model_name': 'gpt-3.5-turbo-0125', 'system_fingerprint': None, 'finish_reason': 'stop', 'logprobs': None}, id='run-f1a3d52f-85cc-4c0d-8fc1-af2eed7f1ff6-0', usage_metadata={'input_tokens': 125, 'output_tokens': 72, 'total_tokens': 197}), HumanMessage(content='What?'), AIMessage(content=\"Guide: I apologize for any confusion. I was just mentioning that the Mona Lisa is a famous half-length portrait painting created by Leonardo da Vinci. Leonardo da Vinci was an Italian artist known for his remarkable artworks during the Renaissance period. The Mona Lisa is considered a masterpiece due to its intricate details and mysterious smile. If you have any specific questions about the painting or Leonardo da Vinci's artistic style, feel free to ask.\", additional_kwargs={'refusal': None}, response_metadata={'token_usage': {'completion_tokens': 84, 'prompt_tokens': 117, 'total_tokens': 201}, 'model_name': 'gpt-3.5-turbo-0125', 'system_fingerprint': None, 'finish_reason': 'stop', 'logprobs': None}, id='run-1545fa75-1f4d-48cc-b0a1-03f908e716db-0', usage_metadata={'input_tokens': 117, 'output_tokens': 84, 'total_tokens': 201}), HumanMessage(content='What is the Mona Lisa?'), AIMessage(content=\"The Mona Lisa is a renowned half-length portrait painting by Leonardo da Vinci, showcasing his exceptional talent and attention to detail. Leonardo da Vinci, an Italian artist of the Renaissance period, was known for his mastery of technique and realistic depiction of his subjects. The painting's enigmatic expression and intricate details contribute to its status as a masterpiece. If you have any more questions about Leonardo da Vinci's artistic style or the Mona Lisa itself, feel free to ask!\", additional_kwargs={'refusal': None}, response_metadata={'token_usage': {'completion_tokens': 91, 'prompt_tokens': 1953, 'total_tokens': 2044}, 'model_name': 'gpt-3.5-turbo-0125', 'system_fingerprint': None, 'finish_reason': 'stop', 'logprobs': None}, id='run-98c2d458-bae3-4d19-9663-c3909c1e35a4-0', usage_metadata={'input_tokens': 1953, 'output_tokens': 91, 'total_tokens': 2044}), HumanMessage(content=\"And what is it's style?\"), AIMessage(content=\"The style of the Mona Lisa can be classified as High Renaissance. This period was known for its emphasis on harmony, balance, and realism in art. Leonardo da Vinci's meticulous attention to detail and his use of sfumato (a technique of blending tones to create a soft transition between colors) in the Mona Lisa exemplify the characteristics of the High Renaissance style. This painting is a prime example of the era's focus on naturalism and the portrayal of the human form with precision and grace. If you have any more questions about this particular style or any other artistic styles, feel free to ask!\", additional_kwargs={'refusal': None}, response_metadata={'token_usage': {'completion_tokens': 120, 'prompt_tokens': 2909, 'total_tokens': 3029}, 'model_name': 'gpt-3.5-turbo-0125', 'system_fingerprint': None, 'finish_reason': 'stop', 'logprobs': None}, id='run-c2f9ef7e-01e5-4a6a-9193-a78a11901c46-0', usage_metadata={'input_tokens': 2909, 'output_tokens': 120, 'total_tokens': 3029})]\n",
      "[HumanMessage(content=\"And what is it's style?\"), AIMessage(content=\"The style of the Mona Lisa can be classified as High Renaissance. This period was known for its emphasis on harmony, balance, and realism in art. Leonardo da Vinci's meticulous attention to detail and his use of sfumato (a technique of blending tones to create a soft transition between colors) in the Mona Lisa exemplify the characteristics of the High Renaissance style. This painting is a prime example of the era's focus on naturalism and the portrayal of the human form with precision and grace. If you have any more questions about this particular style or any other artistic styles, feel free to ask!\", additional_kwargs={'refusal': None}, response_metadata={'token_usage': {'completion_tokens': 120, 'prompt_tokens': 2909, 'total_tokens': 3029}, 'model_name': 'gpt-3.5-turbo-0125', 'system_fingerprint': None, 'finish_reason': 'stop', 'logprobs': None}, id='run-c2f9ef7e-01e5-4a6a-9193-a78a11901c46-0', usage_metadata={'input_tokens': 2909, 'output_tokens': 120, 'total_tokens': 3029})]\n",
      "\u001b[36;1m\u001b[1;3m[chain/end]\u001b[0m \u001b[1m[chain:RunnableWithMessageHistory > chain:check_sync_or_async > chain:RunnableSequence > chain:RunnableParallel<chat_history,input> > chain:RunnableSequence > chain:select_last_2_messages] [1ms] Exiting Chain run with output:\n",
      "\u001b[0m[outputs]\n",
      "\u001b[36;1m\u001b[1;3m[chain/end]\u001b[0m \u001b[1m[chain:RunnableWithMessageHistory > chain:check_sync_or_async > chain:RunnableSequence > chain:RunnableParallel<chat_history,input> > chain:RunnableSequence] [3ms] Exiting Chain run with output:\n",
      "\u001b[0m[outputs]\n",
      "\u001b[36;1m\u001b[1;3m[chain/end]\u001b[0m \u001b[1m[chain:RunnableWithMessageHistory > chain:check_sync_or_async > chain:RunnableSequence > chain:RunnableParallel<chat_history,input>] [12ms] Exiting Chain run with output:\n",
      "\u001b[0m[outputs]\n",
      "\u001b[32;1m\u001b[1;3m[chain/start]\u001b[0m \u001b[1m[chain:RunnableWithMessageHistory > chain:check_sync_or_async > chain:RunnableSequence > chain:RunnableParallel<context,question,chat_history>] Entering Chain run with input:\n",
      "\u001b[0m[inputs]\n",
      "\u001b[32;1m\u001b[1;3m[chain/start]\u001b[0m \u001b[1m[chain:RunnableWithMessageHistory > chain:check_sync_or_async > chain:RunnableSequence > chain:RunnableParallel<context,question,chat_history> > chain:RunnablePassthrough] Entering Chain run with input:\n",
      "\u001b[0m[inputs]\n",
      "\u001b[36;1m\u001b[1;3m[chain/end]\u001b[0m \u001b[1m[chain:RunnableWithMessageHistory > chain:check_sync_or_async > chain:RunnableSequence > chain:RunnableParallel<context,question,chat_history> > chain:RunnablePassthrough] [1ms] Exiting Chain run with output:\n",
      "\u001b[0m[outputs]\n",
      "\u001b[32;1m\u001b[1;3m[chain/start]\u001b[0m \u001b[1m[chain:RunnableWithMessageHistory > chain:check_sync_or_async > chain:RunnableSequence > chain:RunnableParallel<context,question,chat_history> > chain:RunnablePassthrough] Entering Chain run with input:\n",
      "\u001b[0m[inputs]\n",
      "\u001b[36;1m\u001b[1;3m[chain/end]\u001b[0m \u001b[1m[chain:RunnableWithMessageHistory > chain:check_sync_or_async > chain:RunnableSequence > chain:RunnableParallel<context,question,chat_history> > chain:RunnablePassthrough] [0ms] Exiting Chain run with output:\n",
      "\u001b[0m[outputs]\n",
      "\u001b[32;1m\u001b[1;3m[chain/start]\u001b[0m \u001b[1m[chain:RunnableWithMessageHistory > chain:check_sync_or_async > chain:RunnableSequence > chain:RunnableParallel<context,question,chat_history> > chain:chat_retriever_chain] Entering Chain run with input:\n",
      "\u001b[0m[inputs]\n",
      "\u001b[32;1m\u001b[1;3m[chain/start]\u001b[0m \u001b[1m[chain:RunnableWithMessageHistory > chain:check_sync_or_async > chain:RunnableSequence > chain:RunnableParallel<context,question,chat_history> > chain:chat_retriever_chain > chain:RunnableLambda] Entering Chain run with input:\n",
      "\u001b[0m[inputs]\n",
      "\u001b[36;1m\u001b[1;3m[chain/end]\u001b[0m \u001b[1m[chain:RunnableWithMessageHistory > chain:check_sync_or_async > chain:RunnableSequence > chain:RunnableParallel<context,question,chat_history> > chain:chat_retriever_chain > chain:RunnableLambda] [0ms] Exiting Chain run with output:\n",
      "\u001b[0m{\n",
      "  \"output\": false\n",
      "}\n",
      "\u001b[32;1m\u001b[1;3m[chain/start]\u001b[0m \u001b[1m[chain:RunnableWithMessageHistory > chain:check_sync_or_async > chain:RunnableSequence > chain:RunnableParallel<context,question,chat_history> > chain:chat_retriever_chain > chain:RunnableSequence] Entering Chain run with input:\n",
      "\u001b[0m[inputs]\n",
      "\u001b[32;1m\u001b[1;3m[chain/start]\u001b[0m \u001b[1m[chain:RunnableWithMessageHistory > chain:check_sync_or_async > chain:RunnableSequence > chain:RunnableParallel<context,question,chat_history> > chain:chat_retriever_chain > chain:RunnableSequence > prompt:PromptTemplate] Entering Prompt run with input:\n",
      "\u001b[0m[inputs]\n",
      "\u001b[36;1m\u001b[1;3m[chain/end]\u001b[0m \u001b[1m[chain:RunnableWithMessageHistory > chain:check_sync_or_async > chain:RunnableSequence > chain:RunnableParallel<context,question,chat_history> > chain:chat_retriever_chain > chain:RunnableSequence > prompt:PromptTemplate] [1ms] Exiting Prompt run with output:\n",
      "\u001b[0m[outputs]\n",
      "\u001b[32;1m\u001b[1;3m[llm/start]\u001b[0m \u001b[1m[chain:RunnableWithMessageHistory > chain:check_sync_or_async > chain:RunnableSequence > chain:RunnableParallel<context,question,chat_history> > chain:chat_retriever_chain > chain:RunnableSequence > llm:ChatOpenAI] Entering LLM run with input:\n",
      "\u001b[0m{\n",
      "  \"prompts\": [\n",
      "    \"Human: Given the following conversation and a follow up question, rephrase the follow up question to be a standalone question.\\n\\nChat History:\\n[HumanMessage(content=\\\"And what is it's style?\\\"), AIMessage(content=\\\"The style of the Mona Lisa can be classified as High Renaissance. This period was known for its emphasis on harmony, balance, and realism in art. Leonardo da Vinci's meticulous attention to detail and his use of sfumato (a technique of blending tones to create a soft transition between colors) in the Mona Lisa exemplify the characteristics of the High Renaissance style. This painting is a prime example of the era's focus on naturalism and the portrayal of the human form with precision and grace. If you have any more questions about this particular style or any other artistic styles, feel free to ask!\\\", additional_kwargs={'refusal': None}, response_metadata={'token_usage': {'completion_tokens': 120, 'prompt_tokens': 2909, 'total_tokens': 3029}, 'model_name': 'gpt-3.5-turbo-0125', 'system_fingerprint': None, 'finish_reason': 'stop', 'logprobs': None}, id='run-c2f9ef7e-01e5-4a6a-9193-a78a11901c46-0', usage_metadata={'input_tokens': 2909, 'output_tokens': 120, 'total_tokens': 3029})]\\nFollow Up Input: What is the Mona Lisa?\\nStandalone Question:\"\n",
      "  ]\n",
      "}\n",
      "\u001b[36;1m\u001b[1;3m[llm/end]\u001b[0m \u001b[1m[chain:RunnableWithMessageHistory > chain:check_sync_or_async > chain:RunnableSequence > chain:RunnableParallel<context,question,chat_history> > chain:chat_retriever_chain > chain:RunnableSequence > llm:ChatOpenAI] [751ms] Exiting LLM run with output:\n",
      "\u001b[0m{\n",
      "  \"generations\": [\n",
      "    [\n",
      "      {\n",
      "        \"text\": \"What characteristics exemplify the High Renaissance style in the Mona Lisa painting by Leonardo da Vinci?\",\n",
      "        \"generation_info\": {\n",
      "          \"finish_reason\": \"stop\",\n",
      "          \"logprobs\": null\n",
      "        },\n",
      "        \"type\": \"ChatGeneration\",\n",
      "        \"message\": {\n",
      "          \"lc\": 1,\n",
      "          \"type\": \"constructor\",\n",
      "          \"id\": [\n",
      "            \"langchain\",\n",
      "            \"schema\",\n",
      "            \"messages\",\n",
      "            \"AIMessage\"\n",
      "          ],\n",
      "          \"kwargs\": {\n",
      "            \"content\": \"What characteristics exemplify the High Renaissance style in the Mona Lisa painting by Leonardo da Vinci?\",\n",
      "            \"additional_kwargs\": {\n",
      "              \"refusal\": null\n",
      "            },\n",
      "            \"response_metadata\": {\n",
      "              \"token_usage\": {\n",
      "                \"completion_tokens\": 18,\n",
      "                \"prompt_tokens\": 317,\n",
      "                \"total_tokens\": 335\n",
      "              },\n",
      "              \"model_name\": \"gpt-3.5-turbo-0125\",\n",
      "              \"system_fingerprint\": null,\n",
      "              \"finish_reason\": \"stop\",\n",
      "              \"logprobs\": null\n",
      "            },\n",
      "            \"type\": \"ai\",\n",
      "            \"id\": \"run-99fab2c6-02dd-401d-860f-d5c43248e23f-0\",\n",
      "            \"usage_metadata\": {\n",
      "              \"input_tokens\": 317,\n",
      "              \"output_tokens\": 18,\n",
      "              \"total_tokens\": 335\n",
      "            },\n",
      "            \"tool_calls\": [],\n",
      "            \"invalid_tool_calls\": []\n",
      "          }\n",
      "        }\n",
      "      }\n",
      "    ]\n",
      "  ],\n",
      "  \"llm_output\": {\n",
      "    \"token_usage\": {\n",
      "      \"completion_tokens\": 18,\n",
      "      \"prompt_tokens\": 317,\n",
      "      \"total_tokens\": 335\n",
      "    },\n",
      "    \"model_name\": \"gpt-3.5-turbo-0125\",\n",
      "    \"system_fingerprint\": null\n",
      "  },\n",
      "  \"run\": null\n",
      "}\n",
      "\u001b[32;1m\u001b[1;3m[chain/start]\u001b[0m \u001b[1m[chain:RunnableWithMessageHistory > chain:check_sync_or_async > chain:RunnableSequence > chain:RunnableParallel<context,question,chat_history> > chain:chat_retriever_chain > chain:RunnableSequence > parser:StrOutputParser] Entering Parser run with input:\n",
      "\u001b[0m[inputs]\n",
      "\u001b[36;1m\u001b[1;3m[chain/end]\u001b[0m \u001b[1m[chain:RunnableWithMessageHistory > chain:check_sync_or_async > chain:RunnableSequence > chain:RunnableParallel<context,question,chat_history> > chain:chat_retriever_chain > chain:RunnableSequence > parser:StrOutputParser] [0ms] Exiting Parser run with output:\n",
      "\u001b[0m{\n",
      "  \"output\": \"What characteristics exemplify the High Renaissance style in the Mona Lisa painting by Leonardo da Vinci?\"\n",
      "}\n",
      "\u001b[36;1m\u001b[1;3m[chain/end]\u001b[0m \u001b[1m[chain:RunnableWithMessageHistory > chain:check_sync_or_async > chain:RunnableSequence > chain:RunnableParallel<context,question,chat_history> > chain:chat_retriever_chain > chain:RunnableSequence] [778ms] Exiting Chain run with output:\n",
      "\u001b[0m[outputs]\n",
      "\u001b[36;1m\u001b[1;3m[chain/end]\u001b[0m \u001b[1m[chain:RunnableWithMessageHistory > chain:check_sync_or_async > chain:RunnableSequence > chain:RunnableParallel<context,question,chat_history> > chain:chat_retriever_chain] [781ms] Exiting Chain run with output:\n",
      "\u001b[0m{\n",
      "  \"output\": [\n",
      "    {\n",
      "      \"lc\": 1,\n",
      "      \"type\": \"constructor\",\n",
      "      \"id\": [\n",
      "        \"langchain\",\n",
      "        \"schema\",\n",
      "        \"document\",\n",
      "        \"Document\"\n",
      "      ],\n",
      "      \"kwargs\": {\n",
      "        \"page_content\": \"The Mona Lisa is a half-length portrait painting by the Italian artist Leonardo da Vinci.\",\n",
      "        \"type\": \"Document\"\n",
      "      }\n",
      "    },\n",
      "    {\n",
      "      \"lc\": 1,\n",
      "      \"type\": \"constructor\",\n",
      "      \"id\": [\n",
      "        \"langchain\",\n",
      "        \"schema\",\n",
      "        \"document\",\n",
      "        \"Document\"\n",
      "      ],\n",
      "      \"kwargs\": {\n",
      "        \"page_content\": \"The Mona Lisa is a half-length portrait painting by the Italian artist Leonardo da Vinci.\",\n",
      "        \"type\": \"Document\"\n",
      "      }\n",
      "    }\n",
      "  ]\n",
      "}\n",
      "\u001b[36;1m\u001b[1;3m[chain/end]\u001b[0m \u001b[1m[chain:RunnableWithMessageHistory > chain:check_sync_or_async > chain:RunnableSequence > chain:RunnableParallel<context,question,chat_history>] [790ms] Exiting Chain run with output:\n",
      "\u001b[0m[outputs]\n",
      "\u001b[32;1m\u001b[1;3m[chain/start]\u001b[0m \u001b[1m[chain:RunnableWithMessageHistory > chain:check_sync_or_async > chain:RunnableSequence > prompt:PromptTemplate] Entering Prompt run with input:\n",
      "\u001b[0m[inputs]\n",
      "\u001b[36;1m\u001b[1;3m[chain/end]\u001b[0m \u001b[1m[chain:RunnableWithMessageHistory > chain:check_sync_or_async > chain:RunnableSequence > prompt:PromptTemplate] [1ms] Exiting Prompt run with output:\n",
      "\u001b[0m[outputs]\n",
      "\u001b[32;1m\u001b[1;3m[llm/start]\u001b[0m \u001b[1m[chain:RunnableWithMessageHistory > chain:check_sync_or_async > chain:RunnableSequence > llm:ChatOpenAI] Entering LLM run with input:\n",
      "\u001b[0m{\n",
      "  \"prompts\": [\n",
      "    \"Human: \\nYou are the guide of an Art museum, you should answer to people questions, about Paints and\\nartistic styles, focusing you answers in the usage of the provided context always if that is possible, and considering what has been already told in the conversation.\\n\\nContext: [Document(page_content='The Mona Lisa is a half-length portrait painting by the Italian artist Leonardo da Vinci.'), Document(page_content='The Mona Lisa is a half-length portrait painting by the Italian artist Leonardo da Vinci.')]\\n\\nCurrent Conversation: {'chat_history': [HumanMessage(content=\\\"And what is it's style?\\\"), AIMessage(content=\\\"The style of the Mona Lisa can be classified as High Renaissance. This period was known for its emphasis on harmony, balance, and realism in art. Leonardo da Vinci's meticulous attention to detail and his use of sfumato (a technique of blending tones to create a soft transition between colors) in the Mona Lisa exemplify the characteristics of the High Renaissance style. This painting is a prime example of the era's focus on naturalism and the portrayal of the human form with precision and grace. If you have any more questions about this particular style or any other artistic styles, feel free to ask!\\\", additional_kwargs={'refusal': None}, response_metadata={'token_usage': {'completion_tokens': 120, 'prompt_tokens': 2909, 'total_tokens': 3029}, 'model_name': 'gpt-3.5-turbo-0125', 'system_fingerprint': None, 'finish_reason': 'stop', 'logprobs': None}, id='run-c2f9ef7e-01e5-4a6a-9193-a78a11901c46-0', usage_metadata={'input_tokens': 2909, 'output_tokens': 120, 'total_tokens': 3029})], 'input': 'What is the Mona Lisa?'}\\n\\nUser question: {'chat_history': [HumanMessage(content=\\\"And what is it's style?\\\"), AIMessage(content=\\\"The style of the Mona Lisa can be classified as High Renaissance. This period was known for its emphasis on harmony, balance, and realism in art. Leonardo da Vinci's meticulous attention to detail and his use of sfumato (a technique of blending tones to create a soft transition between colors) in the Mona Lisa exemplify the characteristics of the High Renaissance style. This painting is a prime example of the era's focus on naturalism and the portrayal of the human form with precision and grace. If you have any more questions about this particular style or any other artistic styles, feel free to ask!\\\", additional_kwargs={'refusal': None}, response_metadata={'token_usage': {'completion_tokens': 120, 'prompt_tokens': 2909, 'total_tokens': 3029}, 'model_name': 'gpt-3.5-turbo-0125', 'system_fingerprint': None, 'finish_reason': 'stop', 'logprobs': None}, id='run-c2f9ef7e-01e5-4a6a-9193-a78a11901c46-0', usage_metadata={'input_tokens': 2909, 'output_tokens': 120, 'total_tokens': 3029})], 'input': 'What is the Mona Lisa?'}\"\n",
      "  ]\n",
      "}\n",
      "\u001b[36;1m\u001b[1;3m[llm/end]\u001b[0m \u001b[1m[chain:RunnableWithMessageHistory > chain:check_sync_or_async > chain:RunnableSequence > llm:ChatOpenAI] [1.55s] Exiting LLM run with output:\n",
      "\u001b[0m{\n",
      "  \"generations\": [\n",
      "    [\n",
      "      {\n",
      "        \"text\": \"The style of the Mona Lisa is classified as High Renaissance. This period emphasized harmony, balance, and realism in art. Leonardo da Vinci's meticulous attention to detail and his use of sfumato in the painting exemplify the characteristics of the High Renaissance style. This painting is a prime example of the era's focus on naturalism and the portrayal of the human form with precision and grace. If you have any more questions about this particular style or any other artistic styles, feel free to ask!\",\n",
      "        \"generation_info\": {\n",
      "          \"finish_reason\": \"stop\",\n",
      "          \"logprobs\": null\n",
      "        },\n",
      "        \"type\": \"ChatGeneration\",\n",
      "        \"message\": {\n",
      "          \"lc\": 1,\n",
      "          \"type\": \"constructor\",\n",
      "          \"id\": [\n",
      "            \"langchain\",\n",
      "            \"schema\",\n",
      "            \"messages\",\n",
      "            \"AIMessage\"\n",
      "          ],\n",
      "          \"kwargs\": {\n",
      "            \"content\": \"The style of the Mona Lisa is classified as High Renaissance. This period emphasized harmony, balance, and realism in art. Leonardo da Vinci's meticulous attention to detail and his use of sfumato in the painting exemplify the characteristics of the High Renaissance style. This painting is a prime example of the era's focus on naturalism and the portrayal of the human form with precision and grace. If you have any more questions about this particular style or any other artistic styles, feel free to ask!\",\n",
      "            \"additional_kwargs\": {\n",
      "              \"refusal\": null\n",
      "            },\n",
      "            \"response_metadata\": {\n",
      "              \"token_usage\": {\n",
      "                \"completion_tokens\": 99,\n",
      "                \"prompt_tokens\": 685,\n",
      "                \"total_tokens\": 784\n",
      "              },\n",
      "              \"model_name\": \"gpt-3.5-turbo-0125\",\n",
      "              \"system_fingerprint\": null,\n",
      "              \"finish_reason\": \"stop\",\n",
      "              \"logprobs\": null\n",
      "            },\n",
      "            \"type\": \"ai\",\n",
      "            \"id\": \"run-7feffd99-97d4-4c5d-aa27-b34d6f403a35-0\",\n",
      "            \"usage_metadata\": {\n",
      "              \"input_tokens\": 685,\n",
      "              \"output_tokens\": 99,\n",
      "              \"total_tokens\": 784\n",
      "            },\n",
      "            \"tool_calls\": [],\n",
      "            \"invalid_tool_calls\": []\n",
      "          }\n",
      "        }\n",
      "      }\n",
      "    ]\n",
      "  ],\n",
      "  \"llm_output\": {\n",
      "    \"token_usage\": {\n",
      "      \"completion_tokens\": 99,\n",
      "      \"prompt_tokens\": 685,\n",
      "      \"total_tokens\": 784\n",
      "    },\n",
      "    \"model_name\": \"gpt-3.5-turbo-0125\",\n",
      "    \"system_fingerprint\": null\n",
      "  },\n",
      "  \"run\": null\n",
      "}\n",
      "\u001b[36;1m\u001b[1;3m[chain/end]\u001b[0m \u001b[1m[chain:RunnableWithMessageHistory > chain:check_sync_or_async > chain:RunnableSequence] [2.37s] Exiting Chain run with output:\n",
      "\u001b[0m[outputs]\n",
      "\u001b[36;1m\u001b[1;3m[chain/end]\u001b[0m \u001b[1m[chain:RunnableWithMessageHistory > chain:check_sync_or_async] [2.39s] Exiting Chain run with output:\n",
      "\u001b[0m[outputs]\n",
      "\u001b[36;1m\u001b[1;3m[chain/end]\u001b[0m \u001b[1m[chain:RunnableWithMessageHistory] [2.41s] Exiting Chain run with output:\n",
      "\u001b[0m[outputs]\n"
     ]
    },
    {
     "data": {
      "text/plain": [
       "AIMessage(content=\"The style of the Mona Lisa is classified as High Renaissance. This period emphasized harmony, balance, and realism in art. Leonardo da Vinci's meticulous attention to detail and his use of sfumato in the painting exemplify the characteristics of the High Renaissance style. This painting is a prime example of the era's focus on naturalism and the portrayal of the human form with precision and grace. If you have any more questions about this particular style or any other artistic styles, feel free to ask!\", additional_kwargs={'refusal': None}, response_metadata={'token_usage': {'completion_tokens': 99, 'prompt_tokens': 685, 'total_tokens': 784}, 'model_name': 'gpt-3.5-turbo-0125', 'system_fingerprint': None, 'finish_reason': 'stop', 'logprobs': None}, id='run-7feffd99-97d4-4c5d-aa27-b34d6f403a35-0', usage_metadata={'input_tokens': 685, 'output_tokens': 99, 'total_tokens': 784})"
      ]
     },
     "execution_count": 44,
     "metadata": {},
     "output_type": "execute_result"
    }
   ],
   "source": [
    "with_message_history.invoke({ \"input\": \"What is the Mona Lisa?\"},\n",
    "    config={\"configurable\": {\"session_id\": \"abc123\"}})"
   ]
  },
  {
   "cell_type": "markdown",
   "metadata": {},
   "source": [
    "<a id=\"9\"></a>\n",
    "# <div style= \"font-family: Cambria; font-weight:bold; letter-spacing: 0px; color: white; font-size:120%; text-align:left;padding:3.0px; background: maroon; border-bottom: 8px solid black\" >Planed way forward<br><div>\n",
    "\n",
    "In this tutorial we have covered in a general point of view the basics elements that allows us to build a RAG chain and application. In an upcoming 'Advanced langchain tutorial' we will cover more in depth components like:\n",
    "\n",
    "* Evaluation (LLMs as Judge, RAGAS, langSmith...)\n",
    "* Advanced RAG techniques (Reranking, GraphRAG, etc)\n",
    "* Agents"
   ]
  },
  {
   "cell_type": "markdown",
   "metadata": {},
   "source": []
  }
 ],
 "metadata": {
  "kernelspec": {
   "display_name": "rag_env",
   "language": "python",
   "name": "python3"
  },
  "language_info": {
   "codemirror_mode": {
    "name": "ipython",
    "version": 3
   },
   "file_extension": ".py",
   "mimetype": "text/x-python",
   "name": "python",
   "nbconvert_exporter": "python",
   "pygments_lexer": "ipython3",
   "version": "3.10.11"
  }
 },
 "nbformat": 4,
 "nbformat_minor": 2
}
