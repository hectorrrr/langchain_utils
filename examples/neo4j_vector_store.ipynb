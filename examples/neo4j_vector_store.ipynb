{
 "cells": [
  {
   "cell_type": "markdown",
   "metadata": {},
   "source": [
    "#### <div style= \"font-family: Cambria; font-weight:bold; letter-spacing: 0px; color:white; font-size:180%; text-align:left;padding:3.0px; background: maroon; border-bottom: 8px solid black\" > TABLE OF CONTENTS<br><div>\n",
    "* [Imports](#1)\n",
    "* [Introduction](#2)\n",
    "* [Neo4j Vector Store](#3)\n",
    "* [Simmilarity Search](#4)\n",
    "* [Hybrid Search](#5)\n",
    "* [PLANNED WAY FORWARD](#6) "
   ]
  },
  {
   "cell_type": "code",
   "execution_count": 2,
   "metadata": {},
   "outputs": [],
   "source": [
    "import getpass\n",
    "import os\n",
    "\n",
    "# Load env\n",
    "\n",
    "from dotenv import load_dotenv\n",
    "\n",
    "_ = load_dotenv()\n",
    "\n",
    "from langchain_community.vectorstores import Neo4jVector\n",
    "from langchain_openai import OpenAIEmbeddings\n",
    "from langchain.document_loaders import WikipediaLoader\n",
    "from langchain.text_splitter import CharacterTextSplitter\n",
    "from langchain.embeddings import HuggingFaceEmbeddings"
   ]
  },
  {
   "cell_type": "markdown",
   "metadata": {},
   "source": [
    "<a id=\"2\"></a>\n",
    "# <div style= \"font-family: Cambria; font-weight:bold; letter-spacing: 0px; color: white; font-size:120%; text-align:left;padding:3.0px; background: maroon; border-bottom: 8px solid black\" > Introduction<br><div>\n",
    "\n",
    "In this notebook we are going to show how to use Langchain and Neo4J to create a Vector store. We will show both the approach based in 'Semantic simmilarity' and Keywords for this vector store. We will base this notebook in the official langchain [documentation](https://python.langchain.com/v0.2/docs/integrations/vectorstores/neo4jvector/), customizing  and further developing it to make it more comprehensive."
   ]
  },
  {
   "cell_type": "markdown",
   "metadata": {},
   "source": [
    "<a id=\"3\"></a>\n",
    "# <div style= \"font-family: Cambria; font-weight:bold; letter-spacing: 0px; color: white; font-size:120%; text-align:left;padding:3.0px; background: maroon; border-bottom: 8px solid black\" > Semantic Simmilarity search<br><div>"
   ]
  },
  {
   "cell_type": "markdown",
   "metadata": {},
   "source": [
    "We will start by creating an index that will allow to perform Semantic Simmilarity search. For this we need a embedding model, that will map our text to a 'high' dimension space."
   ]
  },
  {
   "cell_type": "code",
   "execution_count": 3,
   "metadata": {},
   "outputs": [],
   "source": [
    "\n",
    "\n",
    "# Read the wikipedia article\n",
    "raw_documents = WikipediaLoader(query=\"The Umbrella Academy TV Show\",load_max_docs=3).load()\n",
    "# Define chunking strategy\n",
    "text_splitter = CharacterTextSplitter.from_tiktoken_encoder(\n",
    "    chunk_size=1000, chunk_overlap=20\n",
    ")\n",
    "# Chunk the document\n",
    "documents = text_splitter.split_documents(raw_documents)\n",
    "# Remove the summary\n",
    "for d in documents:\n",
    "    del d.metadata[\"summary\"]\n",
    "\n"
   ]
  },
  {
   "cell_type": "code",
   "execution_count": 4,
   "metadata": {},
   "outputs": [
    {
     "name": "stderr",
     "output_type": "stream",
     "text": [
      "c:\\Users\\hecto\\OneDrive\\Escritorio\\github_projects\\langchain_utils\\langchain_env\\lib\\site-packages\\langchain_core\\_api\\deprecation.py:141: LangChainDeprecationWarning: The class `HuggingFaceEmbeddings` was deprecated in LangChain 0.2.2 and will be removed in 0.3.0. An updated version of the class exists in the langchain-huggingface package and should be used instead. To use it run `pip install -U langchain-huggingface` and import as `from langchain_huggingface import HuggingFaceEmbeddings`.\n",
      "  warn_deprecated(\n",
      "c:\\Users\\hecto\\OneDrive\\Escritorio\\github_projects\\langchain_utils\\langchain_env\\lib\\site-packages\\sentence_transformers\\cross_encoder\\CrossEncoder.py:11: TqdmWarning: IProgress not found. Please update jupyter and ipywidgets. See https://ipywidgets.readthedocs.io/en/stable/user_install.html\n",
      "  from tqdm.autonotebook import tqdm, trange\n",
      "c:\\Users\\hecto\\OneDrive\\Escritorio\\github_projects\\langchain_utils\\langchain_env\\lib\\site-packages\\transformers\\tokenization_utils_base.py:1601: FutureWarning: `clean_up_tokenization_spaces` was not set. It will be set to `True` by default. This behavior will be depracted in transformers v4.45, and will be then set to `False` by default. For more details check this issue: https://github.com/huggingface/transformers/issues/31884\n",
      "  warnings.warn(\n"
     ]
    }
   ],
   "source": [
    "## Uncomment de wanted embedding model\n",
    "# embeddings = OpenAIEmbeddings()\n",
    "model_name = \"sentence-transformers/all-MiniLM-L6-v2\" # You can specify any sentence-transformer model from the hub\n",
    "embeddings = HuggingFaceEmbeddings(model_name=model_name)"
   ]
  },
  {
   "cell_type": "code",
   "execution_count": 5,
   "metadata": {},
   "outputs": [
    {
     "data": {
      "text/plain": [
       "[Document(metadata={'title': 'The Umbrella Academy (TV series)', 'source': 'https://en.wikipedia.org/wiki/The_Umbrella_Academy_(TV_series)'}, page_content='The Umbrella Academy is an American superhero television series based on the comic book series of the same name written by Gerard Way, illustrated by Gabriel Bá, and published by Dark Horse Comics. Created for Netflix by Steve Blackman and developed by Jeremy Slater, it revolves around a dysfunctional family of adopted sibling superheroes who reunite to solve the mystery of their father\\'s death and the threat of an imminent apocalypse. The series is produced by Borderline Entertainment (season 1–2), Irish Cowboy (season 3), Dark Horse Entertainment, and Universal Content Productions. Netflix gave seasons 1 and 2 a TV-14 rating, while seasons 3 and 4 received a TV-MA rating.\\nThe cast features Elliot Page, Tom Hopper, David Castañeda, Emmy Raver-Lampman, Robert Sheehan, Aidan Gallagher, Cameron Britton, Mary J. Blige, John Magaro, Adam Godley, Colm Feore, Justin H. Min, Ritu Arya, Yusuf Gatewood, Marin Ireland, Kate Walsh, Genesis Rodriguez, and Britne Oldford. The adaptation began development as a film optioned by Universal Pictures in 2011. It was eventually shelved in favor of a television series in 2015, before being officially greenlit by Netflix in July 2017. The series is filmed in Toronto and Hamilton, both of which are located in Ontario.\\nThe first season was released on Netflix on February 15, 2019. In April 2019, Netflix reported that 45 million households had watched season one during its first month of release, thus becoming one of the most-streamed series of the year. The second and third seasons subsequently followed on July 31, 2020, and June 22, 2022, respectively. In August 2022, the series was renewed for a fourth and final season, which was released on August 8, 2024.\\nThe first three seasons received positive reviews from critics, while the final season was met with a more mixed reception. The series has received a number of accolades, including six Emmy nominations.\\n\\n\\n== Premise ==\\nThe Umbrella Academy is set in a universe where 43 women around the world gave birth simultaneously at noon on October 1, 1989, although none had shown any sign of pregnancy until labor began. Seven of the children are adopted by eccentric billionaire Sir Reginald Hargreeves and turned into a superhero team that he calls \"The Umbrella Academy.\" Hargreeves gives the children numbers rather than names, but their robot-mother, Grace, later names six of them: Luther, Diego, Allison, Klaus, Ben, and Vanya. Reginald puts six of the children to work fighting crime but keeps Vanya apart from her siblings\\' activities, claiming she demonstrates no powers of her own.\\nThe first season is set in the present day, where Luther is part ape and has lived on the Moon for four years, Allison is a famous actress, Vanya is a violinist, Klaus has a drug addiction, Five disappeared sixteen years earlier, Ben, now deceased, is a ghost able to converse only with Klaus, and Diego has become a vigilante. The estranged siblings learn that Reginald has died and gather for his funeral. Five returns from the future, revealing that a global apocalypse is imminent, but is chased by time-travelling Commission operatives Hazel and Cha-Cha. The reunited siblings try to uncover the secrets behind Reginald Hargreeves\\' life and their dysfunctional relationships are strained. They band together to try to prevent the impending apocalypse.\\nThe second season sees the siblings scattered in Dallas at different times in the early 1960s (as a result of the events of the first season), establishing lives for themselves. Five arrives there on November 25, 1963, minutes before a nuclear doomsday that is linked to JFK not being assassinated, but with the help of Hazel manages to travel back ten days. Five is hunted by a trio of Swedish assassins but finds his siblings, who have all made new lives, and attempts to reunite them in order to stop this new apocalypse.\\nIn the third season the siblings realize their actions in the past created a new timeline and returning to 2019 is vast'),\n",
       " Document(metadata={'title': 'The Umbrella Academy', 'source': 'https://en.wikipedia.org/wiki/The_Umbrella_Academy'}, page_content='The Umbrella Academy is an American comic book series created and written by Gerard Way and illustrated by Gabriel Bá. It follows a dysfunctional family of adopted superhero siblings with bizarre powers attempting both to save the world and find their place within it. Published by Dark Horse Comics, the comic is released as limited series, typically lasting six issues. Since 2007, three volumes have been published, as have two spin-offs. The fourth volume of the main series is currently in development.\\nThe comic has garnered a close following and has been praised by critics, with the first limited series, Apocalypse Suite, winning of the 2007 Eisner Award for Best Finite Series/Limited Series. A popular television adaptation ran on Netflix for four seasons from 2019 to 2024.\\n\\n\\n== Synopsis ==\\n\\n\\n=== Plot summary ===\\nThe titular team of The Umbrella Academy is described as a \"dysfunctional family of superheroes\". In the mid-20th century, at the instant of the finishing blow in a cosmic wrestling match, forty-three superpowered infants are inexplicably born to random, unconnected women across the world who showed no signs of pregnancy at the start of the day. Sir Reginald Hargreeves, an extraterrestrial disguised as a famous entrepreneur, adopts seven of the children and prepares them to save the world from an unspecified threat as the Umbrella Academy.\\nEventually, the team disbands and the siblings fall out of contact with each other until they meet on the news of Hargreeves\\' death, and subsequently reunite when one of their own becomes a supervillain.\\n\\n\\n=== Characters ===\\n\\nThe Academy\\'s founder, Sir Reginald Hargreeves, was an alien disguised as a wealthy human entrepreneur and world-renowned scientist, and callously trained and experimented on the children to make them into superheroes. As such, he was the result of much of the team\\'s psychological scarring and trauma. He is dead when the Umbrella Academy reunites.\\nThe primary Academy members are Luther Hargreeves/Spaceboy, who possesses super-strength, Diego Hargreeves/The Kraken, who can manipulate the direction of projectiles, Allison Hargreeves/The Rumor, who can manipulate reality by lying, Klaus Hargreeves/The Séance, a psychic who can connect with the dead, and Number Five, a skilled assassin able to jump through time at will, with his travels through the timeline trapping his sixty year old mind in his unageing, ten year old body. Ben Hargreeves/The Horror, possessed tentacles that emerged from his stomach, but he is also dead when the Academy comes back together.\\nVanya Hargreeves was officially a part of the Academy, but was drugged by their father and told for years that she had no powers, before she learns she has the power to channel destructive sound waves through her violin.\\n\\n\\n=== Influences ===\\nWay has stated that his biggest influence on this piece of work is his favorite writer, Grant Morrison, and their work on Doom Patrol with DC Comics. He has also cited Pat McEown of ZombieWorld: Champion of the Worms and his favorite artist, Edvin Biuković, and his comic Grendel Tales as other major inspirations.\\n\\n\\n== Main series ==\\n\\n\\n=== Volume 1: Apocalypse Suite ===\\n\\nWritten by Gerard Way with art by Gabriel Bá, the first six-issue limited series, Apocalypse Suite, was released by Dark Horse Comics between September 14, 2007, and February 20, 2008. It won the 2007 Eisner Award for Best Finite Series/Limited Series, and was adapted into the first season of the Netflix series in 2019.\\nIn the story, the estranged members of the Umbrella Academy are reunited by the funeral of Sir Reginald Hargreeves, their father and leader, whose rigorous training and experiments during their childhoods has left them each emotionally scarred. They then have to band together when their long-lost brother, Number Five, returns from the future and tells them they need to stop an apocalyptic event from coming to pass.\\n\\n\\n=== Volume 2: Dallas ===\\n\\nA second limited series, The Umbrella Academy: Da'),\n",
       " Document(metadata={'title': 'The Umbrella Academy season 2', 'source': 'https://en.wikipedia.org/wiki/The_Umbrella_Academy_season_2'}, page_content='The second season of the superhero comedy drama television series The Umbrella Academy was released on Netflix on July 31, 2020, and consisted of 10 episodes. Created for television by Steve Blackman and developed Jeremy Slater, the series is an adaptation of the comic book series of the same name written by Gerard Way and illustrated by Gabriel Bá, both of whom serve as executive producers on the series. The second season adapts the second story arc of the comics, Dallas, and revolves around the Hargreeves siblings being scattered throughout the \\'60s in Dallas, reuniting to put a stop to yet another incoming apocalypse caused by their timeline interference.\\nThe second season features Elliot Page, Tom Hopper, David Castañeda, Emmy Raver-Lampman, Robert Sheehan, Aidan Gallagher, Justin H. Min, Ritu Arya, Yusuf Gatewood, Marin Ireland, Adam Godley, Kate Walsh, and Colm Feore as a part of the main cast, while Kevin Rankin, Jordan Claire Robbins, Justin Paul Kelly, John Kapelos, and Kris Holden-Ried appear in recurring roles. This season received positive reviews, with much praise to the music, humor, action sequences, character dynamics, and pacing, and many deeming it an improvement over the first season.\\n\\n\\n== Cast and characters ==\\n\\n\\n=== Main ===\\nElliot Page as Vanya Hargreeves / Number Seven\\nT.J. McGibbon as young Vanya\\nTom Hopper as Luther Hargreeves / Number One\\nCameron Brodeur as young Luther\\nDavid Castañeda as Diego Hargreeves / Number Two\\nBlake Talabis as young Diego\\nEmmy Raver-Lampman as Allison Hargreeves / Number Three\\nEden Cupid as young Allison\\nRobert Sheehan as Klaus Hargreeves / Number Four\\nDante Albidone as young Klaus\\nAidan Gallagher as Number Five\\nJustin H. Min as  Ben Hargreeves / Number Six\\nEthan Hwang as young Ben\\nMin also portrays an alternate version of Ben (Number Two) that appears as a part of the Sparrow Academy in the final episode.\\nRitu Arya as Lila Pitts\\nYusuf Gatewood as Raymond \"Ray\" Chestnut\\nMarin Ireland as Sissy Cooper\\nAdam Godley as Pogo\\nKate Walsh as The Handler\\nColm Feore as Sir Reginald Hargreeves\\n\\n\\n=== Recurring ===\\nKevin Rankin as Elliott Gussman\\nJordan Claire Robbins as Grace\\nJustin Paul Kelly as Harlan Cooper\\nJohn Kapelos as Jack Ruby\\nKris Holden-Ried as Axel\\nJason Bryden as Otto\\nTom Sinclair as Oscar\\nStephen Bogaert as Carl Cooper\\nKen Hall as Herb\\nDov Tiefenbach as Keechie\\nRobin Atkin Downes as A.J. Carmichael\\nMouna Traoré as Jill\\n\\n\\n== Episodes ==\\n\\n\\n== Production ==\\n\\n\\n=== Development ===\\nFollowing the success of the first season, on April 2, 2019, the series was renewed for a second season, which was released on July 31, 2020. It was also confirmed that the second season will consist of ten episodes, like the previous season. The season release date remained unknown until May 18, 2020, when a teaser trailer concept was released where the main cast danced to \"I Think We\\'re Alone Now\" by Tiffany. Steve Blackman confirmed to The Hollywood Reporter that he wants to stay in the course of what the comics are doing without deviating too much. On June 26 it was revealed that the series will be taking place at the 60s in Dallas, due to the time travel from the end of the previous season.\\n\\n\\n=== Casting ===\\nFollowing the renewal, Elliot Page, Tom Hopper, David Castañeda, Emmy Raver-Lampman, Robert Sheehan, and Aidan Gallagher were all confirmed to be returning to reprise their roles as the Hargreeves siblings. In January 2020, Justin H. Min and Kate Walsh were promoted to series regulars for the second season, following their recurring roles in the first season. On September 10, 2019, Netflix announced that three additional actors — Ritu Arya, Marin Ireland and Yusuf Gatewood — would join the cast. On October 17, 2019, John Kapelos announced that he would be joining the recurring cast as Jack Ruby, the man who killed Lee Harvey Oswald.\\n\\n\\n=== Filming ===\\nPrincipal photography for the second season began on June 16, 2019. Like the previous season, it was filmed in Toronto and Hamilton, Ontario, despi')]"
      ]
     },
     "execution_count": 5,
     "metadata": {},
     "output_type": "execute_result"
    }
   ],
   "source": [
    "documents"
   ]
  },
  {
   "cell_type": "markdown",
   "metadata": {},
   "source": [
    "## Connect to NEO4j\n",
    "\n",
    "You need credentials and other environment variables in order to connect to neo4j. See the Readme file to get more details."
   ]
  },
  {
   "cell_type": "code",
   "execution_count": 6,
   "metadata": {},
   "outputs": [],
   "source": [
    "# Neo4jVector requires the Neo4j database credentials\n",
    "url = \"bolt://localhost:7687\"\n",
    "\n"
   ]
  },
  {
   "cell_type": "code",
   "execution_count": 7,
   "metadata": {},
   "outputs": [],
   "source": [
    "# The Neo4jVector Module will connect to Neo4j and create a vector index if needed.\n",
    "#  the database has to exist already, so you need to create it from neo4j.\n",
    "\n",
    "db = Neo4jVector.from_documents(\n",
    "    documents, OpenAIEmbeddings(), url=os.environ[\"NEO4J_URL\"], username=os.environ[\"NEO4J_USERNAME\"], password=os.environ[\"NEO4J_PASSWORD\"] ,database=\"vectordb\"\n",
    ")"
   ]
  },
  {
   "cell_type": "markdown",
   "metadata": {},
   "source": [
    "With this functionality we already have a new Vector Store index created in our neo4j local instance, and we are ready to query it. We need to know that once the index is created, it gets defined base of the embedding length, so we couldn't change the embedding model or size without redefining it. "
   ]
  },
  {
   "cell_type": "markdown",
   "metadata": {},
   "source": [
    "## Testing the retrieval"
   ]
  },
  {
   "cell_type": "code",
   "execution_count": 8,
   "metadata": {},
   "outputs": [],
   "source": [
    "query = \"Who are the main characters of The Umbrella Academy?\"\n",
    "docs_with_score = db.similarity_search_with_score(query, k=2)"
   ]
  },
  {
   "cell_type": "code",
   "execution_count": 9,
   "metadata": {},
   "outputs": [
    {
     "name": "stdout",
     "output_type": "stream",
     "text": [
      "--------------------------------------------------------------------------------\n",
      "Score:  0.9384150505065918\n",
      "The Umbrella Academy is an American superhero television series based on the comic book series of the same name written by Gerard Way, illustrated by Gabriel Bá, and published by Dark Horse Comics. Created for Netflix by Steve Blackman and developed by Jeremy Slater, it revolves around a dysfunctional family of adopted sibling superheroes who reunite to solve the mystery of their father's death and the threat of an imminent apocalypse. The series is produced by Borderline Entertainment (season 1–2), Irish Cowboy (season 3), Dark Horse Entertainment, and Universal Content Productions. Netflix gave seasons 1 and 2 a TV-14 rating, while seasons 3 and 4 received a TV-MA rating.\n",
      "The cast features Elliot Page, Tom Hopper, David Castañeda, Emmy Raver-Lampman, Robert Sheehan, Aidan Gallagher, Cameron Britton, Mary J. Blige, John Magaro, Adam Godley, Colm Feore, Justin H. Min, Ritu Arya, Yusuf Gatewood, Marin Ireland, Kate Walsh, Genesis Rodriguez, and Britne Oldford. The adaptation began development as a film optioned by Universal Pictures in 2011. It was eventually shelved in favor of a television series in 2015, before being officially greenlit by Netflix in July 2017. The series is filmed in Toronto and Hamilton, both of which are located in Ontario.\n",
      "The first season was released on Netflix on February 15, 2019. In April 2019, Netflix reported that 45 million households had watched season one during its first month of release, thus becoming one of the most-streamed series of the year. The second and third seasons subsequently followed on July 31, 2020, and June 22, 2022, respectively. In August 2022, the series was renewed for a fourth and final season, which was released on August 8, 2024.\n",
      "The first three seasons received positive reviews from critics, while the final season was met with a more mixed reception. The series has received a number of accolades, including six Emmy nominations.\n",
      "\n",
      "\n",
      "== Premise ==\n",
      "The Umbrella Academy is set in a universe where 43 women around the world gave birth simultaneously at noon on October 1, 1989, although none had shown any sign of pregnancy until labor began. Seven of the children are adopted by eccentric billionaire Sir Reginald Hargreeves and turned into a superhero team that he calls \"The Umbrella Academy.\" Hargreeves gives the children numbers rather than names, but their robot-mother, Grace, later names six of them: Luther, Diego, Allison, Klaus, Ben, and Vanya. Reginald puts six of the children to work fighting crime but keeps Vanya apart from her siblings' activities, claiming she demonstrates no powers of her own.\n",
      "The first season is set in the present day, where Luther is part ape and has lived on the Moon for four years, Allison is a famous actress, Vanya is a violinist, Klaus has a drug addiction, Five disappeared sixteen years earlier, Ben, now deceased, is a ghost able to converse only with Klaus, and Diego has become a vigilante. The estranged siblings learn that Reginald has died and gather for his funeral. Five returns from the future, revealing that a global apocalypse is imminent, but is chased by time-travelling Commission operatives Hazel and Cha-Cha. The reunited siblings try to uncover the secrets behind Reginald Hargreeves' life and their dysfunctional relationships are strained. They band together to try to prevent the impending apocalypse.\n",
      "The second season sees the siblings scattered in Dallas at different times in the early 1960s (as a result of the events of the first season), establishing lives for themselves. Five arrives there on November 25, 1963, minutes before a nuclear doomsday that is linked to JFK not being assassinated, but with the help of Hazel manages to travel back ten days. Five is hunted by a trio of Swedish assassins but finds his siblings, who have all made new lives, and attempts to reunite them in order to stop this new apocalypse.\n",
      "In the third season the siblings realize their actions in the past created a new timeline and returning to 2019 is vast\n",
      "--------------------------------------------------------------------------------\n",
      "--------------------------------------------------------------------------------\n",
      "Score:  0.935810923576355\n",
      "The Umbrella Academy is an American comic book series created and written by Gerard Way and illustrated by Gabriel Bá. It follows a dysfunctional family of adopted superhero siblings with bizarre powers attempting both to save the world and find their place within it. Published by Dark Horse Comics, the comic is released as limited series, typically lasting six issues. Since 2007, three volumes have been published, as have two spin-offs. The fourth volume of the main series is currently in development.\n",
      "The comic has garnered a close following and has been praised by critics, with the first limited series, Apocalypse Suite, winning of the 2007 Eisner Award for Best Finite Series/Limited Series. A popular television adaptation ran on Netflix for four seasons from 2019 to 2024. In 2019, Dark Horse Comics signed a collaboration with Studio71 to make a card game based on The Umbrella Academy.\n",
      "\n",
      "\n",
      "== Synopsis ==\n",
      "\n",
      "\n",
      "=== Plot summary ===\n",
      "The titular team of The Umbrella Academy is described as a \"dysfunctional family of superheroes\". In the mid-20th century, at the instant of the finishing blow in a cosmic wrestling match, forty-three superpowered infants are inexplicably born to random, unconnected women across the world who showed no signs of pregnancy at the start of the day. Sir Reginald Hargreeves, an extraterrestrial disguised as a famous entrepreneur, adopts seven of the children and prepares them to save the world from an unspecified threat as the Umbrella Academy.\n",
      "Eventually, the team disbands and the siblings fall out of contact with each other until they meet on the news of Hargreeves' death, and subsequently reunite when one of their own becomes a supervillain.\n",
      "\n",
      "\n",
      "=== Characters ===\n",
      "\n",
      "The Academy's founder, Sir Reginald Hargreeves, was an alien disguised as a wealthy human entrepreneur and world-renowned scientist, and callously trained and experimented on the children to make them into superheroes. As such, he was the result of much of the team's psychological scarring and trauma. He is dead when the Umbrella Academy reunites.\n",
      "The primary Academy members are Luther Hargreeves/Spaceboy, who possesses super-strength, Diego Hargreeves/The Kraken, who can manipulate the direction of projectiles, Allison Hargreeves/The Rumor, who can manipulate reality by lying, Klaus Hargreeves/The Séance, a psychic who can connect with the dead, and Number Five, a skilled assassin able to jump through time at will, with his travels through the timeline trapping his sixty year old mind in his unageing, ten year old body. Ben Hargreeves/The Horror, possessed tentacles that emerged from his stomach, but he is also dead when the Academy comes back together.\n",
      "Vanya Hargreeves was officially a part of the Academy, but was drugged by their father and told for years that she had no powers, before she learns she has the power to channel destructive sound waves through her violin.\n",
      "\n",
      "\n",
      "=== Influences ===\n",
      "Way has stated that his biggest influence on this piece of work is his favorite writer, Grant Morrison, and their work on Doom Patrol with DC Comics. He has also cited Pat McEown of ZombieWorld: Champion of the Worms and his favorite artist, Edvin Biuković, and his comic Grendel Tales as other major inspirations.\n",
      "\n",
      "\n",
      "== Main series ==\n",
      "\n",
      "\n",
      "=== Volume 1: Apocalypse Suite ===\n",
      "\n",
      "Written by Gerard Way with art by Gabriel Bá, the first six-issue limited series, Apocalypse Suite, was released by Dark Horse Comics between September 14, 2007, and February 20, 2008. It won the 2007 Eisner Award for Best Finite Series/Limited Series, and was adapted into the first season of the Netflix series in 2019.\n",
      "In the story, the estranged members of the Umbrella Academy are reunited by the funeral of Sir Reginald Hargreeves, their father and leader, whose rigorous training and experiments during their childhoods has left them each emotionally scarred. They then have to band together when their long-lost brother, Number Five, returns from the future and tells them they need to stop an a\n",
      "--------------------------------------------------------------------------------\n"
     ]
    }
   ],
   "source": [
    "for doc, score in docs_with_score:\n",
    "    print(\"-\" * 80)\n",
    "    print(\"Score: \", score)\n",
    "    print(doc.page_content)\n",
    "    print(\"-\" * 80)"
   ]
  },
  {
   "cell_type": "markdown",
   "metadata": {},
   "source": [
    "<a id=\"4\"></a>\n",
    "# <div style= \"font-family: Cambria; font-weight:bold; letter-spacing: 0px; color: white; font-size:120%; text-align:left;padding:3.0px; background: maroon; border-bottom: 8px solid black\" > Hybrid search<br><div>"
   ]
  },
  {
   "cell_type": "markdown",
   "metadata": {},
   "source": [
    "### From existing Graph functionality allows to initialize the embeddings from a already generated graph"
   ]
  },
  {
   "cell_type": "code",
   "execution_count": 10,
   "metadata": {},
   "outputs": [],
   "source": [
    "# Now we initialize from existing graph\n",
    "existing_graph = Neo4jVector.from_existing_graph(\n",
    "    embedding=OpenAIEmbeddings(),\n",
    "    url=url,\n",
    "    username = os.environ[\"NEO4J_USERNAME\"], \n",
    "    password=os.environ[\"NEO4J_PASSWORD\"],\n",
    "    database=\"vectordb\",\n",
    "    # index_name=\"person_index\",\n",
    "    node_label=\"Chunk\",\n",
    "    text_node_properties=[\"name\", \"location\"],\n",
    "    embedding_node_property=\"embedding\",\n",
    "    search_type=\"hybrid\",\n",
    "    keyword_index_name= \"keyword\"\n",
    ")\n",
    "# result = existing_graph.similarity_search(\"Slovenia\", k=1)"
   ]
  },
  {
   "cell_type": "code",
   "execution_count": 11,
   "metadata": {},
   "outputs": [
    {
     "data": {
      "text/plain": [
       "[Document(metadata={'text': 'The Umbrella Academy is an American comic book series created and written by Gerard Way and illustrated by Gabriel Bá. It follows a dysfunctional family of adopted superhero siblings with bizarre powers attempting both to save the world and find their place within it. Published by Dark Horse Comics, the comic is released as limited series, typically lasting six issues. Since 2007, three volumes have been published, as have two spin-offs. The fourth volume of the main series is currently in development.\\nThe comic has garnered a close following and has been praised by critics, with the first limited series, Apocalypse Suite, winning of the 2007 Eisner Award for Best Finite Series/Limited Series. A popular television adaptation ran on Netflix for four seasons from 2019 to 2024.\\n\\n\\n== Synopsis ==\\n\\n\\n=== Plot summary ===\\nThe titular team of The Umbrella Academy is described as a \"dysfunctional family of superheroes\". In the mid-20th century, at the instant of the finishing blow in a cosmic wrestling match, forty-three superpowered infants are inexplicably born to random, unconnected women across the world who showed no signs of pregnancy at the start of the day. Sir Reginald Hargreeves, an extraterrestrial disguised as a famous entrepreneur, adopts seven of the children and prepares them to save the world from an unspecified threat as the Umbrella Academy.\\nEventually, the team disbands and the siblings fall out of contact with each other until they meet on the news of Hargreeves\\' death, and subsequently reunite when one of their own becomes a supervillain.\\n\\n\\n=== Characters ===\\n\\nThe Academy\\'s founder, Sir Reginald Hargreeves, was an alien disguised as a wealthy human entrepreneur and world-renowned scientist, and callously trained and experimented on the children to make them into superheroes. As such, he was the result of much of the team\\'s psychological scarring and trauma. He is dead when the Umbrella Academy reunites.\\nThe primary Academy members are Luther Hargreeves/Spaceboy, who possesses super-strength, Diego Hargreeves/The Kraken, who can manipulate the direction of projectiles, Allison Hargreeves/The Rumor, who can manipulate reality by lying, Klaus Hargreeves/The Séance, a psychic who can connect with the dead, and Number Five, a skilled assassin able to jump through time at will, with his travels through the timeline trapping his sixty year old mind in his unageing, ten year old body. Ben Hargreeves/The Horror, possessed tentacles that emerged from his stomach, but he is also dead when the Academy comes back together.\\nVanya Hargreeves was officially a part of the Academy, but was drugged by their father and told for years that she had no powers, before she learns she has the power to channel destructive sound waves through her violin.\\n\\n\\n=== Influences ===\\nWay has stated that his biggest influence on this piece of work is his favorite writer, Grant Morrison, and their work on Doom Patrol with DC Comics. He has also cited Pat McEown of ZombieWorld: Champion of the Worms and his favorite artist, Edvin Biuković, and his comic Grendel Tales as other major inspirations.\\n\\n\\n== Main series ==\\n\\n\\n=== Volume 1: Apocalypse Suite ===\\n\\nWritten by Gerard Way with art by Gabriel Bá, the first six-issue limited series, Apocalypse Suite, was released by Dark Horse Comics between September 14, 2007, and February 20, 2008. It won the 2007 Eisner Award for Best Finite Series/Limited Series, and was adapted into the first season of the Netflix series in 2019.\\nIn the story, the estranged members of the Umbrella Academy are reunited by the funeral of Sir Reginald Hargreeves, their father and leader, whose rigorous training and experiments during their childhoods has left them each emotionally scarred. They then have to band together when their long-lost brother, Number Five, returns from the future and tells them they need to stop an apocalyptic event from coming to pass.\\n\\n\\n=== Volume 2: Dallas ===\\n\\nA second limited series, The Umbrella Academy: Da', 'title': 'The Umbrella Academy', 'source': 'https://en.wikipedia.org/wiki/The_Umbrella_Academy'}, page_content='\\nname: \\nlocation: '),\n",
       " Document(metadata={'text': 'The Umbrella Academy is an American comic book series created and written by Gerard Way and illustrated by Gabriel Bá. It follows a dysfunctional family of adopted superhero siblings with bizarre powers attempting both to save the world and find their place within it. Published by Dark Horse Comics, the comic is released as limited series, typically lasting six issues. Since 2007, three volumes have been published, as have two spin-offs. The fourth volume of the main series is currently in development.\\nThe comic has garnered a close following and has been praised by critics, with the first limited series, Apocalypse Suite, winning of the 2007 Eisner Award for Best Finite Series/Limited Series. A popular television adaptation ran on Netflix for four seasons from 2019 to 2024. In 2019, Dark Horse Comics signed a collaboration with Studio71 to make a card game based on The Umbrella Academy.\\n\\n\\n== Synopsis ==\\n\\n\\n=== Plot summary ===\\nThe titular team of The Umbrella Academy is described as a \"dysfunctional family of superheroes\". In the mid-20th century, at the instant of the finishing blow in a cosmic wrestling match, forty-three superpowered infants are inexplicably born to random, unconnected women across the world who showed no signs of pregnancy at the start of the day. Sir Reginald Hargreeves, an extraterrestrial disguised as a famous entrepreneur, adopts seven of the children and prepares them to save the world from an unspecified threat as the Umbrella Academy.\\nEventually, the team disbands and the siblings fall out of contact with each other until they meet on the news of Hargreeves\\' death, and subsequently reunite when one of their own becomes a supervillain.\\n\\n\\n=== Characters ===\\n\\nThe Academy\\'s founder, Sir Reginald Hargreeves, was an alien disguised as a wealthy human entrepreneur and world-renowned scientist, and callously trained and experimented on the children to make them into superheroes. As such, he was the result of much of the team\\'s psychological scarring and trauma. He is dead when the Umbrella Academy reunites.\\nThe primary Academy members are Luther Hargreeves/Spaceboy, who possesses super-strength, Diego Hargreeves/The Kraken, who can manipulate the direction of projectiles, Allison Hargreeves/The Rumor, who can manipulate reality by lying, Klaus Hargreeves/The Séance, a psychic who can connect with the dead, and Number Five, a skilled assassin able to jump through time at will, with his travels through the timeline trapping his sixty year old mind in his unageing, ten year old body. Ben Hargreeves/The Horror, possessed tentacles that emerged from his stomach, but he is also dead when the Academy comes back together.\\nVanya Hargreeves was officially a part of the Academy, but was drugged by their father and told for years that she had no powers, before she learns she has the power to channel destructive sound waves through her violin.\\n\\n\\n=== Influences ===\\nWay has stated that his biggest influence on this piece of work is his favorite writer, Grant Morrison, and their work on Doom Patrol with DC Comics. He has also cited Pat McEown of ZombieWorld: Champion of the Worms and his favorite artist, Edvin Biuković, and his comic Grendel Tales as other major inspirations.\\n\\n\\n== Main series ==\\n\\n\\n=== Volume 1: Apocalypse Suite ===\\n\\nWritten by Gerard Way with art by Gabriel Bá, the first six-issue limited series, Apocalypse Suite, was released by Dark Horse Comics between September 14, 2007, and February 20, 2008. It won the 2007 Eisner Award for Best Finite Series/Limited Series, and was adapted into the first season of the Netflix series in 2019.\\nIn the story, the estranged members of the Umbrella Academy are reunited by the funeral of Sir Reginald Hargreeves, their father and leader, whose rigorous training and experiments during their childhoods has left them each emotionally scarred. They then have to band together when their long-lost brother, Number Five, returns from the future and tells them they need to stop an a', 'title': 'The Umbrella Academy', 'source': 'https://en.wikipedia.org/wiki/The_Umbrella_Academy'}, page_content='\\nname: \\nlocation: '),\n",
       " Document(metadata={'text': 'The Umbrella Academy is an American superhero television series based on the comic book series of the same name written by Gerard Way, illustrated by Gabriel Bá, and published by Dark Horse Comics. Created for Netflix by Steve Blackman and developed by Jeremy Slater, it revolves around a dysfunctional family of adopted sibling superheroes who reunite to solve the mystery of their father\\'s death and the threat of an imminent apocalypse. The series is produced by Borderline Entertainment (season 1–2), Irish Cowboy (season 3), Dark Horse Entertainment, and Universal Content Productions. Netflix gave seasons 1 and 2 a TV-14 rating, while seasons 3 and 4 received a TV-MA rating.\\nThe cast features Elliot Page, Tom Hopper, David Castañeda, Emmy Raver-Lampman, Robert Sheehan, Aidan Gallagher, Cameron Britton, Mary J. Blige, John Magaro, Adam Godley, Colm Feore, Justin H. Min, Ritu Arya, Yusuf Gatewood, Marin Ireland, Kate Walsh, Genesis Rodriguez, and Britne Oldford. The adaptation began development as a film optioned by Universal Pictures in 2011. It was eventually shelved in favor of a television series in 2015, before being officially greenlit by Netflix in July 2017. The series is filmed in Toronto and Hamilton, both of which are located in Ontario.\\nThe first season was released on Netflix on February 15, 2019. In April 2019, Netflix reported that 45 million households had watched season one during its first month of release, thus becoming one of the most-streamed series of the year. The second and third seasons subsequently followed on July 31, 2020, and June 22, 2022, respectively. In August 2022, the series was renewed for a fourth and final season, which was released on August 8, 2024.\\nThe first three seasons received positive reviews from critics, while the final season was met with a more mixed reception. The series has received a number of accolades, including six Emmy nominations.\\n\\n\\n== Premise ==\\nThe Umbrella Academy is set in a universe where 43 women around the world gave birth simultaneously at noon on October 1, 1989, although none had shown any sign of pregnancy until labor began. Seven of the children are adopted by eccentric billionaire Sir Reginald Hargreeves and turned into a superhero team that he calls \"The Umbrella Academy.\" Hargreeves gives the children numbers rather than names, but their robot-mother, Grace, later names six of them: Luther, Diego, Allison, Klaus, Ben, and Vanya. Reginald puts six of the children to work fighting crime but keeps Vanya apart from her siblings\\' activities, claiming she demonstrates no powers of her own.\\nThe first season is set in the present day, where Luther is part ape and has lived on the Moon for four years, Allison is a famous actress, Vanya is a violinist, Klaus has a drug addiction, Five disappeared sixteen years earlier, Ben, now deceased, is a ghost able to converse only with Klaus, and Diego has become a vigilante. The estranged siblings learn that Reginald has died and gather for his funeral. Five returns from the future, revealing that a global apocalypse is imminent, but is chased by time-travelling Commission operatives Hazel and Cha-Cha. The reunited siblings try to uncover the secrets behind Reginald Hargreeves\\' life and their dysfunctional relationships are strained. They band together to try to prevent the impending apocalypse.\\nThe second season sees the siblings scattered in Dallas at different times in the early 1960s (as a result of the events of the first season), establishing lives for themselves. Five arrives there on November 25, 1963, minutes before a nuclear doomsday that is linked to JFK not being assassinated, but with the help of Hazel manages to travel back ten days. Five is hunted by a trio of Swedish assassins but finds his siblings, who have all made new lives, and attempts to reunite them in order to stop this new apocalypse.\\nIn the third season the siblings realize their actions in the past created a new timeline and returning to 2019 is vast', 'title': 'The Umbrella Academy (TV series)', 'source': 'https://en.wikipedia.org/wiki/The_Umbrella_Academy_(TV_series)'}, page_content='\\nname: \\nlocation: '),\n",
       " Document(metadata={'text': 'The second season of the superhero comedy drama television series The Umbrella Academy was released on Netflix on July 31, 2020, and consisted of 10 episodes. Created for television by Steve Blackman and developed Jeremy Slater, the series is an adaptation of the comic book series of the same name written by Gerard Way and illustrated by Gabriel Bá, both of whom serve as executive producers on the series. The second season adapts the second story arc of the comics, Dallas, and revolves around the Hargreeves siblings being scattered throughout the \\'60s in Dallas, reuniting to put a stop to yet another incoming apocalypse caused by their timeline interference.\\nThe second season features Elliot Page, Tom Hopper, David Castañeda, Emmy Raver-Lampman, Robert Sheehan, Aidan Gallagher, Justin H. Min, Ritu Arya, Yusuf Gatewood, Marin Ireland, Adam Godley, Kate Walsh, and Colm Feore as a part of the main cast, while Kevin Rankin, Jordan Claire Robbins, Justin Paul Kelly, John Kapelos, and Kris Holden-Ried appear in recurring roles. This season received positive reviews, with much praise to the music, humor, action sequences, character dynamics, and pacing, and many deeming it an improvement over the first season.\\n\\n\\n== Cast and characters ==\\n\\n\\n=== Main ===\\nElliot Page as Vanya Hargreeves / Number Seven\\nT.J. McGibbon as young Vanya\\nTom Hopper as Luther Hargreeves / Number One\\nCameron Brodeur as young Luther\\nDavid Castañeda as Diego Hargreeves / Number Two\\nBlake Talabis as young Diego\\nEmmy Raver-Lampman as Allison Hargreeves / Number Three\\nEden Cupid as young Allison\\nRobert Sheehan as Klaus Hargreeves / Number Four\\nDante Albidone as young Klaus\\nAidan Gallagher as Number Five\\nJustin H. Min as  Ben Hargreeves / Number Six\\nEthan Hwang as young Ben\\nMin also portrays an alternate version of Ben (Number Two) that appears as a part of the Sparrow Academy in the final episode.\\nRitu Arya as Lila Pitts\\nYusuf Gatewood as Raymond \"Ray\" Chestnut\\nMarin Ireland as Sissy Cooper\\nAdam Godley as Pogo\\nKate Walsh as The Handler\\nColm Feore as Sir Reginald Hargreeves\\n\\n\\n=== Recurring ===\\nKevin Rankin as Elliott Gussman\\nJordan Claire Robbins as Grace\\nJustin Paul Kelly as Harlan Cooper\\nJohn Kapelos as Jack Ruby\\nKris Holden-Ried as Axel\\nJason Bryden as Otto\\nTom Sinclair as Oscar\\nStephen Bogaert as Carl Cooper\\nKen Hall as Herb\\nDov Tiefenbach as Keechie\\nRobin Atkin Downes as A.J. Carmichael\\nMouna Traoré as Jill\\n\\n\\n== Episodes ==\\n\\n\\n== Production ==\\n\\n\\n=== Development ===\\nFollowing the success of the first season, on April 2, 2019, the series was renewed for a second season, which was released on July 31, 2020. It was also confirmed that the second season will consist of ten episodes, like the previous season. The season release date remained unknown until May 18, 2020, when a teaser trailer concept was released where the main cast danced to \"I Think We\\'re Alone Now\" by Tiffany. Steve Blackman confirmed to The Hollywood Reporter that he wants to stay in the course of what the comics are doing without deviating too much. On June 26 it was revealed that the series will be taking place at the 60s in Dallas, due to the time travel from the end of the previous season.\\n\\n\\n=== Casting ===\\nFollowing the renewal, Elliot Page, Tom Hopper, David Castañeda, Emmy Raver-Lampman, Robert Sheehan, and Aidan Gallagher were all confirmed to be returning to reprise their roles as the Hargreeves siblings. In January 2020, Justin H. Min and Kate Walsh were promoted to series regulars for the second season, following their recurring roles in the first season. On September 10, 2019, Netflix announced that three additional actors — Ritu Arya, Marin Ireland and Yusuf Gatewood — would join the cast. On October 17, 2019, John Kapelos announced that he would be joining the recurring cast as Jack Ruby, the man who killed Lee Harvey Oswald.\\n\\n\\n=== Filming ===\\nPrincipal photography for the second season began on June 16, 2019. Like the previous season, it was filmed in Toronto and Hamilton, Ontario, despi', 'title': 'The Umbrella Academy season 2', 'source': 'https://en.wikipedia.org/wiki/The_Umbrella_Academy_season_2'}, page_content='\\nname: \\nlocation: ')]"
      ]
     },
     "execution_count": 11,
     "metadata": {},
     "output_type": "execute_result"
    }
   ],
   "source": [
    "existing_graph.similarity_search(\"What is the Umbrella Academy?\")"
   ]
  },
  {
   "cell_type": "code",
   "execution_count": 12,
   "metadata": {},
   "outputs": [],
   "source": [
    "# # The Neo4jVector Module will connect to Neo4j and create a vector and keyword indices if needed.\n",
    "# hybrid_db =  Neo4jVector.from_documents(\n",
    "#     documents,\n",
    "#     OpenAIEmbeddings(),\n",
    "#     url=os.environ[\"NEO4J_URL\"],\n",
    "#     username=os.environ[\"NEO4J_USERNAME\"],\n",
    "#     password=os.environ[\"NEO4J_PASSWORD\"],\n",
    "#     database=\"vectordb\",\n",
    "#     search_type = \"hybrid\"\n",
    "# )"
   ]
  },
  {
   "cell_type": "code",
   "execution_count": 15,
   "metadata": {},
   "outputs": [
    {
     "data": {
      "text/plain": [
       "Document(metadata={'text': 'The Umbrella Academy is an American comic book series created and written by Gerard Way and illustrated by Gabriel Bá. It follows a dysfunctional family of adopted superhero siblings with bizarre powers attempting both to save the world and find their place within it. Published by Dark Horse Comics, the comic is released as limited series, typically lasting six issues. Since 2007, three volumes have been published, as have two spin-offs. The fourth volume of the main series is currently in development.\\nThe comic has garnered a close following and has been praised by critics, with the first limited series, Apocalypse Suite, winning of the 2007 Eisner Award for Best Finite Series/Limited Series. A popular television adaptation ran on Netflix for four seasons from 2019 to 2024. In 2019, Dark Horse Comics signed a collaboration with Studio71 to make a card game based on The Umbrella Academy.\\n\\n\\n== Synopsis ==\\n\\n\\n=== Plot summary ===\\nThe titular team of The Umbrella Academy is described as a \"dysfunctional family of superheroes\". In the mid-20th century, at the instant of the finishing blow in a cosmic wrestling match, forty-three superpowered infants are inexplicably born to random, unconnected women across the world who showed no signs of pregnancy at the start of the day. Sir Reginald Hargreeves, an extraterrestrial disguised as a famous entrepreneur, adopts seven of the children and prepares them to save the world from an unspecified threat as the Umbrella Academy.\\nEventually, the team disbands and the siblings fall out of contact with each other until they meet on the news of Hargreeves\\' death, and subsequently reunite when one of their own becomes a supervillain.\\n\\n\\n=== Characters ===\\n\\nThe Academy\\'s founder, Sir Reginald Hargreeves, was an alien disguised as a wealthy human entrepreneur and world-renowned scientist, and callously trained and experimented on the children to make them into superheroes. As such, he was the result of much of the team\\'s psychological scarring and trauma. He is dead when the Umbrella Academy reunites.\\nThe primary Academy members are Luther Hargreeves/Spaceboy, who possesses super-strength, Diego Hargreeves/The Kraken, who can manipulate the direction of projectiles, Allison Hargreeves/The Rumor, who can manipulate reality by lying, Klaus Hargreeves/The Séance, a psychic who can connect with the dead, and Number Five, a skilled assassin able to jump through time at will, with his travels through the timeline trapping his sixty year old mind in his unageing, ten year old body. Ben Hargreeves/The Horror, possessed tentacles that emerged from his stomach, but he is also dead when the Academy comes back together.\\nVanya Hargreeves was officially a part of the Academy, but was drugged by their father and told for years that she had no powers, before she learns she has the power to channel destructive sound waves through her violin.\\n\\n\\n=== Influences ===\\nWay has stated that his biggest influence on this piece of work is his favorite writer, Grant Morrison, and their work on Doom Patrol with DC Comics. He has also cited Pat McEown of ZombieWorld: Champion of the Worms and his favorite artist, Edvin Biuković, and his comic Grendel Tales as other major inspirations.\\n\\n\\n== Main series ==\\n\\n\\n=== Volume 1: Apocalypse Suite ===\\n\\nWritten by Gerard Way with art by Gabriel Bá, the first six-issue limited series, Apocalypse Suite, was released by Dark Horse Comics between September 14, 2007, and February 20, 2008. It won the 2007 Eisner Award for Best Finite Series/Limited Series, and was adapted into the first season of the Netflix series in 2019.\\nIn the story, the estranged members of the Umbrella Academy are reunited by the funeral of Sir Reginald Hargreeves, their father and leader, whose rigorous training and experiments during their childhoods has left them each emotionally scarred. They then have to band together when their long-lost brother, Number Five, returns from the future and tells them they need to stop an a', 'title': 'The Umbrella Academy', 'source': 'https://en.wikipedia.org/wiki/The_Umbrella_Academy'}, page_content='\\nname: \\nlocation: ')"
      ]
     },
     "execution_count": 15,
     "metadata": {},
     "output_type": "execute_result"
    }
   ],
   "source": [
    "retriever = existing_graph.as_retriever()\n",
    "retriever.invoke(\"Who is the main character of the Umbrella Academy\")[0]"
   ]
  },
  {
   "cell_type": "code",
   "execution_count": 16,
   "metadata": {},
   "outputs": [
    {
     "data": {
      "text/plain": [
       "'Chunk'"
      ]
     },
     "execution_count": 16,
     "metadata": {},
     "output_type": "execute_result"
    }
   ],
   "source": [
    "existing_graph.retrieve_existing_fts_index()"
   ]
  },
  {
   "cell_type": "markdown",
   "metadata": {},
   "source": [
    "This tells us the type of node that is being embedded. Because, the queries based in this vectors, are made agains a specific type of node always. This was specified under the node_label argument in the index definition."
   ]
  },
  {
   "cell_type": "code",
   "execution_count": 19,
   "metadata": {},
   "outputs": [
    {
     "data": {
      "text/plain": [
       "[(Document(metadata={'text': 'The Umbrella Academy is an American comic book series created and written by Gerard Way and illustrated by Gabriel Bá. It follows a dysfunctional family of adopted superhero siblings with bizarre powers attempting both to save the world and find their place within it. Published by Dark Horse Comics, the comic is released as limited series, typically lasting six issues. Since 2007, three volumes have been published, as have two spin-offs. The fourth volume of the main series is currently in development.\\nThe comic has garnered a close following and has been praised by critics, with the first limited series, Apocalypse Suite, winning of the 2007 Eisner Award for Best Finite Series/Limited Series. A popular television adaptation ran on Netflix for four seasons from 2019 to 2024.\\n\\n\\n== Synopsis ==\\n\\n\\n=== Plot summary ===\\nThe titular team of The Umbrella Academy is described as a \"dysfunctional family of superheroes\". In the mid-20th century, at the instant of the finishing blow in a cosmic wrestling match, forty-three superpowered infants are inexplicably born to random, unconnected women across the world who showed no signs of pregnancy at the start of the day. Sir Reginald Hargreeves, an extraterrestrial disguised as a famous entrepreneur, adopts seven of the children and prepares them to save the world from an unspecified threat as the Umbrella Academy.\\nEventually, the team disbands and the siblings fall out of contact with each other until they meet on the news of Hargreeves\\' death, and subsequently reunite when one of their own becomes a supervillain.\\n\\n\\n=== Characters ===\\n\\nThe Academy\\'s founder, Sir Reginald Hargreeves, was an alien disguised as a wealthy human entrepreneur and world-renowned scientist, and callously trained and experimented on the children to make them into superheroes. As such, he was the result of much of the team\\'s psychological scarring and trauma. He is dead when the Umbrella Academy reunites.\\nThe primary Academy members are Luther Hargreeves/Spaceboy, who possesses super-strength, Diego Hargreeves/The Kraken, who can manipulate the direction of projectiles, Allison Hargreeves/The Rumor, who can manipulate reality by lying, Klaus Hargreeves/The Séance, a psychic who can connect with the dead, and Number Five, a skilled assassin able to jump through time at will, with his travels through the timeline trapping his sixty year old mind in his unageing, ten year old body. Ben Hargreeves/The Horror, possessed tentacles that emerged from his stomach, but he is also dead when the Academy comes back together.\\nVanya Hargreeves was officially a part of the Academy, but was drugged by their father and told for years that she had no powers, before she learns she has the power to channel destructive sound waves through her violin.\\n\\n\\n=== Influences ===\\nWay has stated that his biggest influence on this piece of work is his favorite writer, Grant Morrison, and their work on Doom Patrol with DC Comics. He has also cited Pat McEown of ZombieWorld: Champion of the Worms and his favorite artist, Edvin Biuković, and his comic Grendel Tales as other major inspirations.\\n\\n\\n== Main series ==\\n\\n\\n=== Volume 1: Apocalypse Suite ===\\n\\nWritten by Gerard Way with art by Gabriel Bá, the first six-issue limited series, Apocalypse Suite, was released by Dark Horse Comics between September 14, 2007, and February 20, 2008. It won the 2007 Eisner Award for Best Finite Series/Limited Series, and was adapted into the first season of the Netflix series in 2019.\\nIn the story, the estranged members of the Umbrella Academy are reunited by the funeral of Sir Reginald Hargreeves, their father and leader, whose rigorous training and experiments during their childhoods has left them each emotionally scarred. They then have to band together when their long-lost brother, Number Five, returns from the future and tells them they need to stop an apocalyptic event from coming to pass.\\n\\n\\n=== Volume 2: Dallas ===\\n\\nA second limited series, The Umbrella Academy: Da', 'title': 'The Umbrella Academy', 'source': 'https://en.wikipedia.org/wiki/The_Umbrella_Academy'}, page_content='\\nname: The Umbrella Academy is an American comic book series created and written by Gerard Way and illustrated by Gabriel Bá. It follows a dysfunctional family of adopted superhero siblings with bizarre powers attempting both to save the world and find their place within it. Published by Dark Horse Comics, the comic is released as limited series, typically lasting six issues. Since 2007, three volumes have been published, as have two spin-offs. The fourth volume of the main series is currently in development.\\nThe comic has garnered a close following and has been praised by critics, with the first limited series, Apocalypse Suite, winning of the 2007 Eisner Award for Best Finite Series/Limited Series. A popular television adaptation ran on Netflix for four seasons from 2019 to 2024.\\n\\n\\n== Synopsis ==\\n\\n\\n=== Plot summary ===\\nThe titular team of The Umbrella Academy is described as a \"dysfunctional family of superheroes\". In the mid-20th century, at the instant of the finishing blow in a cosmic wrestling match, forty-three superpowered infants are inexplicably born to random, unconnected women across the world who showed no signs of pregnancy at the start of the day. Sir Reginald Hargreeves, an extraterrestrial disguised as a famous entrepreneur, adopts seven of the children and prepares them to save the world from an unspecified threat as the Umbrella Academy.\\nEventually, the team disbands and the siblings fall out of contact with each other until they meet on the news of Hargreeves\\' death, and subsequently reunite when one of their own becomes a supervillain.\\n\\n\\n=== Characters ===\\n\\nThe Academy\\'s founder, Sir Reginald Hargreeves, was an alien disguised as a wealthy human entrepreneur and world-renowned scientist, and callously trained and experimented on the children to make them into superheroes. As such, he was the result of much of the team\\'s psychological scarring and trauma. He is dead when the Umbrella Academy reunites.\\nThe primary Academy members are Luther Hargreeves/Spaceboy, who possesses super-strength, Diego Hargreeves/The Kraken, who can manipulate the direction of projectiles, Allison Hargreeves/The Rumor, who can manipulate reality by lying, Klaus Hargreeves/The Séance, a psychic who can connect with the dead, and Number Five, a skilled assassin able to jump through time at will, with his travels through the timeline trapping his sixty year old mind in his unageing, ten year old body. Ben Hargreeves/The Horror, possessed tentacles that emerged from his stomach, but he is also dead when the Academy comes back together.\\nVanya Hargreeves was officially a part of the Academy, but was drugged by their father and told for years that she had no powers, before she learns she has the power to channel destructive sound waves through her violin.\\n\\n\\n=== Influences ===\\nWay has stated that his biggest influence on this piece of work is his favorite writer, Grant Morrison, and their work on Doom Patrol with DC Comics. He has also cited Pat McEown of ZombieWorld: Champion of the Worms and his favorite artist, Edvin Biuković, and his comic Grendel Tales as other major inspirations.\\n\\n\\n== Main series ==\\n\\n\\n=== Volume 1: Apocalypse Suite ===\\n\\nWritten by Gerard Way with art by Gabriel Bá, the first six-issue limited series, Apocalypse Suite, was released by Dark Horse Comics between September 14, 2007, and February 20, 2008. It won the 2007 Eisner Award for Best Finite Series/Limited Series, and was adapted into the first season of the Netflix series in 2019.\\nIn the story, the estranged members of the Umbrella Academy are reunited by the funeral of Sir Reginald Hargreeves, their father and leader, whose rigorous training and experiments during their childhoods has left them each emotionally scarred. They then have to band together when their long-lost brother, Number Five, returns from the future and tells them they need to stop an apocalyptic event from coming to pass.\\n\\n\\n=== Volume 2: Dallas ===\\n\\nA second limited series, The Umbrella Academy: Da\\nlocation: '),\n",
       "  1.0),\n",
       " (Document(metadata={'text': 'The Umbrella Academy is an American comic book series created and written by Gerard Way and illustrated by Gabriel Bá. It follows a dysfunctional family of adopted superhero siblings with bizarre powers attempting both to save the world and find their place within it. Published by Dark Horse Comics, the comic is released as limited series, typically lasting six issues. Since 2007, three volumes have been published, as have two spin-offs. The fourth volume of the main series is currently in development.\\nThe comic has garnered a close following and has been praised by critics, with the first limited series, Apocalypse Suite, winning of the 2007 Eisner Award for Best Finite Series/Limited Series. A popular television adaptation ran on Netflix for four seasons from 2019 to 2024. In 2019, Dark Horse Comics signed a collaboration with Studio71 to make a card game based on The Umbrella Academy.\\n\\n\\n== Synopsis ==\\n\\n\\n=== Plot summary ===\\nThe titular team of The Umbrella Academy is described as a \"dysfunctional family of superheroes\". In the mid-20th century, at the instant of the finishing blow in a cosmic wrestling match, forty-three superpowered infants are inexplicably born to random, unconnected women across the world who showed no signs of pregnancy at the start of the day. Sir Reginald Hargreeves, an extraterrestrial disguised as a famous entrepreneur, adopts seven of the children and prepares them to save the world from an unspecified threat as the Umbrella Academy.\\nEventually, the team disbands and the siblings fall out of contact with each other until they meet on the news of Hargreeves\\' death, and subsequently reunite when one of their own becomes a supervillain.\\n\\n\\n=== Characters ===\\n\\nThe Academy\\'s founder, Sir Reginald Hargreeves, was an alien disguised as a wealthy human entrepreneur and world-renowned scientist, and callously trained and experimented on the children to make them into superheroes. As such, he was the result of much of the team\\'s psychological scarring and trauma. He is dead when the Umbrella Academy reunites.\\nThe primary Academy members are Luther Hargreeves/Spaceboy, who possesses super-strength, Diego Hargreeves/The Kraken, who can manipulate the direction of projectiles, Allison Hargreeves/The Rumor, who can manipulate reality by lying, Klaus Hargreeves/The Séance, a psychic who can connect with the dead, and Number Five, a skilled assassin able to jump through time at will, with his travels through the timeline trapping his sixty year old mind in his unageing, ten year old body. Ben Hargreeves/The Horror, possessed tentacles that emerged from his stomach, but he is also dead when the Academy comes back together.\\nVanya Hargreeves was officially a part of the Academy, but was drugged by their father and told for years that she had no powers, before she learns she has the power to channel destructive sound waves through her violin.\\n\\n\\n=== Influences ===\\nWay has stated that his biggest influence on this piece of work is his favorite writer, Grant Morrison, and their work on Doom Patrol with DC Comics. He has also cited Pat McEown of ZombieWorld: Champion of the Worms and his favorite artist, Edvin Biuković, and his comic Grendel Tales as other major inspirations.\\n\\n\\n== Main series ==\\n\\n\\n=== Volume 1: Apocalypse Suite ===\\n\\nWritten by Gerard Way with art by Gabriel Bá, the first six-issue limited series, Apocalypse Suite, was released by Dark Horse Comics between September 14, 2007, and February 20, 2008. It won the 2007 Eisner Award for Best Finite Series/Limited Series, and was adapted into the first season of the Netflix series in 2019.\\nIn the story, the estranged members of the Umbrella Academy are reunited by the funeral of Sir Reginald Hargreeves, their father and leader, whose rigorous training and experiments during their childhoods has left them each emotionally scarred. They then have to band together when their long-lost brother, Number Five, returns from the future and tells them they need to stop an a', 'title': 'The Umbrella Academy', 'source': 'https://en.wikipedia.org/wiki/The_Umbrella_Academy'}, page_content='\\nname: \\nlocation: '),\n",
       "  0.9990077782651655),\n",
       " (Document(metadata={'text': 'The Umbrella Academy is an American superhero television series based on the comic book series of the same name written by Gerard Way, illustrated by Gabriel Bá, and published by Dark Horse Comics. Created for Netflix by Steve Blackman and developed by Jeremy Slater, it revolves around a dysfunctional family of adopted sibling superheroes who reunite to solve the mystery of their father\\'s death and the threat of an imminent apocalypse. The series is produced by Borderline Entertainment (season 1–2), Irish Cowboy (season 3), Dark Horse Entertainment, and Universal Content Productions. Netflix gave seasons 1 and 2 a TV-14 rating, while seasons 3 and 4 received a TV-MA rating.\\nThe cast features Elliot Page, Tom Hopper, David Castañeda, Emmy Raver-Lampman, Robert Sheehan, Aidan Gallagher, Cameron Britton, Mary J. Blige, John Magaro, Adam Godley, Colm Feore, Justin H. Min, Ritu Arya, Yusuf Gatewood, Marin Ireland, Kate Walsh, Genesis Rodriguez, and Britne Oldford. The adaptation began development as a film optioned by Universal Pictures in 2011. It was eventually shelved in favor of a television series in 2015, before being officially greenlit by Netflix in July 2017. The series is filmed in Toronto and Hamilton, both of which are located in Ontario.\\nThe first season was released on Netflix on February 15, 2019. In April 2019, Netflix reported that 45 million households had watched season one during its first month of release, thus becoming one of the most-streamed series of the year. The second and third seasons subsequently followed on July 31, 2020, and June 22, 2022, respectively. In August 2022, the series was renewed for a fourth and final season, which was released on August 8, 2024.\\nThe first three seasons received positive reviews from critics, while the final season was met with a more mixed reception. The series has received a number of accolades, including six Emmy nominations.\\n\\n\\n== Premise ==\\nThe Umbrella Academy is set in a universe where 43 women around the world gave birth simultaneously at noon on October 1, 1989, although none had shown any sign of pregnancy until labor began. Seven of the children are adopted by eccentric billionaire Sir Reginald Hargreeves and turned into a superhero team that he calls \"The Umbrella Academy.\" Hargreeves gives the children numbers rather than names, but their robot-mother, Grace, later names six of them: Luther, Diego, Allison, Klaus, Ben, and Vanya. Reginald puts six of the children to work fighting crime but keeps Vanya apart from her siblings\\' activities, claiming she demonstrates no powers of her own.\\nThe first season is set in the present day, where Luther is part ape and has lived on the Moon for four years, Allison is a famous actress, Vanya is a violinist, Klaus has a drug addiction, Five disappeared sixteen years earlier, Ben, now deceased, is a ghost able to converse only with Klaus, and Diego has become a vigilante. The estranged siblings learn that Reginald has died and gather for his funeral. Five returns from the future, revealing that a global apocalypse is imminent, but is chased by time-travelling Commission operatives Hazel and Cha-Cha. The reunited siblings try to uncover the secrets behind Reginald Hargreeves\\' life and their dysfunctional relationships are strained. They band together to try to prevent the impending apocalypse.\\nThe second season sees the siblings scattered in Dallas at different times in the early 1960s (as a result of the events of the first season), establishing lives for themselves. Five arrives there on November 25, 1963, minutes before a nuclear doomsday that is linked to JFK not being assassinated, but with the help of Hazel manages to travel back ten days. Five is hunted by a trio of Swedish assassins but finds his siblings, who have all made new lives, and attempts to reunite them in order to stop this new apocalypse.\\nIn the third season the siblings realize their actions in the past created a new timeline and returning to 2019 is vast', 'title': 'The Umbrella Academy (TV series)', 'source': 'https://en.wikipedia.org/wiki/The_Umbrella_Academy_(TV_series)'}, page_content='\\nname: The Umbrella Academy is an American superhero television series based on the comic book series of the same name written by Gerard Way, illustrated by Gabriel Bá, and published by Dark Horse Comics. Created for Netflix by Steve Blackman and developed by Jeremy Slater, it revolves around a dysfunctional family of adopted sibling superheroes who reunite to solve the mystery of their father\\'s death and the threat of an imminent apocalypse. The series is produced by Borderline Entertainment (season 1–2), Irish Cowboy (season 3), Dark Horse Entertainment, and Universal Content Productions. Netflix gave seasons 1 and 2 a TV-14 rating, while seasons 3 and 4 received a TV-MA rating.\\nThe cast features Elliot Page, Tom Hopper, David Castañeda, Emmy Raver-Lampman, Robert Sheehan, Aidan Gallagher, Cameron Britton, Mary J. Blige, John Magaro, Adam Godley, Colm Feore, Justin H. Min, Ritu Arya, Yusuf Gatewood, Marin Ireland, Kate Walsh, Genesis Rodriguez, and Britne Oldford. The adaptation began development as a film optioned by Universal Pictures in 2011. It was eventually shelved in favor of a television series in 2015, before being officially greenlit by Netflix in July 2017. The series is filmed in Toronto and Hamilton, both of which are located in Ontario.\\nThe first season was released on Netflix on February 15, 2019. In April 2019, Netflix reported that 45 million households had watched season one during its first month of release, thus becoming one of the most-streamed series of the year. The second and third seasons subsequently followed on July 31, 2020, and June 22, 2022, respectively. In August 2022, the series was renewed for a fourth and final season, which was released on August 8, 2024.\\nThe first three seasons received positive reviews from critics, while the final season was met with a more mixed reception. The series has received a number of accolades, including six Emmy nominations.\\n\\n\\n== Premise ==\\nThe Umbrella Academy is set in a universe where 43 women around the world gave birth simultaneously at noon on October 1, 1989, although none had shown any sign of pregnancy until labor began. Seven of the children are adopted by eccentric billionaire Sir Reginald Hargreeves and turned into a superhero team that he calls \"The Umbrella Academy.\" Hargreeves gives the children numbers rather than names, but their robot-mother, Grace, later names six of them: Luther, Diego, Allison, Klaus, Ben, and Vanya. Reginald puts six of the children to work fighting crime but keeps Vanya apart from her siblings\\' activities, claiming she demonstrates no powers of her own.\\nThe first season is set in the present day, where Luther is part ape and has lived on the Moon for four years, Allison is a famous actress, Vanya is a violinist, Klaus has a drug addiction, Five disappeared sixteen years earlier, Ben, now deceased, is a ghost able to converse only with Klaus, and Diego has become a vigilante. The estranged siblings learn that Reginald has died and gather for his funeral. Five returns from the future, revealing that a global apocalypse is imminent, but is chased by time-travelling Commission operatives Hazel and Cha-Cha. The reunited siblings try to uncover the secrets behind Reginald Hargreeves\\' life and their dysfunctional relationships are strained. They band together to try to prevent the impending apocalypse.\\nThe second season sees the siblings scattered in Dallas at different times in the early 1960s (as a result of the events of the first season), establishing lives for themselves. Five arrives there on November 25, 1963, minutes before a nuclear doomsday that is linked to JFK not being assassinated, but with the help of Hazel manages to travel back ten days. Five is hunted by a trio of Swedish assassins but finds his siblings, who have all made new lives, and attempts to reunite them in order to stop this new apocalypse.\\nIn the third season the siblings realize their actions in the past created a new timeline and returning to 2019 is vast\\nlocation: '),\n",
       "  0.9953037699441276),\n",
       " (Document(metadata={'text': 'The second season of the superhero comedy drama television series The Umbrella Academy was released on Netflix on July 31, 2020, and consisted of 10 episodes. Created for television by Steve Blackman and developed Jeremy Slater, the series is an adaptation of the comic book series of the same name written by Gerard Way and illustrated by Gabriel Bá, both of whom serve as executive producers on the series. The second season adapts the second story arc of the comics, Dallas, and revolves around the Hargreeves siblings being scattered throughout the \\'60s in Dallas, reuniting to put a stop to yet another incoming apocalypse caused by their timeline interference.\\nThe second season features Elliot Page, Tom Hopper, David Castañeda, Emmy Raver-Lampman, Robert Sheehan, Aidan Gallagher, Justin H. Min, Ritu Arya, Yusuf Gatewood, Marin Ireland, Adam Godley, Kate Walsh, and Colm Feore as a part of the main cast, while Kevin Rankin, Jordan Claire Robbins, Justin Paul Kelly, John Kapelos, and Kris Holden-Ried appear in recurring roles. This season received positive reviews, with much praise to the music, humor, action sequences, character dynamics, and pacing, and many deeming it an improvement over the first season.\\n\\n\\n== Cast and characters ==\\n\\n\\n=== Main ===\\nElliot Page as Vanya Hargreeves / Number Seven\\nT.J. McGibbon as young Vanya\\nTom Hopper as Luther Hargreeves / Number One\\nCameron Brodeur as young Luther\\nDavid Castañeda as Diego Hargreeves / Number Two\\nBlake Talabis as young Diego\\nEmmy Raver-Lampman as Allison Hargreeves / Number Three\\nEden Cupid as young Allison\\nRobert Sheehan as Klaus Hargreeves / Number Four\\nDante Albidone as young Klaus\\nAidan Gallagher as Number Five\\nJustin H. Min as  Ben Hargreeves / Number Six\\nEthan Hwang as young Ben\\nMin also portrays an alternate version of Ben (Number Two) that appears as a part of the Sparrow Academy in the final episode.\\nRitu Arya as Lila Pitts\\nYusuf Gatewood as Raymond \"Ray\" Chestnut\\nMarin Ireland as Sissy Cooper\\nAdam Godley as Pogo\\nKate Walsh as The Handler\\nColm Feore as Sir Reginald Hargreeves\\n\\n\\n=== Recurring ===\\nKevin Rankin as Elliott Gussman\\nJordan Claire Robbins as Grace\\nJustin Paul Kelly as Harlan Cooper\\nJohn Kapelos as Jack Ruby\\nKris Holden-Ried as Axel\\nJason Bryden as Otto\\nTom Sinclair as Oscar\\nStephen Bogaert as Carl Cooper\\nKen Hall as Herb\\nDov Tiefenbach as Keechie\\nRobin Atkin Downes as A.J. Carmichael\\nMouna Traoré as Jill\\n\\n\\n== Episodes ==\\n\\n\\n== Production ==\\n\\n\\n=== Development ===\\nFollowing the success of the first season, on April 2, 2019, the series was renewed for a second season, which was released on July 31, 2020. It was also confirmed that the second season will consist of ten episodes, like the previous season. The season release date remained unknown until May 18, 2020, when a teaser trailer concept was released where the main cast danced to \"I Think We\\'re Alone Now\" by Tiffany. Steve Blackman confirmed to The Hollywood Reporter that he wants to stay in the course of what the comics are doing without deviating too much. On June 26 it was revealed that the series will be taking place at the 60s in Dallas, due to the time travel from the end of the previous season.\\n\\n\\n=== Casting ===\\nFollowing the renewal, Elliot Page, Tom Hopper, David Castañeda, Emmy Raver-Lampman, Robert Sheehan, and Aidan Gallagher were all confirmed to be returning to reprise their roles as the Hargreeves siblings. In January 2020, Justin H. Min and Kate Walsh were promoted to series regulars for the second season, following their recurring roles in the first season. On September 10, 2019, Netflix announced that three additional actors — Ritu Arya, Marin Ireland and Yusuf Gatewood — would join the cast. On October 17, 2019, John Kapelos announced that he would be joining the recurring cast as Jack Ruby, the man who killed Lee Harvey Oswald.\\n\\n\\n=== Filming ===\\nPrincipal photography for the second season began on June 16, 2019. Like the previous season, it was filmed in Toronto and Hamilton, Ontario, despi', 'title': 'The Umbrella Academy season 2', 'source': 'https://en.wikipedia.org/wiki/The_Umbrella_Academy_season_2'}, page_content='\\nname: The second season of the superhero comedy drama television series The Umbrella Academy was released on Netflix on July 31, 2020, and consisted of 10 episodes. Created for television by Steve Blackman and developed Jeremy Slater, the series is an adaptation of the comic book series of the same name written by Gerard Way and illustrated by Gabriel Bá, both of whom serve as executive producers on the series. The second season adapts the second story arc of the comics, Dallas, and revolves around the Hargreeves siblings being scattered throughout the \\'60s in Dallas, reuniting to put a stop to yet another incoming apocalypse caused by their timeline interference.\\nThe second season features Elliot Page, Tom Hopper, David Castañeda, Emmy Raver-Lampman, Robert Sheehan, Aidan Gallagher, Justin H. Min, Ritu Arya, Yusuf Gatewood, Marin Ireland, Adam Godley, Kate Walsh, and Colm Feore as a part of the main cast, while Kevin Rankin, Jordan Claire Robbins, Justin Paul Kelly, John Kapelos, and Kris Holden-Ried appear in recurring roles. This season received positive reviews, with much praise to the music, humor, action sequences, character dynamics, and pacing, and many deeming it an improvement over the first season.\\n\\n\\n== Cast and characters ==\\n\\n\\n=== Main ===\\nElliot Page as Vanya Hargreeves / Number Seven\\nT.J. McGibbon as young Vanya\\nTom Hopper as Luther Hargreeves / Number One\\nCameron Brodeur as young Luther\\nDavid Castañeda as Diego Hargreeves / Number Two\\nBlake Talabis as young Diego\\nEmmy Raver-Lampman as Allison Hargreeves / Number Three\\nEden Cupid as young Allison\\nRobert Sheehan as Klaus Hargreeves / Number Four\\nDante Albidone as young Klaus\\nAidan Gallagher as Number Five\\nJustin H. Min as  Ben Hargreeves / Number Six\\nEthan Hwang as young Ben\\nMin also portrays an alternate version of Ben (Number Two) that appears as a part of the Sparrow Academy in the final episode.\\nRitu Arya as Lila Pitts\\nYusuf Gatewood as Raymond \"Ray\" Chestnut\\nMarin Ireland as Sissy Cooper\\nAdam Godley as Pogo\\nKate Walsh as The Handler\\nColm Feore as Sir Reginald Hargreeves\\n\\n\\n=== Recurring ===\\nKevin Rankin as Elliott Gussman\\nJordan Claire Robbins as Grace\\nJustin Paul Kelly as Harlan Cooper\\nJohn Kapelos as Jack Ruby\\nKris Holden-Ried as Axel\\nJason Bryden as Otto\\nTom Sinclair as Oscar\\nStephen Bogaert as Carl Cooper\\nKen Hall as Herb\\nDov Tiefenbach as Keechie\\nRobin Atkin Downes as A.J. Carmichael\\nMouna Traoré as Jill\\n\\n\\n== Episodes ==\\n\\n\\n== Production ==\\n\\n\\n=== Development ===\\nFollowing the success of the first season, on April 2, 2019, the series was renewed for a second season, which was released on July 31, 2020. It was also confirmed that the second season will consist of ten episodes, like the previous season. The season release date remained unknown until May 18, 2020, when a teaser trailer concept was released where the main cast danced to \"I Think We\\'re Alone Now\" by Tiffany. Steve Blackman confirmed to The Hollywood Reporter that he wants to stay in the course of what the comics are doing without deviating too much. On June 26 it was revealed that the series will be taking place at the 60s in Dallas, due to the time travel from the end of the previous season.\\n\\n\\n=== Casting ===\\nFollowing the renewal, Elliot Page, Tom Hopper, David Castañeda, Emmy Raver-Lampman, Robert Sheehan, and Aidan Gallagher were all confirmed to be returning to reprise their roles as the Hargreeves siblings. In January 2020, Justin H. Min and Kate Walsh were promoted to series regulars for the second season, following their recurring roles in the first season. On September 10, 2019, Netflix announced that three additional actors — Ritu Arya, Marin Ireland and Yusuf Gatewood — would join the cast. On October 17, 2019, John Kapelos announced that he would be joining the recurring cast as Jack Ruby, the man who killed Lee Harvey Oswald.\\n\\n\\n=== Filming ===\\nPrincipal photography for the second season began on June 16, 2019. Like the previous season, it was filmed in Toronto and Hamilton, Ontario, despi\\nlocation: '),\n",
       "  0.9869783012765128),\n",
       " (Document(metadata={'text': 'The third season of the superhero comedy drama television series The Umbrella Academy was released on Netflix on June 22, 2022, and consisted of 10 episodes. Created for television by Steve Blackman and developed Jeremy Slater, the series is an adaptation of the comic book series of the same name written by Gerard Way and illustrated by Gabriel Bá, both of whom serve as executive producers on the series. The third season loosely adapts the third story arc of the comics, Hotel Oblivion, and revolves around the Hargreeves siblings returning to 2019 after preventing the apocalypse and finding themselves in a new timeline where their father, Reginald Hargreeves, adopted seven different children.\\nThe third season features Elliot Page, Tom Hopper, David Castañeda, Emmy Raver-Lampman, Robert Sheehan, Aidan Gallagher, Justin H. Min, Ritu Arya, Genesis Rodriguez, Britne Oldford, and Colm Feore as part of the main cast, while Jordan Claire Robbins, Callum Keith Rennie, Justin Cornwell, Jake Epstein, Cazzie David, and Javon Walton appear in recurring roles. The third season received generally positive reviews for its humor and character drama, but was criticized by some for its pacing and story.\\n\\n\\n== Cast and characters ==\\n\\n\\n=== Main ===\\nElliot Page as Viktor Hargreeves (Vanya Hargreeves) / Number Seven\\nTom Hopper as Luther Hargreeves / Number One\\nDavid Castañeda as Diego Hargreeves / Number Two\\nEmmy Raver-Lampman as Allison Hargreeves / Number Three\\nRobert Sheehan as Klaus Hargreeves / Number Four\\nDante Albidone as young Klaus\\nAidan Gallagher as Number Five\\nSean Sullivan as elderly Five\\nJustin H. Min as Ben Hargreeves / Sparrow Number Two\\nRitu Arya as Lila Pitts\\nGenesis Rodriguez as Sloane Hargreeves / Sparrow Number Five\\nBritne Oldford as Fei Hargreeves / Sparrow Number Three\\nColm Feore as Sir Reginald Hargreeves\\n\\n\\n=== Recurring ===\\nJordan Claire Robbins as Grace\\nCallum Keith Rennie as Harlan Cooper / Lester Pocket\\nJustin Paul Kelly as a young Harlan\\nYusuf Gatewood as Raymond \"Ray\" Chestnut\\nJustin Cornwell as Marcus Hargreeves / Sparrow Number One\\nJake Epstein as Alphonso Hargreeves / Sparrow Number Four\\nCazzie David as Jayme Hargreeves / Sparrow Number Six\\nJavon Walton as Stanley \"Stan\"\\nJulian Richings as Chet Rodo\\n\\n\\n=== Guest ===\\nMarin Ireland as Sissy Cooper\\nKate Walsh as The Handler (voice cameo)\\nAdam Godley as Pogo\\n\\n\\n== Episodes ==\\n\\n\\n== Production ==\\n\\n\\n=== Development ===\\nOn November 10, 2020, Netflix renewed the series for the third season, which was released on June 22, 2022. While the series initially had a \"TV-14\" rating for its first two seasons, the maturity rating was increased to \"TV-MA\" for its third season, mainly due to an increase in profanity.\\n\\n\\n=== Writing ===\\nIn June 2022, it was revealed, according to series creator Steve Blackman, that the season 3 scripts were complete when Elliot Page called him to share the news of his transition, with Blackman feeling it was \"very important\" that he and Page collaborate on incorporating Viktor\\'s transition into the existing scripts. This led to Thomas Page McBee, who previously worked with Page on 2019\\'s Tales of the City, being brought onboard to ensure that the storyline where Viktor comes out as trans was handled with care and respect.\\n\\n\\n=== Casting ===\\nOn January 11, 2021, it was announced that Justin Cornwell, Britne Oldford, Genesis Rodriguez, Cazzie David, and Jake Epstein joined the cast as part of the Sparrow Academy for the third season. In January 2022, Javon Walton revealed in an interview he joined the cast in an undisclosed role for the third season.\\n\\n\\n=== Filming ===\\nFilming for the third season began on February 7, 2021, and concluded on August 28, 2021.\\n\\n\\n== Reception ==\\n\\n\\n=== Critical response ===\\nFor the third season, Rotten Tomatoes reports a 91% approval rating with an average rating of 7.6/10, based on 57 reviews. The website\\'s critics consensus reads, \"The Umbrella Academy unfurls a bit beyond a manageable scope in this overstuffed season, but there rema', 'title': 'The Umbrella Academy season 3', 'source': 'https://en.wikipedia.org/wiki/The_Umbrella_Academy_season_3'}, page_content='\\nname: \\nlocation: '),\n",
       "  0.9858023399042062)]"
      ]
     },
     "execution_count": 19,
     "metadata": {},
     "output_type": "execute_result"
    }
   ],
   "source": [
    "existing_graph.similarity_search_with_relevance_scores(query=\"Madeup words indav 9owbsh\",k=10)"
   ]
  },
  {
   "cell_type": "markdown",
   "metadata": {},
   "source": [
    "Here we can see other of the main points of performing a hybrid search. In this case, both simmilarities are being normalized so the values are between 0 and 1, and both methods can be compared. We can see the real queries being made in the [docs](https://python.langchain.com/v0.2/api_reference/community/vectorstores/langchain_community.vectorstores.neo4j_vector.IndexType.html#langchain_community.vectorstores.neo4j_vector.IndexType) (_get_search_index_query)"
   ]
  },
  {
   "cell_type": "markdown",
   "metadata": {},
   "source": []
  }
 ],
 "metadata": {
  "kernelspec": {
   "display_name": "langchain_tutorials",
   "language": "python",
   "name": "python3"
  },
  "language_info": {
   "codemirror_mode": {
    "name": "ipython",
    "version": 3
   },
   "file_extension": ".py",
   "mimetype": "text/x-python",
   "name": "python",
   "nbconvert_exporter": "python",
   "pygments_lexer": "ipython3",
   "version": "3.10.11"
  }
 },
 "nbformat": 4,
 "nbformat_minor": 2
}
